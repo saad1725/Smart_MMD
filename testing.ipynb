{
 "cells": [
  {
   "cell_type": "code",
   "execution_count": 1,
   "metadata": {},
   "outputs": [],
   "source": [
    "import numpy as np\n",
    "import pandas as pd\n",
    "import matplotlib.pyplot as plt\n",
    "from matplotlib.pyplot import figure\n",
    "#import seaborn as sns\n",
    "from sklearn import preprocessing\n",
    "from sklearn.model_selection import train_test_split\n",
    "from sklearn.feature_selection import SelectKBest\n",
    "from sklearn.feature_selection import chi2\n",
    "from sklearn.metrics import accuracy_score\n",
    "from sklearn.svm import SVC\n",
    "import sklearn\n",
    "import glob\n",
    "import pickle\n",
    "import time\n",
    "#from xgboost import XGBClassifier\n",
    "from sklearn.metrics import confusion_matrix,ConfusionMatrixDisplay,plot_confusion_matrix\n",
    "from sklearn.utils import shuffle\n",
    "%matplotlib inline"
   ]
  },
  {
   "cell_type": "code",
   "execution_count": null,
   "metadata": {},
   "outputs": [],
   "source": [
    "path = '/home/saad/mine detector/test data' # use your path\n",
    "all_files = glob.glob(path + \"/*.csv\")\n",
    "\n",
    "# 16408\n",
    "# 53846\n",
    "count=0\n",
    "air_p=[]\n",
    "air_n=[]\n",
    "stone_p=[]\n",
    "stone_n=[]\n",
    "fs_p=[]\n",
    "fs_n=[]\n",
    "heavy_p=[]\n",
    "heavy_n=[]\n",
    "coin_p=[]\n",
    "coin_n=[]\n",
    "mine_p=[]\n",
    "mine_n=[]\n",
    "pin_p=[]\n",
    "pin_n=[]\n",
    "\n",
    "for i in all_files:\n",
    "    print(i)\n",
    "    if 'air' in i[-30:].split('/')[-1]:\n",
    "        air=pd.read_csv(i)\n",
    "        air_p.append(air.iloc[:,0])\n",
    "        air_n.append(air.iloc[:,1])\n",
    "    if 'coin' in i[-30:].split('/')[-1]:\n",
    "        coin=pd.read_csv(i)\n",
    "        coin_p.append(coin.iloc[:,0])\n",
    "        coin_n.append(coin.iloc[:,1])\n",
    "\n",
    "    if 'fibersheet' in i[-30:].split('/')[-1]:\n",
    "        fs=pd.read_csv(i)\n",
    "        fs_p.append(fs.iloc[:,0])\n",
    "        fs_n.append(fs.iloc[:,1])\n",
    "    if 'heavy' in i[-30:].split('/')[-1]:\n",
    "        h=pd.read_csv(i)\n",
    "        heavy_p.append(h.iloc[:,0])\n",
    "        heavy_n.append(h.iloc[:,1])\n",
    "    if 'mine' in i[-30:].split('/')[-1]:\n",
    "        m=pd.read_csv(i)\n",
    "        mine_p.append(m.iloc[:,0])\n",
    "        mine_n.append(m.iloc[:,1])\n",
    "       \n",
    "    if 'pin' in i[-30:].split('/')[-1]:\n",
    "        p=pd.read_csv(i)\n",
    "        pin_p.append(p.iloc[:,0])\n",
    "        pin_n.append(p.iloc[:,1])\n",
    "        \n",
    "    if 'stone' in i[-30:].split('/')[-1]:\n",
    "        s=pd.read_csv(i)\n",
    "        stone_p.append(s.iloc[:,0])\n",
    "        stone_n.append(s.iloc[:,1])\n",
    "    \n",
    "air_p=np.array(air_p).flatten()\n",
    "coin_p=np.array(coin_p).flatten()\n",
    "mine_p=np.array(mine_p).flatten()\n",
    "fs_p=np.array(fs_p).flatten()\n",
    "stone_p=np.array(stone_p).flatten()\n",
    "pin_p=np.array(pin_p).flatten()\n",
    "heavy_p=np.array(heavy_p).flatten()\n",
    "air_n=np.array(air_n).flatten()\n",
    "coin_n=np.array(coin_n).flatten()\n",
    "mine_n=np.array(mine_n).flatten()\n",
    "fs_n=np.array(fs_n).flatten()\n",
    "stone_n=np.array(stone_n).flatten()\n",
    "pin_n=np.array(pin_n).flatten()\n",
    "heavy_n=np.array(heavy_n).flatten()"
   ]
  },
  {
   "cell_type": "code",
   "execution_count": 16,
   "metadata": {},
   "outputs": [],
   "source": [
    "df=pd.DataFrame(({'1':stone_p, '2':stone_n})).to_csv('/home/saad/latest 5.2 data/testing_data/stone.csv')\n",
    "df=pd.DataFrame(({'1':mine_p, '2':mine_n})).to_csv('/home/saad/latest 5.2 data/testing_data/mine.csv')\n",
    "df=pd.DataFrame(({'1':pin_p, '2':pin_n})).to_csv('/home/saad/latest 5.2 data/testing_data/pin.csv')\n",
    "df=pd.DataFrame(({'1':coin_p, '2':coin_n})).to_csv('/home/saad/latest 5.2 data/testing_data/coin.csv')\n",
    "df=pd.DataFrame(({'1':air_p, '2':air_n})).to_csv('/home/saad/latest 5.2 data/testing_data/air.csv')\n",
    "df=pd.DataFrame(({'1':fs_p, '2':fs_n})).to_csv('/home/saad/latest 5.2 data/testing_data/fibersheet.csv')\n"
   ]
  },
  {
   "cell_type": "code",
   "execution_count": 17,
   "metadata": {},
   "outputs": [
    {
     "data": {
      "text/html": [
       "<div>\n",
       "<style scoped>\n",
       "    .dataframe tbody tr th:only-of-type {\n",
       "        vertical-align: middle;\n",
       "    }\n",
       "\n",
       "    .dataframe tbody tr th {\n",
       "        vertical-align: top;\n",
       "    }\n",
       "\n",
       "    .dataframe thead th {\n",
       "        text-align: right;\n",
       "    }\n",
       "</style>\n",
       "<table border=\"1\" class=\"dataframe\">\n",
       "  <thead>\n",
       "    <tr style=\"text-align: right;\">\n",
       "      <th></th>\n",
       "      <th>1</th>\n",
       "      <th>2</th>\n",
       "    </tr>\n",
       "  </thead>\n",
       "  <tbody>\n",
       "    <tr>\n",
       "      <th>0</th>\n",
       "      <td>33669</td>\n",
       "      <td>33476</td>\n",
       "    </tr>\n",
       "    <tr>\n",
       "      <th>1</th>\n",
       "      <td>33624</td>\n",
       "      <td>33470</td>\n",
       "    </tr>\n",
       "    <tr>\n",
       "      <th>2</th>\n",
       "      <td>33673</td>\n",
       "      <td>33522</td>\n",
       "    </tr>\n",
       "    <tr>\n",
       "      <th>3</th>\n",
       "      <td>33621</td>\n",
       "      <td>33431</td>\n",
       "    </tr>\n",
       "    <tr>\n",
       "      <th>4</th>\n",
       "      <td>33353</td>\n",
       "      <td>33461</td>\n",
       "    </tr>\n",
       "    <tr>\n",
       "      <th>...</th>\n",
       "      <td>...</td>\n",
       "      <td>...</td>\n",
       "    </tr>\n",
       "    <tr>\n",
       "      <th>799987</th>\n",
       "      <td>33687</td>\n",
       "      <td>33487</td>\n",
       "    </tr>\n",
       "    <tr>\n",
       "      <th>799988</th>\n",
       "      <td>33747</td>\n",
       "      <td>33279</td>\n",
       "    </tr>\n",
       "    <tr>\n",
       "      <th>799989</th>\n",
       "      <td>33717</td>\n",
       "      <td>33332</td>\n",
       "    </tr>\n",
       "    <tr>\n",
       "      <th>799990</th>\n",
       "      <td>33669</td>\n",
       "      <td>33802</td>\n",
       "    </tr>\n",
       "    <tr>\n",
       "      <th>799991</th>\n",
       "      <td>33709</td>\n",
       "      <td>33978</td>\n",
       "    </tr>\n",
       "  </tbody>\n",
       "</table>\n",
       "<p>799992 rows × 2 columns</p>\n",
       "</div>"
      ],
      "text/plain": [
       "            1      2\n",
       "0       33669  33476\n",
       "1       33624  33470\n",
       "2       33673  33522\n",
       "3       33621  33431\n",
       "4       33353  33461\n",
       "...       ...    ...\n",
       "799987  33687  33487\n",
       "799988  33747  33279\n",
       "799989  33717  33332\n",
       "799990  33669  33802\n",
       "799991  33709  33978\n",
       "\n",
       "[799992 rows x 2 columns]"
      ]
     },
     "execution_count": 17,
     "metadata": {},
     "output_type": "execute_result"
    }
   ],
   "source": [
    "df=pd.DataFrame(({'1':stone_p, '2':stone_n}))\n",
    "df"
   ]
  },
  {
   "cell_type": "code",
   "execution_count": 18,
   "metadata": {},
   "outputs": [
    {
     "name": "stdout",
     "output_type": "stream",
     "text": [
      "/home/saad/latest 5.2 data/testing_data/pin.csv\n",
      "(155, 3678)\n",
      "/home/saad/latest 5.2 data/testing_data/air.csv\n",
      "(155, 3999)\n",
      "/home/saad/latest 5.2 data/testing_data/fibersheet.csv\n",
      "(155, 4000)\n",
      "/home/saad/latest 5.2 data/testing_data/stone.csv\n",
      "(155, 4000)\n",
      "/home/saad/latest 5.2 data/testing_data/mine.csv\n",
      "(155, 3000)\n",
      "/home/saad/latest 5.2 data/testing_data/coin.csv\n",
      "(155, 4000)\n"
     ]
    }
   ],
   "source": [
    "path = '/home/saad/latest 5.2 data/testing_data' # use your path\n",
    "all_files = glob.glob(path + \"/*.csv\")\n",
    "\n",
    "count=0\n",
    "for i in all_files:\n",
    "    print(i)\n",
    "    data=pd.read_csv(i)\n",
    "    list_cord=list(data.loc[:,'1'])\n",
    "#     list_cord=list_cord[200:]\n",
    "    diff=[]\n",
    "    peak=[]\n",
    "    peak1=[]\n",
    "    peak2=[]\n",
    "    peak3=[]\n",
    "    peak4=[]\n",
    "    l_50=[]\n",
    "    collect={}\n",
    "    i=35\n",
    "    \n",
    "    w=0\n",
    "    while i <len(list_cord):\n",
    "        if list_cord[i]>55000:\n",
    "            peak=list_cord[i-35:i+120]\n",
    "#             peak1=list_cord[i-37:i+167]\n",
    "#             peak2=list_cord[i-35:i+173]\n",
    "#             peak3=list_cord[i-30:i+178]\n",
    "#             peak4=list_cord[i-25:i+162]\n",
    "            w=w+1\n",
    "            #print(w)\n",
    "            if len(peak)<155:\n",
    "                d=155-len(peak)\n",
    "                                \n",
    "                for f in range(0,d):\n",
    "                    peak.append(peak[-1:][0])\n",
    "                    \n",
    "#             if len(peak1)<210:\n",
    "#                 d=210-len(peak1)\n",
    "                               \n",
    "#                 for f in range(0,d):\n",
    "#                     peak1.append(33803)\n",
    "                    \n",
    "#             if len(peak2)<210:\n",
    "#                 d=210-len(peak2)\n",
    "                               \n",
    "#                 for f in range(0,d):\n",
    "#                     peak2.append(33803)\n",
    "                    \n",
    "#             if len(peak3)<210:\n",
    "#                 d=210-len(peak3)\n",
    "                                \n",
    "#                 for f in range(0,d):\n",
    "#                     peak3.append(33803)\n",
    "#             if len(peak4)<210 or len(peak):\n",
    "#                 d=210-len(peak4)\n",
    "           \n",
    "#                 for f in range(0,d):\n",
    "#                     peak4.append(33803) \n",
    "            #print(len(peak),len(peak1),len(peak2),len(peak3),len(peak4))\n",
    "            collect[w]=peak\n",
    "#             collect[w+1]=peak1\n",
    "#             collect[w+2]=peak2\n",
    "#             collect[w+3]=peak3\n",
    "#             collect[w+4]=peak4\n",
    "            i=i+165\n",
    "        i=i+1\n",
    "    dump=pd.DataFrame(collect)\n",
    "    dump=dump.iloc[:,dump.columns!=0]\n",
    "    file_n=all_files[count][-30:].split('/')[-1]\n",
    "    print(dump.shape)\n",
    "    pd.DataFrame(collect).to_csv('/home/saad/latest 5.2 data/testing_data/positives/'+file_n,header=False)\n",
    "    count=count+1"
   ]
  },
  {
   "cell_type": "code",
   "execution_count": 19,
   "metadata": {},
   "outputs": [],
   "source": [
    "# df=pd.read_csv('/home/saad/MMD data/testingdata/negatives/mine.csv')"
   ]
  },
  {
   "cell_type": "code",
   "execution_count": null,
   "metadata": {},
   "outputs": [],
   "source": []
  },
  {
   "cell_type": "code",
   "execution_count": 20,
   "metadata": {},
   "outputs": [
    {
     "name": "stdout",
     "output_type": "stream",
     "text": [
      "/home/saad/latest 5.2 data/testing_data/pin.csv\n",
      "(140, 4000)\n",
      "/home/saad/latest 5.2 data/testing_data/air.csv\n",
      "(140, 4000)\n",
      "/home/saad/latest 5.2 data/testing_data/fibersheet.csv\n",
      "(140, 4000)\n",
      "/home/saad/latest 5.2 data/testing_data/stone.csv\n",
      "(140, 4000)\n",
      "/home/saad/latest 5.2 data/testing_data/mine.csv\n",
      "(140, 3000)\n",
      "/home/saad/latest 5.2 data/testing_data/coin.csv\n",
      "(140, 4000)\n"
     ]
    }
   ],
   "source": [
    "path = '/home/saad/latest 5.2 data/testing_data/' # use your path\n",
    "all_files = glob.glob(path + \"/*.csv\")\n",
    "\n",
    "count=0\n",
    "for i in all_files:\n",
    "    print(i)\n",
    "    data=pd.read_csv(i)\n",
    "    list_cord=list(data.loc[:,'2'])\n",
    "#     list_cord=list_cord[200:]\n",
    "    diff=[]\n",
    "    peak=[]\n",
    "    peak1=[]\n",
    "    peak2=[]\n",
    "    peak3=[]\n",
    "    peak4=[]\n",
    "    l_50=[]\n",
    "    collect={}\n",
    "    i=50\n",
    "    \n",
    "    w=0\n",
    "    while i <len(list_cord):\n",
    "        if list_cord[i]>55000:\n",
    "            peak=list_cord[i-50:i+90]\n",
    "#             peak1=list_cord[i-37:i+167]\n",
    "#             peak2=list_cord[i-35:i+173]\n",
    "#             peak3=list_cord[i-30:i+178]\n",
    "#             peak4=list_cord[i-25:i+162]\n",
    "            w=w+1\n",
    "            #print(w)\n",
    "            if len(peak)<140:\n",
    "                d=140-len(peak)\n",
    "                                \n",
    "                for f in range(0,d):\n",
    "                    peak.append(peak[-1:][0])\n",
    "                    \n",
    "#             if len(peak1)<210:\n",
    "#                 d=210-len(peak1)\n",
    "                               \n",
    "#                 for f in range(0,d):\n",
    "#                     peak1.append(33803)\n",
    "                    \n",
    "#             if len(peak2)<210:\n",
    "#                 d=210-len(peak2)\n",
    "                               \n",
    "#                 for f in range(0,d):\n",
    "#                     peak2.append(33803)\n",
    "                    \n",
    "#             if len(peak3)<210:\n",
    "#                 d=210-len(peak3)\n",
    "                                \n",
    "#                 for f in range(0,d):\n",
    "#                     peak3.append(33803)\n",
    "#             if len(peak4)<210 or len(peak):\n",
    "#                 d=210-len(peak4)\n",
    "           \n",
    "#                 for f in range(0,d):\n",
    "#                     peak4.append(33803) \n",
    "            #print(len(peak))\n",
    "            collect[w]=peak\n",
    "#             collect[w+1]=peak1\n",
    "#             collect[w+2]=peak2\n",
    "#             collect[w+3]=peak3\n",
    "#             collect[w+4]=peak4\n",
    "            i=i+135\n",
    "        i=i+1\n",
    "    dump=pd.DataFrame(collect)\n",
    "    print(dump.shape)\n",
    "    dump=dump.iloc[:,dump.columns!=0]\n",
    "    file_n=all_files[count][-30:].split('/')[-1]\n",
    "    #print(file_n)\n",
    "    pd.DataFrame(collect).to_csv('/home/saad/latest 5.2 data/testing_data/negatives/'+file_n,header=False)\n",
    "    count=count+1"
   ]
  },
  {
   "cell_type": "code",
   "execution_count": 2,
   "metadata": {},
   "outputs": [],
   "source": [
    "classes=np.array(['air','mine','coin','pin','stone','fibersheet'])\n"
   ]
  },
  {
   "cell_type": "markdown",
   "metadata": {},
   "source": []
  },
  {
   "cell_type": "code",
   "execution_count": 3,
   "metadata": {},
   "outputs": [
    {
     "name": "stdout",
     "output_type": "stream",
     "text": [
      "/home/saad/latest 5.2 data/testing_data/positives/pin.csv /home/saad/latest 5.2 data/testing_data/negatives/pin.csv\n",
      "pin.csv pin.csv\n",
      "pin pin\n",
      "(154, 3679) (139, 4001)\n",
      "/home/saad/latest 5.2 data/testing_data/positives/air.csv /home/saad/latest 5.2 data/testing_data/negatives/air.csv\n",
      "air.csv air.csv\n",
      "air air\n",
      "(154, 4000) (139, 4001)\n",
      "/home/saad/latest 5.2 data/testing_data/positives/fibersheet.csv /home/saad/latest 5.2 data/testing_data/negatives/fibersheet.csv\n",
      "fibersheet.csv fibersheet.csv\n",
      "fibersheet fibersheet\n",
      "(154, 4001) (139, 4001)\n",
      "/home/saad/latest 5.2 data/testing_data/positives/stone.csv /home/saad/latest 5.2 data/testing_data/negatives/stone.csv\n",
      "stone.csv stone.csv\n",
      "stone stone\n",
      "(154, 4001) (139, 4001)\n",
      "/home/saad/latest 5.2 data/testing_data/positives/mine.csv /home/saad/latest 5.2 data/testing_data/negatives/mine.csv\n",
      "mine.csv mine.csv\n",
      "mine mine\n",
      "(154, 3001) (139, 3001)\n",
      "/home/saad/latest 5.2 data/testing_data/positives/coin.csv /home/saad/latest 5.2 data/testing_data/negatives/coin.csv\n",
      "coin.csv coin.csv\n",
      "coin coin\n",
      "(154, 4001) (139, 4001)\n",
      "(22677, 155)\n",
      "(23000, 140)\n"
     ]
    }
   ],
   "source": [
    "path_p = '/home/saad/latest 5.2 data/testing_data/positives/' # use your path\n",
    "all_files_p = glob.glob(path_p + \"/*.csv\")\n",
    "path_n = '/home/saad/latest 5.2 data/testing_data/negatives/' # use your path\n",
    "all_files_n = glob.glob(path_n + \"/*.csv\")\n",
    "# path_mn = '/home/saad/MMD data/cleaned/metal/negatives' # use your path\n",
    "# all_files_mn = glob.glob(path_mn + \"/*.csv\")\n",
    "# path_nn = '/home/saad/MMD data/cleaned/non-metal/negatives' # use your path\n",
    "# all_files_nn = glob.glob(path_nn + \"/*.csv\")\n",
    "df_p=[]\n",
    "df_n=[]\n",
    "# df_mn=[]\n",
    "# df_nn=[]\n",
    "positive_metal={}\n",
    "negative_metal={}\n",
    "positive_non={}\n",
    "negative_non={}\n",
    "count=0\n",
    "for i,j in zip(all_files_p,all_files_n):\n",
    "    print(i,j)\n",
    "    s1=str(all_files_p[count][-30:].split('/')[-1])\n",
    "    s2=str(all_files_n[count][-30:].split('/')[-1])\n",
    "    print(s1,s2)\n",
    "    c1=[x for x in classes if s1.split('.')[0] in x][0]\n",
    "    c2=[x for x in classes if s2.split('.')[0] in x][0]\n",
    "    print(c1,c2)\n",
    "    pos=pd.read_csv(i)\n",
    "    neg=pd.read_csv(j)\n",
    "    print(pos.shape,neg.shape)\n",
    "    pos=pos.drop(columns=[pos.columns[0]],axis=1).transpose()\n",
    "    neg=neg.drop(columns=[neg.columns[0]],axis=1).transpose()\n",
    "    p=[]\n",
    "    n=[]\n",
    "\n",
    "    for a in range(0,pos.shape[0]):\n",
    "        p.append(c1)\n",
    "    for a in range(0,neg.shape[0]):\n",
    "        n.append(c2)\n",
    "    pos['Material']=p\n",
    "    neg['Material']=n\n",
    "    df_p.append(pos)\n",
    "    df_n.append(neg)\n",
    "    count=count+1\n",
    "\n",
    "data_p=pd.concat(df_p, axis=0, ignore_index=True)\n",
    "data_n=pd.concat(df_n,axis=0,ignore_index=True)\n",
    "data_p=shuffle(data_p)\n",
    "data_n=shuffle(data_n)\n",
    "print(data_p.shape)\n",
    "print(data_n.shape)"
   ]
  },
  {
   "cell_type": "code",
   "execution_count": 4,
   "metadata": {},
   "outputs": [],
   "source": [
    "Xp=data_p.iloc[:,0:-1]\n",
    "yp=data_p.iloc[:,-1]\n",
    "Xn=data_n.iloc[:,0:-1]\n",
    "yn=data_n.iloc[:,-1]"
   ]
  },
  {
   "cell_type": "code",
   "execution_count": 102,
   "metadata": {},
   "outputs": [],
   "source": [
    "Xn1=Xn.iloc[1:2000,:]"
   ]
  },
  {
   "cell_type": "code",
   "execution_count": 106,
   "metadata": {},
   "outputs": [],
   "source": [
    "noise=np.random.normal(0,1,(1999,139))"
   ]
  },
  {
   "cell_type": "code",
   "execution_count": 107,
   "metadata": {},
   "outputs": [],
   "source": [
    "Xn2=np.array(Xn1)+noise"
   ]
  },
  {
   "cell_type": "code",
   "execution_count": 113,
   "metadata": {},
   "outputs": [],
   "source": [
    "Xn2=pd.DataFrame(Xn2)"
   ]
  },
  {
   "cell_type": "code",
   "execution_count": 30,
   "metadata": {},
   "outputs": [
    {
     "data": {
      "text/plain": [
       "<AxesSubplot:>"
      ]
     },
     "execution_count": 30,
     "metadata": {},
     "output_type": "execute_result"
    }
   ],
   "source": [
    "Xn.iloc[7,:].plot()"
   ]
  },
  {
   "cell_type": "code",
   "execution_count": null,
   "metadata": {},
   "outputs": [],
   "source": []
  },
  {
   "cell_type": "code",
   "execution_count": null,
   "metadata": {},
   "outputs": [],
   "source": []
  },
  {
   "cell_type": "code",
   "execution_count": 32,
   "metadata": {},
   "outputs": [
    {
     "data": {
      "text/plain": [
       "(22677,)"
      ]
     },
     "execution_count": 32,
     "metadata": {},
     "output_type": "execute_result"
    }
   ],
   "source": [
    "yp.shape"
   ]
  },
  {
   "cell_type": "code",
   "execution_count": null,
   "metadata": {},
   "outputs": [],
   "source": []
  },
  {
   "cell_type": "code",
   "execution_count": 47,
   "metadata": {},
   "outputs": [],
   "source": [
    "# i=0.7\n",
    "# data_x=[]\n",
    "# data_y=[]\n",
    "# while i < 1.31:\n",
    "#     Xn=Xn1_train*i\n",
    "#     data_x.append(Xn1)\n",
    "#     data_y.append(yn_train)\n",
    "#     i=i+0.01\n"
   ]
  },
  {
   "cell_type": "code",
   "execution_count": null,
   "metadata": {},
   "outputs": [],
   "source": []
  },
  {
   "cell_type": "code",
   "execution_count": 48,
   "metadata": {},
   "outputs": [],
   "source": [
    "#Xn[~Xn.isin(Xn1)].dropna()"
   ]
  },
  {
   "cell_type": "code",
   "execution_count": 34,
   "metadata": {},
   "outputs": [],
   "source": [
    "# Xp=Xp.apply(pd.to_numeric,downcast='float')\n",
    "# Xn=Xn.apply(pd.to_numeric,downcast='float')\n"
   ]
  },
  {
   "cell_type": "code",
   "execution_count": null,
   "metadata": {},
   "outputs": [],
   "source": []
  },
  {
   "cell_type": "code",
   "execution_count": 5,
   "metadata": {},
   "outputs": [
    {
     "name": "stderr",
     "output_type": "stream",
     "text": [
      "2021-09-29 10:34:19.349692: I tensorflow/stream_executor/platform/default/dso_loader.cc:49] Successfully opened dynamic library libcudart.so.10.1\n"
     ]
    }
   ],
   "source": [
    "import numpy as np\n",
    "import pandas as pd\n",
    "import matplotlib.pyplot as plt\n",
    "from matplotlib.pyplot import figure\n",
    "#import seaborn as sns\n",
    "from sklearn import preprocessing\n",
    "from sklearn.model_selection import train_test_split\n",
    "from sklearn.feature_selection import SelectKBest\n",
    "from sklearn.feature_selection import chi2\n",
    "from sklearn.metrics import accuracy_score\n",
    "from sklearn.svm import SVC\n",
    "import tensorflow as tf\n",
    "from tensorflow import keras\n",
    "import glob\n",
    "#from xgboost import XGBClassifier\n",
    "from sklearn.metrics import confusion_matrix,ConfusionMatrixDisplay,plot_confusion_matrix\n",
    "from utils.utils import generate_results_csv\n",
    "from utils.utils import create_directory\n",
    "from utils.utils import read_dataset\n",
    "from utils.utils import transform_mts_to_ucr_format\n",
    "from utils.utils import visualize_filter\n",
    "from utils.utils import viz_for_survey_paper\n",
    "from utils.utils import viz_cam\n",
    "import os\n",
    "import numpy as np\n",
    "import sys\n",
    "import sklearn\n",
    "import utils\n",
    "from utils.constants import CLASSIFIERS\n",
    "from utils.constants import ARCHIVE_NAMES\n",
    "from utils.constants import ITERATIONS"
   ]
  },
  {
   "cell_type": "code",
   "execution_count": 6,
   "metadata": {},
   "outputs": [],
   "source": [
    "nb_classes =6\n",
    "\n",
    "x_test=np.array(Xp).astype('float')\n",
    "y_test=np.array(yp)\n",
    "# transform the labels from integers to one hot vectors\n",
    "enc = sklearn.preprocessing.OneHotEncoder(categories='auto')\n",
    "enc.fit(np.concatenate((y_test, y_test), axis=0).reshape(-1, 1))\n",
    "y_test = enc.transform(y_test.reshape(-1, 1)).toarray()\n",
    "\n",
    "# save orignal y because later we will use binary\n",
    "y_true = np.argmax(y_test, axis=1)\n",
    "\n",
    "if len(x_test.shape) == 2:  # if univariate\n",
    "    # add a dimension to make it multivariate with one dimension \n",
    "    x_test = x_test.reshape((x_test.shape[0], x_test.shape[1], 1))"
   ]
  },
  {
   "cell_type": "code",
   "execution_count": 7,
   "metadata": {},
   "outputs": [
    {
     "name": "stdout",
     "output_type": "stream",
     "text": [
      "INFO:tensorflow:Using MirroredStrategy with devices ('/job:localhost/replica:0/task:0/device:GPU:0', '/job:localhost/replica:0/task:0/device:GPU:1', '/job:localhost/replica:0/task:0/device:GPU:2', '/job:localhost/replica:0/task:0/device:GPU:3', '/job:localhost/replica:0/task:0/device:GPU:4', '/job:localhost/replica:0/task:0/device:GPU:5', '/job:localhost/replica:0/task:0/device:GPU:6', '/job:localhost/replica:0/task:0/device:GPU:7', '/job:localhost/replica:0/task:0/device:GPU:8', '/job:localhost/replica:0/task:0/device:GPU:9')\n",
      "Number of devices: 10\n"
     ]
    },
    {
     "name": "stderr",
     "output_type": "stream",
     "text": [
      "2021-09-29 10:34:22.138153: I tensorflow/compiler/jit/xla_cpu_device.cc:41] Not creating XLA devices, tf_xla_enable_xla_devices not set\n",
      "2021-09-29 10:34:22.139361: I tensorflow/stream_executor/platform/default/dso_loader.cc:49] Successfully opened dynamic library libcuda.so.1\n",
      "2021-09-29 10:34:22.520207: I tensorflow/core/common_runtime/gpu/gpu_device.cc:1720] Found device 0 with properties: \n",
      "pciBusID: 0000:1a:00.0 name: NVIDIA GeForce RTX 2080 Ti computeCapability: 7.5\n",
      "coreClock: 1.545GHz coreCount: 68 deviceMemorySize: 10.76GiB deviceMemoryBandwidth: 573.69GiB/s\n",
      "2021-09-29 10:34:22.521529: I tensorflow/core/common_runtime/gpu/gpu_device.cc:1720] Found device 1 with properties: \n",
      "pciBusID: 0000:1b:00.0 name: NVIDIA GeForce RTX 2080 Ti computeCapability: 7.5\n",
      "coreClock: 1.545GHz coreCount: 68 deviceMemorySize: 10.76GiB deviceMemoryBandwidth: 573.69GiB/s\n",
      "2021-09-29 10:34:22.522845: I tensorflow/core/common_runtime/gpu/gpu_device.cc:1720] Found device 2 with properties: \n",
      "pciBusID: 0000:1c:00.0 name: NVIDIA GeForce RTX 2080 Ti computeCapability: 7.5\n",
      "coreClock: 1.545GHz coreCount: 68 deviceMemorySize: 10.76GiB deviceMemoryBandwidth: 573.69GiB/s\n",
      "2021-09-29 10:34:22.524142: I tensorflow/core/common_runtime/gpu/gpu_device.cc:1720] Found device 3 with properties: \n",
      "pciBusID: 0000:1d:00.0 name: NVIDIA GeForce RTX 2080 Ti computeCapability: 7.5\n",
      "coreClock: 1.545GHz coreCount: 68 deviceMemorySize: 10.76GiB deviceMemoryBandwidth: 573.69GiB/s\n",
      "2021-09-29 10:34:22.525419: I tensorflow/core/common_runtime/gpu/gpu_device.cc:1720] Found device 4 with properties: \n",
      "pciBusID: 0000:1e:00.0 name: NVIDIA GeForce RTX 2080 Ti computeCapability: 7.5\n",
      "coreClock: 1.545GHz coreCount: 68 deviceMemorySize: 10.76GiB deviceMemoryBandwidth: 573.69GiB/s\n",
      "2021-09-29 10:34:22.526693: I tensorflow/core/common_runtime/gpu/gpu_device.cc:1720] Found device 5 with properties: \n",
      "pciBusID: 0000:3d:00.0 name: NVIDIA GeForce RTX 2080 Ti computeCapability: 7.5\n",
      "coreClock: 1.545GHz coreCount: 68 deviceMemorySize: 10.76GiB deviceMemoryBandwidth: 573.69GiB/s\n",
      "2021-09-29 10:34:22.527967: I tensorflow/core/common_runtime/gpu/gpu_device.cc:1720] Found device 6 with properties: \n",
      "pciBusID: 0000:3e:00.0 name: NVIDIA GeForce RTX 2080 Ti computeCapability: 7.5\n",
      "coreClock: 1.545GHz coreCount: 68 deviceMemorySize: 10.76GiB deviceMemoryBandwidth: 573.69GiB/s\n",
      "2021-09-29 10:34:22.529237: I tensorflow/core/common_runtime/gpu/gpu_device.cc:1720] Found device 7 with properties: \n",
      "pciBusID: 0000:3f:00.0 name: NVIDIA GeForce RTX 2080 Ti computeCapability: 7.5\n",
      "coreClock: 1.545GHz coreCount: 68 deviceMemorySize: 10.76GiB deviceMemoryBandwidth: 573.69GiB/s\n",
      "2021-09-29 10:34:22.530504: I tensorflow/core/common_runtime/gpu/gpu_device.cc:1720] Found device 8 with properties: \n",
      "pciBusID: 0000:40:00.0 name: NVIDIA GeForce RTX 2080 Ti computeCapability: 7.5\n",
      "coreClock: 1.545GHz coreCount: 68 deviceMemorySize: 10.76GiB deviceMemoryBandwidth: 573.69GiB/s\n",
      "2021-09-29 10:34:22.531773: I tensorflow/core/common_runtime/gpu/gpu_device.cc:1720] Found device 9 with properties: \n",
      "pciBusID: 0000:41:00.0 name: NVIDIA GeForce RTX 2080 Ti computeCapability: 7.5\n",
      "coreClock: 1.545GHz coreCount: 68 deviceMemorySize: 10.76GiB deviceMemoryBandwidth: 573.69GiB/s\n",
      "2021-09-29 10:34:22.531809: I tensorflow/stream_executor/platform/default/dso_loader.cc:49] Successfully opened dynamic library libcudart.so.10.1\n",
      "2021-09-29 10:34:22.533137: I tensorflow/stream_executor/platform/default/dso_loader.cc:49] Successfully opened dynamic library libcublas.so.10\n",
      "2021-09-29 10:34:22.533207: I tensorflow/stream_executor/platform/default/dso_loader.cc:49] Successfully opened dynamic library libcublasLt.so.10\n",
      "2021-09-29 10:34:22.534604: I tensorflow/stream_executor/platform/default/dso_loader.cc:49] Successfully opened dynamic library libcufft.so.10\n",
      "2021-09-29 10:34:22.534844: I tensorflow/stream_executor/platform/default/dso_loader.cc:49] Successfully opened dynamic library libcurand.so.10\n",
      "2021-09-29 10:34:22.536109: I tensorflow/stream_executor/platform/default/dso_loader.cc:49] Successfully opened dynamic library libcusolver.so.10\n",
      "2021-09-29 10:34:22.536688: I tensorflow/stream_executor/platform/default/dso_loader.cc:49] Successfully opened dynamic library libcusparse.so.10\n",
      "2021-09-29 10:34:22.539284: I tensorflow/stream_executor/platform/default/dso_loader.cc:49] Successfully opened dynamic library libcudnn.so.7\n",
      "2021-09-29 10:34:22.565656: I tensorflow/core/common_runtime/gpu/gpu_device.cc:1862] Adding visible gpu devices: 0, 1, 2, 3, 4, 5, 6, 7, 8, 9\n",
      "2021-09-29 10:34:22.566075: I tensorflow/core/platform/cpu_feature_guard.cc:142] This TensorFlow binary is optimized with oneAPI Deep Neural Network Library (oneDNN) to use the following CPU instructions in performance-critical operations:  SSE4.1 SSE4.2 AVX AVX2 AVX512F FMA\n",
      "To enable them in other operations, rebuild TensorFlow with the appropriate compiler flags.\n",
      "2021-09-29 10:34:22.571022: I tensorflow/compiler/jit/xla_gpu_device.cc:99] Not creating XLA devices, tf_xla_enable_xla_devices not set\n",
      "2021-09-29 10:34:24.038389: I tensorflow/core/common_runtime/gpu/gpu_device.cc:1720] Found device 0 with properties: \n",
      "pciBusID: 0000:1a:00.0 name: NVIDIA GeForce RTX 2080 Ti computeCapability: 7.5\n",
      "coreClock: 1.545GHz coreCount: 68 deviceMemorySize: 10.76GiB deviceMemoryBandwidth: 573.69GiB/s\n",
      "2021-09-29 10:34:24.039597: I tensorflow/core/common_runtime/gpu/gpu_device.cc:1720] Found device 1 with properties: \n",
      "pciBusID: 0000:1b:00.0 name: NVIDIA GeForce RTX 2080 Ti computeCapability: 7.5\n",
      "coreClock: 1.545GHz coreCount: 68 deviceMemorySize: 10.76GiB deviceMemoryBandwidth: 573.69GiB/s\n",
      "2021-09-29 10:34:24.040767: I tensorflow/core/common_runtime/gpu/gpu_device.cc:1720] Found device 2 with properties: \n",
      "pciBusID: 0000:1c:00.0 name: NVIDIA GeForce RTX 2080 Ti computeCapability: 7.5\n",
      "coreClock: 1.545GHz coreCount: 68 deviceMemorySize: 10.76GiB deviceMemoryBandwidth: 573.69GiB/s\n",
      "2021-09-29 10:34:24.041920: I tensorflow/core/common_runtime/gpu/gpu_device.cc:1720] Found device 3 with properties: \n",
      "pciBusID: 0000:1d:00.0 name: NVIDIA GeForce RTX 2080 Ti computeCapability: 7.5\n",
      "coreClock: 1.545GHz coreCount: 68 deviceMemorySize: 10.76GiB deviceMemoryBandwidth: 573.69GiB/s\n",
      "2021-09-29 10:34:24.043069: I tensorflow/core/common_runtime/gpu/gpu_device.cc:1720] Found device 4 with properties: \n",
      "pciBusID: 0000:1e:00.0 name: NVIDIA GeForce RTX 2080 Ti computeCapability: 7.5\n",
      "coreClock: 1.545GHz coreCount: 68 deviceMemorySize: 10.76GiB deviceMemoryBandwidth: 573.69GiB/s\n",
      "2021-09-29 10:34:24.044225: I tensorflow/core/common_runtime/gpu/gpu_device.cc:1720] Found device 5 with properties: \n",
      "pciBusID: 0000:3d:00.0 name: NVIDIA GeForce RTX 2080 Ti computeCapability: 7.5\n",
      "coreClock: 1.545GHz coreCount: 68 deviceMemorySize: 10.76GiB deviceMemoryBandwidth: 573.69GiB/s\n",
      "2021-09-29 10:34:24.045378: I tensorflow/core/common_runtime/gpu/gpu_device.cc:1720] Found device 6 with properties: \n",
      "pciBusID: 0000:3e:00.0 name: NVIDIA GeForce RTX 2080 Ti computeCapability: 7.5\n",
      "coreClock: 1.545GHz coreCount: 68 deviceMemorySize: 10.76GiB deviceMemoryBandwidth: 573.69GiB/s\n",
      "2021-09-29 10:34:24.046525: I tensorflow/core/common_runtime/gpu/gpu_device.cc:1720] Found device 7 with properties: \n",
      "pciBusID: 0000:3f:00.0 name: NVIDIA GeForce RTX 2080 Ti computeCapability: 7.5\n",
      "coreClock: 1.545GHz coreCount: 68 deviceMemorySize: 10.76GiB deviceMemoryBandwidth: 573.69GiB/s\n",
      "2021-09-29 10:34:24.047675: I tensorflow/core/common_runtime/gpu/gpu_device.cc:1720] Found device 8 with properties: \n",
      "pciBusID: 0000:40:00.0 name: NVIDIA GeForce RTX 2080 Ti computeCapability: 7.5\n",
      "coreClock: 1.545GHz coreCount: 68 deviceMemorySize: 10.76GiB deviceMemoryBandwidth: 573.69GiB/s\n",
      "2021-09-29 10:34:24.048821: I tensorflow/core/common_runtime/gpu/gpu_device.cc:1720] Found device 9 with properties: \n",
      "pciBusID: 0000:41:00.0 name: NVIDIA GeForce RTX 2080 Ti computeCapability: 7.5\n",
      "coreClock: 1.545GHz coreCount: 68 deviceMemorySize: 10.76GiB deviceMemoryBandwidth: 573.69GiB/s\n",
      "2021-09-29 10:34:24.048878: I tensorflow/stream_executor/platform/default/dso_loader.cc:49] Successfully opened dynamic library libcudart.so.10.1\n",
      "2021-09-29 10:34:24.048896: I tensorflow/stream_executor/platform/default/dso_loader.cc:49] Successfully opened dynamic library libcublas.so.10\n",
      "2021-09-29 10:34:24.048906: I tensorflow/stream_executor/platform/default/dso_loader.cc:49] Successfully opened dynamic library libcublasLt.so.10\n",
      "2021-09-29 10:34:24.048916: I tensorflow/stream_executor/platform/default/dso_loader.cc:49] Successfully opened dynamic library libcufft.so.10\n",
      "2021-09-29 10:34:24.048925: I tensorflow/stream_executor/platform/default/dso_loader.cc:49] Successfully opened dynamic library libcurand.so.10\n",
      "2021-09-29 10:34:24.048934: I tensorflow/stream_executor/platform/default/dso_loader.cc:49] Successfully opened dynamic library libcusolver.so.10\n",
      "2021-09-29 10:34:24.048943: I tensorflow/stream_executor/platform/default/dso_loader.cc:49] Successfully opened dynamic library libcusparse.so.10\n",
      "2021-09-29 10:34:24.048952: I tensorflow/stream_executor/platform/default/dso_loader.cc:49] Successfully opened dynamic library libcudnn.so.7\n",
      "2021-09-29 10:34:24.071721: I tensorflow/core/common_runtime/gpu/gpu_device.cc:1862] Adding visible gpu devices: 0, 1, 2, 3, 4, 5, 6, 7, 8, 9\n",
      "2021-09-29 10:34:24.071766: I tensorflow/stream_executor/platform/default/dso_loader.cc:49] Successfully opened dynamic library libcudart.so.10.1\n",
      "2021-09-29 10:34:27.819087: I tensorflow/core/common_runtime/gpu/gpu_device.cc:1261] Device interconnect StreamExecutor with strength 1 edge matrix:\n",
      "2021-09-29 10:34:27.819126: I tensorflow/core/common_runtime/gpu/gpu_device.cc:1267]      0 1 2 3 4 5 6 7 8 9 \n",
      "2021-09-29 10:34:27.819131: I tensorflow/core/common_runtime/gpu/gpu_device.cc:1280] 0:   N N N N N N N N N N \n",
      "2021-09-29 10:34:27.819134: I tensorflow/core/common_runtime/gpu/gpu_device.cc:1280] 1:   N N N N N N N N N N \n",
      "2021-09-29 10:34:27.819136: I tensorflow/core/common_runtime/gpu/gpu_device.cc:1280] 2:   N N N N N N N N N N \n",
      "2021-09-29 10:34:27.819139: I tensorflow/core/common_runtime/gpu/gpu_device.cc:1280] 3:   N N N N N N N N N N \n",
      "2021-09-29 10:34:27.819142: I tensorflow/core/common_runtime/gpu/gpu_device.cc:1280] 4:   N N N N N N N N N N \n",
      "2021-09-29 10:34:27.819144: I tensorflow/core/common_runtime/gpu/gpu_device.cc:1280] 5:   N N N N N N N N N N \n",
      "2021-09-29 10:34:27.819147: I tensorflow/core/common_runtime/gpu/gpu_device.cc:1280] 6:   N N N N N N N N N N \n",
      "2021-09-29 10:34:27.819149: I tensorflow/core/common_runtime/gpu/gpu_device.cc:1280] 7:   N N N N N N N N N N \n",
      "2021-09-29 10:34:27.819152: I tensorflow/core/common_runtime/gpu/gpu_device.cc:1280] 8:   N N N N N N N N N N \n",
      "2021-09-29 10:34:27.819154: I tensorflow/core/common_runtime/gpu/gpu_device.cc:1280] 9:   N N N N N N N N N N \n",
      "2021-09-29 10:34:27.833948: I tensorflow/core/common_runtime/gpu/gpu_device.cc:1406] Created TensorFlow device (/job:localhost/replica:0/task:0/device:GPU:0 with 10076 MB memory) -> physical GPU (device: 0, name: NVIDIA GeForce RTX 2080 Ti, pci bus id: 0000:1a:00.0, compute capability: 7.5)\n",
      "2021-09-29 10:34:27.837072: I tensorflow/core/common_runtime/gpu/gpu_device.cc:1406] Created TensorFlow device (/job:localhost/replica:0/task:0/device:GPU:1 with 10076 MB memory) -> physical GPU (device: 1, name: NVIDIA GeForce RTX 2080 Ti, pci bus id: 0000:1b:00.0, compute capability: 7.5)\n",
      "2021-09-29 10:34:27.840045: I tensorflow/core/common_runtime/gpu/gpu_device.cc:1406] Created TensorFlow device (/job:localhost/replica:0/task:0/device:GPU:2 with 10076 MB memory) -> physical GPU (device: 2, name: NVIDIA GeForce RTX 2080 Ti, pci bus id: 0000:1c:00.0, compute capability: 7.5)\n",
      "2021-09-29 10:34:27.843024: I tensorflow/core/common_runtime/gpu/gpu_device.cc:1406] Created TensorFlow device (/job:localhost/replica:0/task:0/device:GPU:3 with 10076 MB memory) -> physical GPU (device: 3, name: NVIDIA GeForce RTX 2080 Ti, pci bus id: 0000:1d:00.0, compute capability: 7.5)\n",
      "2021-09-29 10:34:27.845951: I tensorflow/core/common_runtime/gpu/gpu_device.cc:1406] Created TensorFlow device (/job:localhost/replica:0/task:0/device:GPU:4 with 10076 MB memory) -> physical GPU (device: 4, name: NVIDIA GeForce RTX 2080 Ti, pci bus id: 0000:1e:00.0, compute capability: 7.5)\n",
      "2021-09-29 10:34:27.848916: I tensorflow/core/common_runtime/gpu/gpu_device.cc:1406] Created TensorFlow device (/job:localhost/replica:0/task:0/device:GPU:5 with 10076 MB memory) -> physical GPU (device: 5, name: NVIDIA GeForce RTX 2080 Ti, pci bus id: 0000:3d:00.0, compute capability: 7.5)\n",
      "2021-09-29 10:34:27.851817: I tensorflow/core/common_runtime/gpu/gpu_device.cc:1406] Created TensorFlow device (/job:localhost/replica:0/task:0/device:GPU:6 with 10076 MB memory) -> physical GPU (device: 6, name: NVIDIA GeForce RTX 2080 Ti, pci bus id: 0000:3e:00.0, compute capability: 7.5)\n",
      "2021-09-29 10:34:27.854798: I tensorflow/core/common_runtime/gpu/gpu_device.cc:1406] Created TensorFlow device (/job:localhost/replica:0/task:0/device:GPU:7 with 10076 MB memory) -> physical GPU (device: 7, name: NVIDIA GeForce RTX 2080 Ti, pci bus id: 0000:3f:00.0, compute capability: 7.5)\n",
      "2021-09-29 10:34:27.857762: I tensorflow/core/common_runtime/gpu/gpu_device.cc:1406] Created TensorFlow device (/job:localhost/replica:0/task:0/device:GPU:8 with 10076 MB memory) -> physical GPU (device: 8, name: NVIDIA GeForce RTX 2080 Ti, pci bus id: 0000:40:00.0, compute capability: 7.5)\n",
      "2021-09-29 10:34:27.860696: I tensorflow/core/common_runtime/gpu/gpu_device.cc:1406] Created TensorFlow device (/job:localhost/replica:0/task:0/device:GPU:9 with 10076 MB memory) -> physical GPU (device: 9, name: NVIDIA GeForce RTX 2080 Ti, pci bus id: 0000:41:00.0, compute capability: 7.5)\n"
     ]
    }
   ],
   "source": [
    "from classifiers import resnet\n",
    "path_p='/home/saad/aug_positive/'\n",
    "input_shape = x_test.shape[1:]\n",
    "classifier_p=resnet.Classifier_RESNET(path_p, input_shape, nb_classes, verbose=True,build=False,load_weights=False)"
   ]
  },
  {
   "cell_type": "code",
   "execution_count": 8,
   "metadata": {},
   "outputs": [
    {
     "name": "stderr",
     "output_type": "stream",
     "text": [
      "2021-09-29 10:34:28.517767: I tensorflow/compiler/mlir/mlir_graph_optimization_pass.cc:116] None of the MLIR optimization passes are enabled (registered 2)\n",
      "2021-09-29 10:34:28.539992: I tensorflow/core/platform/profile_utils/cpu_utils.cc:112] CPU Frequency: 2100000000 Hz\n",
      "2021-09-29 10:34:28.779147: I tensorflow/stream_executor/platform/default/dso_loader.cc:49] Successfully opened dynamic library libcublas.so.10\n",
      "2021-09-29 10:34:28.984279: I tensorflow/stream_executor/platform/default/dso_loader.cc:49] Successfully opened dynamic library libcudnn.so.7\n",
      "2021-09-29 10:34:29.990973: W tensorflow/stream_executor/gpu/asm_compiler.cc:63] Running ptxas --version returned 256\n",
      "2021-09-29 10:34:30.108778: W tensorflow/stream_executor/gpu/redzone_allocator.cc:314] Internal: ptxas exited with non-zero error code 256, output: \n",
      "Relying on driver to perform ptx compilation. \n",
      "Modify $PATH to customize ptxas location.\n",
      "This message will be only logged once.\n"
     ]
    }
   ],
   "source": [
    "matrixx,yp_pred,yp_pred1 = classifier_p.predict1(x_test, y_true,return_df_metrics=True)"
   ]
  },
  {
   "cell_type": "code",
   "execution_count": 9,
   "metadata": {},
   "outputs": [],
   "source": [
    "from sklearn.preprocessing import LabelEncoder\n",
    "label_encoder = LabelEncoder()\n",
    "integer_encoded = label_encoder.fit_transform(yp)\n",
    "inverted = label_encoder.inverse_transform(yp_pred)\n",
    "model_results1=inverted"
   ]
  },
  {
   "cell_type": "code",
   "execution_count": null,
   "metadata": {},
   "outputs": [],
   "source": []
  },
  {
   "cell_type": "code",
   "execution_count": 10,
   "metadata": {},
   "outputs": [],
   "source": [
    "# model_results1=[]\n",
    "# for i in model_results:\n",
    "#     if i==0:\n",
    "#         model_results1.append('air')\n",
    "#     if i==1:\n",
    "#         model_results1.append('coin')\n",
    "#     if i==2:\n",
    "#         model_results1.append('fibersheet')\n",
    "#     if i==3:\n",
    "#         model_results1.append('mine')\n",
    "#     if i==4:\n",
    "#         model_results1.append('pin')\n",
    "#     if i==5:\n",
    "#         model_results1.append('stone')    "
   ]
  },
  {
   "cell_type": "code",
   "execution_count": 11,
   "metadata": {},
   "outputs": [
    {
     "data": {
      "text/plain": [
       "22677"
      ]
     },
     "execution_count": 11,
     "metadata": {},
     "output_type": "execute_result"
    }
   ],
   "source": [
    "len(model_results1)"
   ]
  },
  {
   "cell_type": "code",
   "execution_count": 40,
   "metadata": {},
   "outputs": [],
   "source": [
    "cm=confusion_matrix(yp, model_results1)"
   ]
  },
  {
   "cell_type": "code",
   "execution_count": 13,
   "metadata": {},
   "outputs": [
    {
     "name": "stdout",
     "output_type": "stream",
     "text": [
      "2469\n",
      "2474\n",
      "4000\n",
      "3672\n",
      "3448\n",
      "2364\n"
     ]
    }
   ],
   "source": [
    "total_tn=[]\n",
    "total_tp=[]\n",
    "total_fn=[]\n",
    "total_fp=[]\n",
    "dictt={}\n",
    "sensitivity={}\n",
    "specificity={}\n",
    "accuracy={}\n",
    "yp=np.array(yp)\n",
    "model_results1=np.array(model_results1)\n",
    "for i in classes:\n",
    "    if len(confusion_matrix(np.array(yp)==i, np.array(model_results1)==i)) == 2:\n",
    "        tn, fp, fn, tp = confusion_matrix(yp==i, model_results1==i).ravel()\n",
    "        print(tp)\n",
    "        total_tp.append(tp)\n",
    "        total_fn.append(fn)\n",
    "        total_fp.append(fp)\n",
    "        total_tn.append(tn)\n",
    "#         print(tp)\n",
    "        sensitivity[i]=(tp)/((tp)+(fn))\n",
    "        specificity[i]=(tn)/((tn)+(fp))\n",
    "        accuracy[i]=((tp) + (tn))/ ((tn)+ (tp)+(fp)+(fn))\n",
    "    else:\n",
    "        pass"
   ]
  },
  {
   "cell_type": "code",
   "execution_count": 14,
   "metadata": {},
   "outputs": [
    {
     "data": {
      "text/plain": [
       "{'air': 0.9106583763284385,\n",
       " 'mine': 0.9382193411826961,\n",
       " 'coin': 0.9999118049124663,\n",
       " 'pin': 0.9996472196498655,\n",
       " 'stone': 0.8673104908056621,\n",
       " 'fibersheet': 0.9094236451029678}"
      ]
     },
     "execution_count": 14,
     "metadata": {},
     "output_type": "execute_result"
    }
   ],
   "source": [
    "accuracy"
   ]
  },
  {
   "cell_type": "code",
   "execution_count": 15,
   "metadata": {},
   "outputs": [
    {
     "data": {
      "text/plain": [
       "{'air': 0.6174043510877719,\n",
       " 'mine': 0.8246666666666667,\n",
       " 'coin': 1.0,\n",
       " 'pin': 0.99836867862969,\n",
       " 'stone': 0.862,\n",
       " 'fibersheet': 0.591}"
      ]
     },
     "execution_count": 15,
     "metadata": {},
     "output_type": "execute_result"
    }
   ],
   "source": [
    "sensitivity"
   ]
  },
  {
   "cell_type": "code",
   "execution_count": 16,
   "metadata": {},
   "outputs": [
    {
     "data": {
      "text/plain": [
       "{'air': 0.9734446942927508,\n",
       " 'mine': 0.9555318392031306,\n",
       " 'coin': 0.9998929164212668,\n",
       " 'pin': 0.9998947313016474,\n",
       " 'stone': 0.8684478235262623,\n",
       " 'fibersheet': 0.9776195320447609}"
      ]
     },
     "execution_count": 16,
     "metadata": {},
     "output_type": "execute_result"
    }
   ],
   "source": [
    "specificity"
   ]
  },
  {
   "cell_type": "code",
   "execution_count": 17,
   "metadata": {},
   "outputs": [],
   "source": [
    "plt.rcParams['figure.figsize'] = [10, 10]"
   ]
  },
  {
   "cell_type": "code",
   "execution_count": null,
   "metadata": {},
   "outputs": [],
   "source": []
  },
  {
   "cell_type": "code",
   "execution_count": 18,
   "metadata": {},
   "outputs": [],
   "source": []
  },
  {
   "cell_type": "code",
   "execution_count": 19,
   "metadata": {},
   "outputs": [
    {
     "data": {
      "text/html": [
       "<div>\n",
       "<style scoped>\n",
       "    .dataframe tbody tr th:only-of-type {\n",
       "        vertical-align: middle;\n",
       "    }\n",
       "\n",
       "    .dataframe tbody tr th {\n",
       "        vertical-align: top;\n",
       "    }\n",
       "\n",
       "    .dataframe thead th {\n",
       "        text-align: right;\n",
       "    }\n",
       "</style>\n",
       "<table border=\"1\" class=\"dataframe\">\n",
       "  <thead>\n",
       "    <tr style=\"text-align: right;\">\n",
       "      <th></th>\n",
       "      <th>0</th>\n",
       "      <th>1</th>\n",
       "      <th>2</th>\n",
       "      <th>3</th>\n",
       "      <th>4</th>\n",
       "      <th>5</th>\n",
       "      <th>6</th>\n",
       "      <th>7</th>\n",
       "      <th>8</th>\n",
       "      <th>9</th>\n",
       "      <th>...</th>\n",
       "      <th>144</th>\n",
       "      <th>145</th>\n",
       "      <th>146</th>\n",
       "      <th>147</th>\n",
       "      <th>148</th>\n",
       "      <th>149</th>\n",
       "      <th>150</th>\n",
       "      <th>151</th>\n",
       "      <th>152</th>\n",
       "      <th>153</th>\n",
       "    </tr>\n",
       "  </thead>\n",
       "  <tbody>\n",
       "    <tr>\n",
       "      <th>14028</th>\n",
       "      <td>33761</td>\n",
       "      <td>34056</td>\n",
       "      <td>34189</td>\n",
       "      <td>34106</td>\n",
       "      <td>34052</td>\n",
       "      <td>33963</td>\n",
       "      <td>33809</td>\n",
       "      <td>33711</td>\n",
       "      <td>33664</td>\n",
       "      <td>33540</td>\n",
       "      <td>...</td>\n",
       "      <td>34023</td>\n",
       "      <td>34303</td>\n",
       "      <td>34470</td>\n",
       "      <td>34498</td>\n",
       "      <td>34342</td>\n",
       "      <td>34294</td>\n",
       "      <td>34192</td>\n",
       "      <td>34035</td>\n",
       "      <td>33987</td>\n",
       "      <td>33874</td>\n",
       "    </tr>\n",
       "    <tr>\n",
       "      <th>17429</th>\n",
       "      <td>33650</td>\n",
       "      <td>33689</td>\n",
       "      <td>33651</td>\n",
       "      <td>33677</td>\n",
       "      <td>33609</td>\n",
       "      <td>33623</td>\n",
       "      <td>33675</td>\n",
       "      <td>33558</td>\n",
       "      <td>33343</td>\n",
       "      <td>33525</td>\n",
       "      <td>...</td>\n",
       "      <td>33430</td>\n",
       "      <td>33385</td>\n",
       "      <td>33321</td>\n",
       "      <td>33327</td>\n",
       "      <td>33482</td>\n",
       "      <td>33584</td>\n",
       "      <td>33663</td>\n",
       "      <td>33891</td>\n",
       "      <td>33912</td>\n",
       "      <td>33711</td>\n",
       "    </tr>\n",
       "    <tr>\n",
       "      <th>13188</th>\n",
       "      <td>33677</td>\n",
       "      <td>49165</td>\n",
       "      <td>49218</td>\n",
       "      <td>49480</td>\n",
       "      <td>49616</td>\n",
       "      <td>49538</td>\n",
       "      <td>49529</td>\n",
       "      <td>50109</td>\n",
       "      <td>50669</td>\n",
       "      <td>51045</td>\n",
       "      <td>...</td>\n",
       "      <td>34052</td>\n",
       "      <td>33945</td>\n",
       "      <td>33882</td>\n",
       "      <td>33736</td>\n",
       "      <td>33727</td>\n",
       "      <td>33729</td>\n",
       "      <td>33654</td>\n",
       "      <td>33705</td>\n",
       "      <td>33721</td>\n",
       "      <td>33682</td>\n",
       "    </tr>\n",
       "    <tr>\n",
       "      <th>12085</th>\n",
       "      <td>34120</td>\n",
       "      <td>33993</td>\n",
       "      <td>33967</td>\n",
       "      <td>33865</td>\n",
       "      <td>33703</td>\n",
       "      <td>33717</td>\n",
       "      <td>33637</td>\n",
       "      <td>50049</td>\n",
       "      <td>50279</td>\n",
       "      <td>50451</td>\n",
       "      <td>...</td>\n",
       "      <td>34554</td>\n",
       "      <td>34408</td>\n",
       "      <td>34292</td>\n",
       "      <td>34212</td>\n",
       "      <td>34023</td>\n",
       "      <td>33902</td>\n",
       "      <td>33844</td>\n",
       "      <td>33676</td>\n",
       "      <td>33661</td>\n",
       "      <td>33687</td>\n",
       "    </tr>\n",
       "    <tr>\n",
       "      <th>19612</th>\n",
       "      <td>32056</td>\n",
       "      <td>31820</td>\n",
       "      <td>31869</td>\n",
       "      <td>32323</td>\n",
       "      <td>32520</td>\n",
       "      <td>32650</td>\n",
       "      <td>32663</td>\n",
       "      <td>32545</td>\n",
       "      <td>32494</td>\n",
       "      <td>32394</td>\n",
       "      <td>...</td>\n",
       "      <td>31414</td>\n",
       "      <td>31541</td>\n",
       "      <td>31381</td>\n",
       "      <td>31438</td>\n",
       "      <td>31974</td>\n",
       "      <td>32194</td>\n",
       "      <td>32320</td>\n",
       "      <td>32255</td>\n",
       "      <td>32183</td>\n",
       "      <td>32131</td>\n",
       "    </tr>\n",
       "    <tr>\n",
       "      <th>...</th>\n",
       "      <td>...</td>\n",
       "      <td>...</td>\n",
       "      <td>...</td>\n",
       "      <td>...</td>\n",
       "      <td>...</td>\n",
       "      <td>...</td>\n",
       "      <td>...</td>\n",
       "      <td>...</td>\n",
       "      <td>...</td>\n",
       "      <td>...</td>\n",
       "      <td>...</td>\n",
       "      <td>...</td>\n",
       "      <td>...</td>\n",
       "      <td>...</td>\n",
       "      <td>...</td>\n",
       "      <td>...</td>\n",
       "      <td>...</td>\n",
       "      <td>...</td>\n",
       "      <td>...</td>\n",
       "      <td>...</td>\n",
       "      <td>...</td>\n",
       "    </tr>\n",
       "    <tr>\n",
       "      <th>19975</th>\n",
       "      <td>49152</td>\n",
       "      <td>48884</td>\n",
       "      <td>49152</td>\n",
       "      <td>49740</td>\n",
       "      <td>50214</td>\n",
       "      <td>50533</td>\n",
       "      <td>50816</td>\n",
       "      <td>50943</td>\n",
       "      <td>51181</td>\n",
       "      <td>51382</td>\n",
       "      <td>...</td>\n",
       "      <td>31648</td>\n",
       "      <td>31611</td>\n",
       "      <td>31657</td>\n",
       "      <td>31771</td>\n",
       "      <td>31702</td>\n",
       "      <td>31788</td>\n",
       "      <td>31843</td>\n",
       "      <td>31804</td>\n",
       "      <td>31848</td>\n",
       "      <td>31901</td>\n",
       "    </tr>\n",
       "    <tr>\n",
       "      <th>18093</th>\n",
       "      <td>33414</td>\n",
       "      <td>33321</td>\n",
       "      <td>33831</td>\n",
       "      <td>34108</td>\n",
       "      <td>34145</td>\n",
       "      <td>34159</td>\n",
       "      <td>34109</td>\n",
       "      <td>33964</td>\n",
       "      <td>33913</td>\n",
       "      <td>33814</td>\n",
       "      <td>...</td>\n",
       "      <td>33826</td>\n",
       "      <td>33644</td>\n",
       "      <td>33795</td>\n",
       "      <td>34303</td>\n",
       "      <td>34495</td>\n",
       "      <td>34481</td>\n",
       "      <td>34473</td>\n",
       "      <td>34334</td>\n",
       "      <td>34191</td>\n",
       "      <td>34136</td>\n",
       "    </tr>\n",
       "    <tr>\n",
       "      <th>6708</th>\n",
       "      <td>33604</td>\n",
       "      <td>33597</td>\n",
       "      <td>49273</td>\n",
       "      <td>49445</td>\n",
       "      <td>49636</td>\n",
       "      <td>49722</td>\n",
       "      <td>49929</td>\n",
       "      <td>50003</td>\n",
       "      <td>49933</td>\n",
       "      <td>49990</td>\n",
       "      <td>...</td>\n",
       "      <td>33987</td>\n",
       "      <td>33893</td>\n",
       "      <td>33862</td>\n",
       "      <td>33730</td>\n",
       "      <td>33723</td>\n",
       "      <td>33736</td>\n",
       "      <td>33656</td>\n",
       "      <td>33696</td>\n",
       "      <td>33729</td>\n",
       "      <td>33667</td>\n",
       "    </tr>\n",
       "    <tr>\n",
       "      <th>7817</th>\n",
       "      <td>48946</td>\n",
       "      <td>48763</td>\n",
       "      <td>49289</td>\n",
       "      <td>49808</td>\n",
       "      <td>50256</td>\n",
       "      <td>50585</td>\n",
       "      <td>50743</td>\n",
       "      <td>50953</td>\n",
       "      <td>51180</td>\n",
       "      <td>51305</td>\n",
       "      <td>...</td>\n",
       "      <td>33608</td>\n",
       "      <td>33649</td>\n",
       "      <td>33617</td>\n",
       "      <td>33700</td>\n",
       "      <td>33728</td>\n",
       "      <td>33705</td>\n",
       "      <td>33818</td>\n",
       "      <td>33812</td>\n",
       "      <td>33732</td>\n",
       "      <td>33831</td>\n",
       "    </tr>\n",
       "    <tr>\n",
       "      <th>20380</th>\n",
       "      <td>49152</td>\n",
       "      <td>49204</td>\n",
       "      <td>49225</td>\n",
       "      <td>49153</td>\n",
       "      <td>49626</td>\n",
       "      <td>50247</td>\n",
       "      <td>50645</td>\n",
       "      <td>50839</td>\n",
       "      <td>51093</td>\n",
       "      <td>51314</td>\n",
       "      <td>...</td>\n",
       "      <td>31564</td>\n",
       "      <td>31600</td>\n",
       "      <td>31623</td>\n",
       "      <td>31604</td>\n",
       "      <td>31688</td>\n",
       "      <td>31744</td>\n",
       "      <td>31684</td>\n",
       "      <td>31804</td>\n",
       "      <td>31843</td>\n",
       "      <td>31809</td>\n",
       "    </tr>\n",
       "  </tbody>\n",
       "</table>\n",
       "<p>22677 rows × 154 columns</p>\n",
       "</div>"
      ],
      "text/plain": [
       "         0      1      2      3      4      5      6      7      8      9    \\\n",
       "14028  33761  34056  34189  34106  34052  33963  33809  33711  33664  33540   \n",
       "17429  33650  33689  33651  33677  33609  33623  33675  33558  33343  33525   \n",
       "13188  33677  49165  49218  49480  49616  49538  49529  50109  50669  51045   \n",
       "12085  34120  33993  33967  33865  33703  33717  33637  50049  50279  50451   \n",
       "19612  32056  31820  31869  32323  32520  32650  32663  32545  32494  32394   \n",
       "...      ...    ...    ...    ...    ...    ...    ...    ...    ...    ...   \n",
       "19975  49152  48884  49152  49740  50214  50533  50816  50943  51181  51382   \n",
       "18093  33414  33321  33831  34108  34145  34159  34109  33964  33913  33814   \n",
       "6708   33604  33597  49273  49445  49636  49722  49929  50003  49933  49990   \n",
       "7817   48946  48763  49289  49808  50256  50585  50743  50953  51180  51305   \n",
       "20380  49152  49204  49225  49153  49626  50247  50645  50839  51093  51314   \n",
       "\n",
       "       ...    144    145    146    147    148    149    150    151    152  \\\n",
       "14028  ...  34023  34303  34470  34498  34342  34294  34192  34035  33987   \n",
       "17429  ...  33430  33385  33321  33327  33482  33584  33663  33891  33912   \n",
       "13188  ...  34052  33945  33882  33736  33727  33729  33654  33705  33721   \n",
       "12085  ...  34554  34408  34292  34212  34023  33902  33844  33676  33661   \n",
       "19612  ...  31414  31541  31381  31438  31974  32194  32320  32255  32183   \n",
       "...    ...    ...    ...    ...    ...    ...    ...    ...    ...    ...   \n",
       "19975  ...  31648  31611  31657  31771  31702  31788  31843  31804  31848   \n",
       "18093  ...  33826  33644  33795  34303  34495  34481  34473  34334  34191   \n",
       "6708   ...  33987  33893  33862  33730  33723  33736  33656  33696  33729   \n",
       "7817   ...  33608  33649  33617  33700  33728  33705  33818  33812  33732   \n",
       "20380  ...  31564  31600  31623  31604  31688  31744  31684  31804  31843   \n",
       "\n",
       "         153  \n",
       "14028  33874  \n",
       "17429  33711  \n",
       "13188  33682  \n",
       "12085  33687  \n",
       "19612  32131  \n",
       "...      ...  \n",
       "19975  31901  \n",
       "18093  34136  \n",
       "6708   33667  \n",
       "7817   33831  \n",
       "20380  31809  \n",
       "\n",
       "[22677 rows x 154 columns]"
      ]
     },
     "execution_count": 19,
     "metadata": {},
     "output_type": "execute_result"
    }
   ],
   "source": [
    "Xp"
   ]
  },
  {
   "cell_type": "code",
   "execution_count": 20,
   "metadata": {},
   "outputs": [],
   "source": [
    "nb_classes =6\n",
    "\n",
    "x_test=np.array(Xn).astype('float')\n",
    "y_test=np.array(yn)\n",
    "# transform the labels from integers to one hot vectors\n",
    "enc = sklearn.preprocessing.OneHotEncoder(categories='auto')\n",
    "enc.fit(np.concatenate((y_test, y_test), axis=0).reshape(-1, 1))\n",
    "y_test = enc.transform(y_test.reshape(-1, 1)).toarray()\n",
    "\n",
    "# save orignal y because later we will use binary\n",
    "y_true = np.argmax(y_test, axis=1)\n",
    "\n",
    "if len(x_test.shape) == 2:  # if univariate\n",
    "    # add a dimension to make it multivariate with one dimension \n",
    "    x_test = x_test.reshape((x_test.shape[0], x_test.shape[1], 1))"
   ]
  },
  {
   "cell_type": "code",
   "execution_count": 21,
   "metadata": {},
   "outputs": [],
   "source": [
    "from classifiers import resnet\n",
    "path_p='/home/saad/aug_negative/'\n",
    "input_shape = x_test.shape[1:]\n",
    "classifier_n=resnet.Classifier_RESNET(path_p, input_shape, nb_classes, verbose=True,build=False)"
   ]
  },
  {
   "cell_type": "code",
   "execution_count": 31,
   "metadata": {},
   "outputs": [
    {
     "name": "stdout",
     "output_type": "stream",
     "text": [
      "   precision  accuracy    recall  duration\n",
      "0   0.831583  0.829348  0.831056       0.0\n"
     ]
    }
   ],
   "source": [
    "matrixx,yn_pred,yn_pred1 = classifier_n.predict1(x_test, y_true,return_df_metrics=True)\n",
    "print(matrixx)\n",
    "from sklearn.preprocessing import LabelEncoder\n",
    "label_encoder = LabelEncoder()\n",
    "integer_encoded = label_encoder.fit_transform(yn)\n",
    "inverted = label_encoder.inverse_transform(yn_pred)\n",
    "model_results2=inverted"
   ]
  },
  {
   "cell_type": "code",
   "execution_count": 32,
   "metadata": {},
   "outputs": [
    {
     "name": "stdout",
     "output_type": "stream",
     "text": [
      "2732\n",
      "2611\n",
      "3999\n",
      "3991\n",
      "2570\n",
      "3172\n"
     ]
    }
   ],
   "source": [
    "total_tn=[]\n",
    "total_tp=[]\n",
    "total_fn=[]\n",
    "total_fp=[]\n",
    "dictt={}\n",
    "sensitivity1={}\n",
    "specificity1={}\n",
    "accuracy1={}\n",
    "yn=np.array(yn)\n",
    "model_results2=np.array(model_results2)\n",
    "for i in classes:\n",
    "    if len(confusion_matrix(yn==i, model_results2==i)) == 2:\n",
    "        tn, fp, fn, tp = confusion_matrix(yn==i, model_results2==i).ravel()\n",
    "        print(tp)\n",
    "        total_tp.append(tp)\n",
    "        total_fn.append(fn)\n",
    "        total_fp.append(fp)\n",
    "        total_tn.append(tn)\n",
    "        sensitivity1[i]=(tp)/((tp)+(fn))\n",
    "        specificity1[i]=(tn)/((tn)+(fp))\n",
    "        accuracy1[i]=((tp) + (tn))/ ((tn)+ (tp)+(fp)+(fn))"
   ]
  },
  {
   "cell_type": "code",
   "execution_count": 33,
   "metadata": {},
   "outputs": [
    {
     "data": {
      "text/plain": [
       "{'air': 0.8886086956521739,\n",
       " 'mine': 0.950391304347826,\n",
       " 'coin': 0.9999565217391304,\n",
       " 'pin': 0.9996086956521739,\n",
       " 'stone': 0.8686086956521739,\n",
       " 'fibersheet': 0.9515217391304348}"
      ]
     },
     "execution_count": 33,
     "metadata": {},
     "output_type": "execute_result"
    }
   ],
   "source": [
    "accuracy1"
   ]
  },
  {
   "cell_type": "code",
   "execution_count": 34,
   "metadata": {},
   "outputs": [
    {
     "data": {
      "text/plain": [
       "{'air': 0.683,\n",
       " 'mine': 0.8703333333333333,\n",
       " 'coin': 0.99975,\n",
       " 'pin': 0.99775,\n",
       " 'stone': 0.6425,\n",
       " 'fibersheet': 0.793}"
      ]
     },
     "execution_count": 34,
     "metadata": {},
     "output_type": "execute_result"
    }
   ],
   "source": [
    "sensitivity1"
   ]
  },
  {
   "cell_type": "code",
   "execution_count": 35,
   "metadata": {},
   "outputs": [
    {
     "data": {
      "text/plain": [
       "{'air': 0.9318947368421052,\n",
       " 'mine': 0.9624,\n",
       " 'coin': 1.0,\n",
       " 'pin': 1.0,\n",
       " 'stone': 0.9162105263157895,\n",
       " 'fibersheet': 0.9848947368421053}"
      ]
     },
     "execution_count": 35,
     "metadata": {},
     "output_type": "execute_result"
    }
   ],
   "source": [
    "specificity1"
   ]
  },
  {
   "cell_type": "code",
   "execution_count": 36,
   "metadata": {},
   "outputs": [],
   "source": [
    "cm1=confusion_matrix(yn, model_results2)"
   ]
  },
  {
   "cell_type": "code",
   "execution_count": 44,
   "metadata": {},
   "outputs": [],
   "source": [
    "import numpy as np\n",
    "\n",
    "\n",
    "def plot_confusion_matrix(cm,\n",
    "                          target_names,\n",
    "                          title='Confusion matrix',\n",
    "                          cmap=None,\n",
    "                          normalize=True):\n",
    "    \"\"\"\n",
    "    given a sklearn confusion matrix (cm), make a nice plot\n",
    "\n",
    "    Arguments\n",
    "    ---------\n",
    "    cm:           confusion matrix from sklearn.metrics.confusion_matrix\n",
    "\n",
    "    target_names: given classification classes such as [0, 1, 2]\n",
    "                  the class names, for example: ['high', 'medium', 'low']\n",
    "\n",
    "    title:        the text to display at the top of the matrix\n",
    "\n",
    "    cmap:         the gradient of the values displayed from matplotlib.pyplot.cm\n",
    "                  see http://matplotlib.org/examples/color/colormaps_reference.html\n",
    "                  plt.get_cmap('jet') or plt.cm.Blues\n",
    "\n",
    "    normalize:    If False, plot the raw numbers\n",
    "                  If True, plot the proportions\n",
    "\n",
    "    Usage\n",
    "    -----\n",
    "    plot_confusion_matrix(cm           = cm,                  # confusion matrix created by\n",
    "                                                              # sklearn.metrics.confusion_matrix\n",
    "                          normalize    = True,                # show proportions\n",
    "                          target_names = y_labels_vals,       # list of names of the classes\n",
    "                          title        = best_estimator_name) # title of graph\n",
    "\n",
    "    Citiation\n",
    "    ---------\n",
    "    http://scikit-learn.org/stable/auto_examples/model_selection/plot_confusion_matrix.html\n",
    "\n",
    "    \"\"\"\n",
    "    import matplotlib.pyplot as plt\n",
    "    import numpy as np\n",
    "    import itertools\n",
    "    %matplotlib inline\n",
    "    accuracy = np.trace(cm) / np.sum(cm).astype('float')\n",
    "    misclass = 1 - accuracy\n",
    "\n",
    "    if cmap is None:\n",
    "        cmap = plt.get_cmap('Blues')\n",
    "\n",
    "    plt.figure(figsize=(10, 10))\n",
    "    plt.imshow(cm, interpolation='nearest', cmap=cmap)\n",
    "    plt.title(title)\n",
    "    plt.colorbar()\n",
    "\n",
    "    if target_names is not None:\n",
    "        tick_marks = np.arange(len(target_names))\n",
    "        plt.xticks(tick_marks, target_names, rotation=45)\n",
    "        plt.yticks(tick_marks, target_names)\n",
    "\n",
    "    if normalize:\n",
    "        cm = cm.astype('float') / cm.sum(axis=1)[:, np.newaxis]\n",
    "\n",
    "\n",
    "    thresh = cm.max() / 1.5 if normalize else cm.max() / 2\n",
    "    for i, j in itertools.product(range(cm.shape[0]), range(cm.shape[1])):\n",
    "        if normalize:\n",
    "            plt.text(j, i, \"{:0.4f}\".format(cm[i, j]),\n",
    "                     horizontalalignment=\"center\",\n",
    "                     color=\"white\" if cm[i, j] > thresh else \"black\")\n",
    "        else:\n",
    "            plt.text(j, i, \"{:,}\".format(cm[i, j]),\n",
    "                     horizontalalignment=\"center\",\n",
    "                     color=\"white\" if cm[i, j] > thresh else \"black\")\n",
    "\n",
    "\n",
    "    plt.tight_layout()\n",
    "    plt.ylabel('True label')\n",
    "    plt.xlabel('Predicted label\\naccuracy={:0.4f}; misclass={:0.4f}'.format(accuracy, misclass))\n",
    "    plt.show()\n"
   ]
  },
  {
   "cell_type": "code",
   "execution_count": 45,
   "metadata": {},
   "outputs": [
    {
     "data": {
      "image/png": "[encoded data removed]",
      "text/plain": [
       "<Figure size 720x720 with 2 Axes>"
      ]
     },
     "metadata": {
      "needs_background": "light"
     },
     "output_type": "display_data"
    }
   ],
   "source": [
    "plot_confusion_matrix(cm,classes,title='Positive Model Matrix',normalize=False)"
   ]
  },
  {
   "cell_type": "code",
   "execution_count": 46,
   "metadata": {},
   "outputs": [
    {
     "data": {
      "image/png": "[encoded data removed]",
      "text/plain": [
       "<Figure size 720x720 with 2 Axes>"
      ]
     },
     "metadata": {
      "needs_background": "light"
     },
     "output_type": "display_data"
    }
   ],
   "source": [
    "plot_confusion_matrix(cm1,classes,title='Negative Model Matrix',normalize=False)"
   ]
  },
  {
   "cell_type": "code",
   "execution_count": null,
   "metadata": {},
   "outputs": [],
   "source": []
  }
 ],
 "metadata": {
  "interpreter": {
   "hash": "101490c927386acfffba3caea1ed2ed26b4f4bfe82e8991512466bbac1c17318"
  },
  "kernelspec": {
   "display_name": "Python 3.7.6 64-bit ('new_tf': conda)",
   "name": "python3"
  },
  "language_info": {
   "codemirror_mode": {
    "name": "ipython",
    "version": 3
   },
   "file_extension": ".py",
   "mimetype": "text/x-python",
   "name": "python",
   "nbconvert_exporter": "python",
   "pygments_lexer": "ipython3",
   "version": "3.7.6"
  }
 },
 "nbformat": 4,
 "nbformat_minor": 4
}
