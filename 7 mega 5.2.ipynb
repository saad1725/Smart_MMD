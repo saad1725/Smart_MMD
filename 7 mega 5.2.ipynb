{
 "cells": [
  {
   "cell_type": "code",
   "execution_count": 1,
   "metadata": {},
   "outputs": [
    {
     "name": "stderr",
     "output_type": "stream",
     "text": [
      "2021-09-28 16:23:29.002605: I tensorflow/stream_executor/platform/default/dso_loader.cc:49] Successfully opened dynamic library libcudart.so.10.1\n"
     ]
    }
   ],
   "source": [
    "import numpy as np\n",
    "import pandas as pd\n",
    "import matplotlib.pyplot as plt\n",
    "from matplotlib.pyplot import figure\n",
    "#import seaborn as sns\n",
    "from sklearn import preprocessing\n",
    "from sklearn.model_selection import train_test_split\n",
    "from sklearn.feature_selection import SelectKBest\n",
    "from sklearn.feature_selection import chi2\n",
    "from sklearn.metrics import accuracy_score\n",
    "from sklearn.svm import SVC\n",
    "import tensorflow as tf\n",
    "from tensorflow import keras\n",
    "import glob\n",
    "#from xgboost import XGBClassifier\n",
    "from sklearn.metrics import confusion_matrix,ConfusionMatrixDisplay,plot_confusion_matrix\n",
    "from utils.utils import generate_results_csv\n",
    "from utils.utils import create_directory\n",
    "from utils.utils import read_dataset\n",
    "from utils.utils import transform_mts_to_ucr_format\n",
    "from utils.utils import visualize_filter\n",
    "from utils.utils import viz_for_survey_paper\n",
    "from utils.utils import viz_cam\n",
    "import os\n",
    "import numpy as np\n",
    "import sys\n",
    "import sklearn\n",
    "import utils\n",
    "from utils.constants import CLASSIFIERS\n",
    "from utils.constants import ARCHIVE_NAMES\n",
    "from utils.constants import ITERATIONS\n",
    "classes=['air','mine','coin','pin','stone','fibersheet']\n",
    "metals=['coin','pin','mine']"
   ]
  },
  {
   "cell_type": "code",
   "execution_count": null,
   "metadata": {},
   "outputs": [],
   "source": [
    "path ='/home/saad/mine detector/' # use your path\n",
    "all_files = glob.glob(path + \"/*.csv\")\n",
    "\n",
    "def correction (x,y):\n",
    "#     if x>16408 and x <53846:\n",
    "#         y=y+1024\n",
    "         #if x==41\n",
    "    return y\n",
    "# 16408\n",
    "# 53846\n",
    "count=0\n",
    "air_p=[]\n",
    "air_n=[]\n",
    "stone_p=[]\n",
    "stone_n=[]\n",
    "fs_p=[]\n",
    "fs_n=[]\n",
    "heavy_p=[]\n",
    "heavy_n=[]\n",
    "coin_p=[]\n",
    "coin_n=[]\n",
    "mine_p=[]\n",
    "mine_n=[]\n",
    "pin_p=[]\n",
    "pin_n=[]\n",
    "for i in all_files:\n",
    "    print(i)\n",
    "    if 'air' in i[-30:].split('\\\\')[-1]:\n",
    "        air=pd.read_csv(i)\n",
    "        air_p.append(air.iloc[:,0])\n",
    "        air_n.append(air.iloc[:,1])\n",
    "    if 'coin' in i[-30:].split('\\\\')[-1]:\n",
    "        coin=pd.read_csv(i)\n",
    "        coin_p.append(coin.iloc[:,0])\n",
    "        coin_n.append(coin.iloc[:,1])\n",
    "        print(\"coin\")\n",
    "    if 'fibersheet' in i[-30:].split('\\\\')[-1]:\n",
    "        fs=pd.read_csv(i)\n",
    "        fs_p.append(fs.iloc[:,0])\n",
    "        fs_n.append(fs.iloc[:,1])\n",
    "    if 'heavy' in i[-30:].split('\\\\')[-1]:\n",
    "        h=pd.read_csv(i)\n",
    "        heavy_p.append(h.iloc[:,0])\n",
    "        heavy_n.append(h.iloc[:,1])\n",
    "    if 'mine' in i[-30:].split('\\\\')[-1]:\n",
    "        m=pd.read_csv(i)\n",
    "        mine_p.append(m.iloc[:,0])\n",
    "        mine_n.append(m.iloc[:,1])\n",
    "       \n",
    "    if 'pin' in i[-30:].split('\\\\')[-1]:\n",
    "        p=pd.read_csv(i)\n",
    "        pin_p.append(p.iloc[:,0])\n",
    "        pin_n.append(p.iloc[:,1])\n",
    "        \n",
    "    if 'stone' in i[-30:].split('\\\\')[-1]:\n",
    "        s=pd.read_csv(i)\n",
    "        stone_p.append(s.iloc[:,0])\n",
    "        stone_n.append(s.iloc[:,1])\n",
    "    \n",
    "air_p=np.array(air_p).flatten()\n",
    "coin_p=np.array(coin_p).flatten()\n",
    "mine_p=np.array(mine_p).flatten()\n",
    "fs_p=np.array(fs_p).flatten()\n",
    "stone_p=np.array(stone_p).flatten()\n",
    "pin_p=np.array(pin_p).flatten()\n",
    "heavy_p=np.array(heavy_p).flatten()\n",
    "air_n=np.array(air_n).flatten()\n",
    "coin_n=np.array(coin_n).flatten()\n",
    "mine_n=np.array(mine_n).flatten()\n",
    "fs_n=np.array(fs_n).flatten()\n",
    "stone_n=np.array(stone_n).flatten()\n",
    "pin_n=np.array(pin_n).flatten()\n",
    "heavy_n=np.array(heavy_n).flatten()\n"
   ]
  },
  {
   "cell_type": "code",
   "execution_count": null,
   "metadata": {},
   "outputs": [],
   "source": [
    "# df=pd.DataFrame(({'1':heavy_p, '2':heavy_n})).to_csv(r'C:\\Users\\PC\\Desktop\\latest 5.2 data\\new\\heavy.csv')\n",
    "df=pd.DataFrame(({'1':stone_p, '2':stone_n})).to_csv('/home/saad/latest 5.2 data/new/stone.csv')\n",
    "df=pd.DataFrame(({'1':mine_p, '2':mine_n})).to_csv('/home/saad/latest 5.2 data/new/mine.csv')\n",
    "df=pd.DataFrame(({'1':pin_p, '2':pin_n})).to_csv('/home/saad/latest 5.2 data/new/pin.csv')\n",
    "df=pd.DataFrame(({'1':coin_p, '2':coin_n})).to_csv('/home/saad/latest 5.2 data/new/coin.csv')\n",
    "df=pd.DataFrame(({'1':air_p, '2':air_n})).to_csv('/home/saad/latest 5.2 data/new/air.csv')\n",
    "df=pd.DataFrame(({'1':fs_p, '2':fs_n})).to_csv('/home/saad/latest 5.2 data/new/fibersheet.csv')"
   ]
  },
  {
   "cell_type": "code",
   "execution_count": null,
   "metadata": {},
   "outputs": [],
   "source": [
    "data=pd.read_csv('/home/saad/latest 5.2 data/new/air.csv')"
   ]
  },
  {
   "cell_type": "code",
   "execution_count": null,
   "metadata": {},
   "outputs": [],
   "source": [
    "l=list(data.loc[:,'1'])"
   ]
  },
  {
   "cell_type": "code",
   "execution_count": 2,
   "metadata": {},
   "outputs": [],
   "source": [
    "metals=['coin','pin','mine']"
   ]
  },
  {
   "cell_type": "markdown",
   "metadata": {},
   "source": [
    "WITH AUGMENTATION"
   ]
  },
  {
   "cell_type": "code",
   "execution_count": null,
   "metadata": {},
   "outputs": [],
   "source": [
    "# file_n=all_files[0][-30:].split('/')[-1]\n",
    "# print(file_n)\n",
    "# if file_n.split(\".\")[0] in metals:\n",
    "#     print (\"yes\")"
   ]
  },
  {
   "cell_type": "code",
   "execution_count": 27,
   "metadata": {},
   "outputs": [
    {
     "name": "stdout",
     "output_type": "stream",
     "text": [
      "/home/saad/latest 5.2 data/new/pin.csv\n",
      "(155, 92132)\n",
      "metal\n",
      "/home/saad/latest 5.2 data/new/air.csv\n",
      "(155, 93000)\n",
      "non-metal\n",
      "/home/saad/latest 5.2 data/new/fibersheet.csv\n",
      "(155, 93000)\n",
      "non-metal\n",
      "/home/saad/latest 5.2 data/new/stone.csv\n",
      "(155, 93000)\n",
      "non-metal\n",
      "/home/saad/latest 5.2 data/new/mine.csv\n",
      "(155, 124000)\n",
      "metal\n",
      "/home/saad/latest 5.2 data/new/coin.csv\n",
      "(155, 93000)\n",
      "metal\n"
     ]
    }
   ],
   "source": [
    "path = '/home/saad/latest 5.2 data/new' # use your path\n",
    "all_files = glob.glob(path + \"/*.csv\")\n",
    "\n",
    "count=0\n",
    "for a in all_files:\n",
    "    print(a)\n",
    "    data=pd.read_csv(a)\n",
    "\n",
    "    list_cord=list(data.loc[:,'1'])\n",
    "#     list_cord=list_cord[200:]\n",
    "    diff=[]\n",
    "    peak=[]\n",
    "    peak1=[]\n",
    "    l_50=[]\n",
    "    collect={}\n",
    "    i=57\n",
    "    peaklen=155\n",
    "    w=1\n",
    "    while i <len(list_cord):\n",
    "        if list_cord[i]>55000:\n",
    "            for g in range(0,16):\n",
    "                i_new_start = i-35\n",
    "                i_new_end = i+120\n",
    "                peak=list_cord[i_new_start-g:i_new_end-g]\n",
    "                peak1=list_cord[i_new_start+g:i_new_end+g]\n",
    "            #print(i_new_start,i_new_end)\n",
    "\n",
    " \n",
    "            #print(w)\n",
    "            #print(len(peak),len(peak1),len(peak2),len(peak3),len(peak4),len(peak5),len(peak6),len(peak7),len(peak8),len(peak9),len(peak10))\n",
    "                if len(peak)<peaklen:\n",
    "                    d=peaklen-len(peak)\n",
    "\n",
    "                    for f in range(0,d):\n",
    "                        peak.append(peak[-1:][0])\n",
    "                if len(peak1)<peaklen:\n",
    "                    d=peaklen-len(peak1)\n",
    "\n",
    "                    for f in range(0,d):\n",
    "                        peak1.append(peak1[-1:][0])                  \n",
    "                #print(len(peak),len(peak1),len(peak2),len(peak3),len(peak4),len(peak5),len(peak6),len(peak7),len(peak8),len(peak9),len(peak10))\n",
    "                if g==0:\n",
    "                    collect[w]=peak\n",
    "                    w=w+1\n",
    "                else:\n",
    "                    collect[w]=peak\n",
    "                    collect[w+1]=peak1\n",
    "                    w=w+2\n",
    "            i=i+165\n",
    "        i=i+1\n",
    "    dump=pd.DataFrame(collect)\n",
    "    dump=dump.iloc[:,dump.columns!=0]\n",
    "    #dump.iloc[:,:].plot()\n",
    "    print(dump.shape)\n",
    "    file_n=all_files[count][-30:].split('/')[-1]\n",
    "    #print(file_n)\n",
    "    dump=pd.DataFrame(collect)\n",
    "    dump=dump.iloc[:,dump.columns!=0]\n",
    "    \n",
    "    if file_n.split(\".\")[0] in metals:\n",
    "        print(\"metal\")\n",
    "        pd.DataFrame(collect).to_csv( '/home/saad/latest 5.2 data/new/metal/positives//'+file_n,header=False)\n",
    "        count=count+1\n",
    "    else:\n",
    "        print(\"non-metal\")\n",
    "        pd.DataFrame(collect).to_csv( '/home/saad/latest 5.2 data/new/non-metal/positives//'+file_n,header=False)\n",
    "        count=count+1\n"
   ]
  },
  {
   "cell_type": "code",
   "execution_count": 28,
   "metadata": {},
   "outputs": [
    {
     "data": {
      "text/plain": [
       "93000"
      ]
     },
     "execution_count": 28,
     "metadata": {},
     "output_type": "execute_result"
    }
   ],
   "source": [
    "len(collect)"
   ]
  },
  {
   "cell_type": "code",
   "execution_count": 29,
   "metadata": {},
   "outputs": [
    {
     "name": "stdout",
     "output_type": "stream",
     "text": [
      "/home/saad/latest 5.2 data/new/pin.csv\n",
      "metal\n",
      "/home/saad/latest 5.2 data/new/air.csv\n",
      "non-metal\n",
      "/home/saad/latest 5.2 data/new/fibersheet.csv\n",
      "non-metal\n",
      "/home/saad/latest 5.2 data/new/stone.csv\n",
      "non-metal\n",
      "/home/saad/latest 5.2 data/new/mine.csv\n",
      "metal\n",
      "/home/saad/latest 5.2 data/new/coin.csv\n",
      "metal\n"
     ]
    }
   ],
   "source": [
    "path = '/home/saad/latest 5.2 data/new' # use your path\n",
    "all_files = glob.glob(path + \"/*.csv\")\n",
    "\n",
    "count=0\n",
    "for a in all_files:\n",
    "    print(a)\n",
    "    data=pd.read_csv(a)\n",
    "\n",
    "    list_cord=list(data.loc[:,'2'])\n",
    "    peak=[]\n",
    "    peak1=[]\n",
    "    collect={}\n",
    "    i=65\n",
    "    peaklen=140\n",
    "    w=1\n",
    "    while i <len(list_cord):\n",
    "        if list_cord[i]>55000:\n",
    "            i_new_start=i-50\n",
    "            i_new_end=i+90\n",
    "            for g in range(0,16):\n",
    "  \n",
    "                peak=list_cord[i_new_start-g:i_new_end-g]\n",
    "                peak1=list_cord[i_new_start+g:i_new_end+g]\n",
    "            #print(i_new_start,i_new_end)\n",
    "\n",
    "\n",
    "            #print(w)\n",
    "            #print(len(peak),len(peak1),len(peak2),len(peak3),len(peak4),len(peak5),len(peak6),len(peak7),len(peak8),len(peak9),len(peak10))\n",
    "                if len(peak)<peaklen:\n",
    "                    d=peaklen-len(peak)\n",
    "\n",
    "                    for f in range(0,d):\n",
    "                        peak.append(peak[-1:][0])\n",
    "                if len(peak1)<peaklen:\n",
    "                    d=peaklen-len(peak1)\n",
    "\n",
    "                    for f in range(0,d):\n",
    "                        peak1.append(peak1[-1:][0])                  \n",
    "                #print(len(peak),len(peak1),len(peak2),len(peak3),len(peak4),len(peak5),len(peak6),len(peak7),len(peak8),len(peak9),len(peak10))\n",
    "                if g==0:\n",
    "                    collect[w]=peak\n",
    "                    w=w+1\n",
    "                else:\n",
    "                    collect[w]=peak\n",
    "                    collect[w+1]=peak1\n",
    "                    w=w+2\n",
    "            i=i+135\n",
    "        i=i+1\n",
    "    dump=pd.DataFrame(collect)\n",
    "    dump=dump.iloc[:,dump.columns!=0]\n",
    "    file_n=all_files[count][-30:].split('/')[-1]\n",
    "    if file_n.split(\".\")[0] in metals:\n",
    "        print(\"metal\")\n",
    "        pd.DataFrame(collect).to_csv( '/home/saad/latest 5.2 data/new/metal/negatives//'+file_n,header=False)\n",
    "        count=count+1\n",
    "    else:\n",
    "        print(\"non-metal\")\n",
    "        pd.DataFrame(collect).to_csv( '/home/saad/latest 5.2 data/new/non-metal/negatives//'+file_n,header=False)\n",
    "        count=count+1"
   ]
  },
  {
   "cell_type": "code",
   "execution_count": 3,
   "metadata": {},
   "outputs": [],
   "source": [
    "classes=['air','mine','coin','pin','stone','fibersheet']"
   ]
  },
  {
   "cell_type": "code",
   "execution_count": 2,
   "metadata": {},
   "outputs": [
    {
     "name": "stdout",
     "output_type": "stream",
     "text": [
      "/home/saad/latest 5.2 data/new/metal/positives/pin.csv /home/saad/latest 5.2 data/new/metal/negatives/pin.csv\n",
      "pin.csv pin.csv\n",
      "pin pin\n",
      "(154, 92133) (139, 93001)\n",
      "/home/saad/latest 5.2 data/new/metal/positives/mine.csv /home/saad/latest 5.2 data/new/metal/negatives/mine.csv\n",
      "mine.csv mine.csv\n",
      "mine mine\n",
      "(154, 124001) (139, 124001)\n",
      "/home/saad/latest 5.2 data/new/metal/positives/coin.csv /home/saad/latest 5.2 data/new/metal/negatives/coin.csv\n",
      "coin.csv coin.csv\n",
      "coin coin\n",
      "(154, 93001) (139, 93001)\n",
      "/home/saad/latest 5.2 data/new/non-metal/positives/air.csv /home/saad/latest 5.2 data/new/non-metal/negatives/air.csv\n",
      "air.csv air.csv\n",
      "air air\n",
      "/home/saad/latest 5.2 data/new/non-metal/positives/fibersheet.csv /home/saad/latest 5.2 data/new/non-metal/negatives/fibersheet.csv\n",
      "fibersheet.csv fibersheet.csv\n",
      "fibersheet fibersheet\n",
      "/home/saad/latest 5.2 data/new/non-metal/positives/stone.csv /home/saad/latest 5.2 data/new/non-metal/negatives/stone.csv\n",
      "stone.csv stone.csv\n",
      "stone stone\n",
      "(279000, 155) (309132, 155)\n",
      "(310000, 140) (279000, 140)\n"
     ]
    }
   ],
   "source": [
    "path_mp = '/home/saad/latest 5.2 data/new/metal/positives' # use your path\n",
    "all_files_mp = glob.glob(path_mp + \"/*.csv\")\n",
    "path_np = '/home/saad/latest 5.2 data/new/non-metal/positives' # use your path\n",
    "all_files_np = glob.glob(path_np + \"/*.csv\")\n",
    "path_mn = '/home/saad/latest 5.2 data/new/metal/negatives' # use your path\n",
    "all_files_mn = glob.glob(path_mn + \"/*.csv\")\n",
    "path_nn = '/home/saad/latest 5.2 data/new/non-metal/negatives' # use your path\n",
    "all_files_nn = glob.glob(path_nn + \"/*.csv\")\n",
    "df_mp=[]\n",
    "df_np=[]\n",
    "df_mn=[]\n",
    "df_nn=[]\n",
    "positive_metal={}\n",
    "negative_metal={}\n",
    "positive_non={}\n",
    "negative_non={}\n",
    "count=0\n",
    "for i,j in zip(all_files_mp,all_files_mn):\n",
    "    print(i,j)\n",
    "    s1=str(all_files_mp[count][-30:].split('/')[-1])\n",
    "    s2=str(all_files_mn[count][-30:].split('/')[-1])\n",
    "    print(s1,s2)\n",
    "    c1=[x for x in classes if s1.split('.')[0] in x][0]\n",
    "    c2=[x for x in classes if s2.split('.')[0] in x][0]\n",
    "    print(c1,c2)\n",
    "\n",
    "    metal_pos=pd.read_csv(i)\n",
    "    metal_neg=pd.read_csv(j)\n",
    "\n",
    "    print(metal_pos.shape,metal_neg.shape)\n",
    "\n",
    "    metal_pos=metal_pos.drop(columns=[metal_pos.columns[0]],axis=1).transpose()\n",
    "    metal_neg=metal_neg.drop(columns=[metal_neg.columns[0]],axis=1).transpose()\n",
    "    m_p=[]\n",
    "    m_n=[]\n",
    "\n",
    "    for a in range(0,metal_pos.shape[0]):\n",
    "        m_p.append(c1)\n",
    "    for a in range(0,metal_neg.shape[0]):\n",
    "        m_n.append(c2)\n",
    "    metal_pos['Material']=m_p\n",
    "    metal_neg['Material']=m_n\n",
    "    df_mp.append(metal_pos)\n",
    "    df_mn.append(metal_neg)\n",
    "    count=count+1\n",
    "    \n",
    "\n",
    "count1=0\n",
    "for i,j in zip(all_files_np,all_files_nn):\n",
    "    print(i,j)\n",
    "\n",
    "    non_pos=pd.read_csv(i)\n",
    "    non_neg=pd.read_csv(j)\n",
    "    s3=str(all_files_np[count1][-30:].split('/')[-1])\n",
    "    s4=str(all_files_nn[count1][-30:].split('/')[-1])\n",
    "    print(s3,s4)\n",
    "    c3=[x for x in classes if s3.split('.')[0] in x][0]\n",
    "    c4=[x for x in classes if s4.split('.')[0] in x][0]\n",
    "    print(c3,c4)\n",
    "    non_pos=non_pos.drop(columns=[non_pos.columns[0]],axis=1).transpose()\n",
    "    non_neg=non_neg.drop(columns=[non_neg.columns[0]],axis=1).transpose()\n",
    "\n",
    "    m_p=[]\n",
    "    m_n=[]\n",
    "\n",
    "    for a in range(0,non_pos.shape[0]):\n",
    "        m_p.append(c3)\n",
    "    for a in range(0,non_neg.shape[0]):\n",
    "        m_n.append(c4)\n",
    "    non_pos['Material']=m_p\n",
    "    non_neg['Material']=m_n\n",
    "\n",
    "    df_np.append(non_pos)\n",
    "    df_nn.append(non_neg)\n",
    "\n",
    "    positive_non={}\n",
    "    negative_non={}\n",
    "    count1=count1+1\n",
    "data_mp=pd.concat(df_mp, axis=0, ignore_index=True)\n",
    "data_np=pd.concat(df_np,axis=0,ignore_index=True)\n",
    "data_mn=pd.concat(df_mn,axis=0,ignore_index=True)\n",
    "data_nn=pd.concat(df_nn,axis=0,ignore_index=True)\n",
    "print(data_np.shape,data_mp.shape)\n",
    "print(data_mn.shape,data_nn.shape)\n",
    "data_fp=pd.concat([data_mp,data_np],axis=0,ignore_index=True)\n",
    "data_fn=pd.concat([data_mn,data_nn],axis=0,ignore_index=True)"
   ]
  },
  {
   "cell_type": "code",
   "execution_count": 15,
   "metadata": {},
   "outputs": [],
   "source": [
    "# Xp1=Xp*1\n",
    "# Xp2=Xp*2\n",
    "# Xp3=Xp*3\n",
    "# X3=pd.concat([Xp1,Xp2,Xp3])\n",
    "# X3.shape"
   ]
  },
  {
   "cell_type": "code",
   "execution_count": 3,
   "metadata": {},
   "outputs": [],
   "source": [
    "Xp=data_fp.iloc[:,0:-1]\n",
    "yp=data_fp.iloc[:,-1]\n",
    "Xn=data_fn.iloc[:,0:-1]\n",
    "yn=data_fn.iloc[:,-1]"
   ]
  },
  {
   "cell_type": "code",
   "execution_count": null,
   "metadata": {},
   "outputs": [],
   "source": [
    "\n"
   ]
  },
  {
   "cell_type": "code",
   "execution_count": null,
   "metadata": {},
   "outputs": [],
   "source": []
  },
  {
   "cell_type": "code",
   "execution_count": 17,
   "metadata": {},
   "outputs": [
    {
     "data": {
      "text/plain": [
       "4.0"
      ]
     },
     "execution_count": 17,
     "metadata": {},
     "output_type": "execute_result"
    }
   ],
   "source": [
    "2352528/588132"
   ]
  },
  {
   "cell_type": "code",
   "execution_count": 4,
   "metadata": {},
   "outputs": [],
   "source": [
    "def my_Test_train(X,y,test_size):\n",
    "    X_train, X_test, y_train, y_test = train_test_split(X, y, test_size=test_size, random_state=42,shuffle=True)\n",
    "    print(f'Train X = {X_train.shape}\\tTrain y = {y_train.shape}\\tTest X = {X_test.shape}\\tTest y = {y_test.shape}')\n",
    "    return (X_train, X_test, y_train, y_test)\n",
    "    \n",
    "Xp_train1=[]\n",
    "yp_train1=[]\n",
    "i=0.8\n",
    "while i < 1.36:\n",
    "    Xp_train1.append(Xp*i)\n",
    "    yp_train1.append(yp)\n",
    "    i=i+0.01\n",
    "xp1=pd.concat(Xp_train1,axis=0,ignore_index=True)\n",
    "yp1=pd.concat(yp_train1,axis=0,ignore_index=True)\n",
    "    \n",
    "\n"
   ]
  },
  {
   "cell_type": "code",
   "execution_count": 19,
   "metadata": {},
   "outputs": [
    {
     "name": "stdout",
     "output_type": "stream",
     "text": [
      "Train X = (23054774, 154)\tTrain y = (23054774,)\tTest X = (9880618, 154)\tTest y = (9880618,)\n"
     ]
    }
   ],
   "source": [
    "x_train,x_test,y_train,y_test=my_Test_train(xp1,yp1,0.3)"
   ]
  },
  {
   "cell_type": "code",
   "execution_count": 20,
   "metadata": {},
   "outputs": [],
   "source": [
    "from utils.utils import generate_results_csv\n",
    "from utils.utils import create_directory\n",
    "from utils.utils import read_dataset\n",
    "from utils.utils import transform_mts_to_ucr_format\n",
    "from utils.utils import visualize_filter\n",
    "from utils.utils import viz_for_survey_paper\n",
    "from utils.utils import viz_cam\n",
    "import os\n",
    "import numpy as np\n",
    "import sys\n",
    "import sklearn\n",
    "import utils\n",
    "from utils.constants import CLASSIFIERS\n",
    "from utils.constants import ARCHIVE_NAMES\n",
    "from utils.constants import ITERATIONS"
   ]
  },
  {
   "cell_type": "code",
   "execution_count": 21,
   "metadata": {},
   "outputs": [
    {
     "name": "stdout",
     "output_type": "stream",
     "text": [
      "Number of devices: 10\n"
     ]
    },
    {
     "name": "stderr",
     "output_type": "stream",
     "text": [
      "2021-09-24 18:25:12.401263: I tensorflow/core/common_runtime/gpu/gpu_device.cc:1618] Found device 0 with properties: \n",
      "name: NVIDIA GeForce RTX 2080 Ti major: 7 minor: 5 memoryClockRate(GHz): 1.545\n",
      "pciBusID: 0000:1a:00.0\n",
      "2021-09-24 18:25:12.403811: I tensorflow/core/common_runtime/gpu/gpu_device.cc:1618] Found device 1 with properties: \n",
      "name: NVIDIA GeForce RTX 2080 Ti major: 7 minor: 5 memoryClockRate(GHz): 1.545\n",
      "pciBusID: 0000:1b:00.0\n",
      "2021-09-24 18:25:12.405157: I tensorflow/core/common_runtime/gpu/gpu_device.cc:1618] Found device 2 with properties: \n",
      "name: NVIDIA GeForce RTX 2080 Ti major: 7 minor: 5 memoryClockRate(GHz): 1.545\n",
      "pciBusID: 0000:1c:00.0\n",
      "2021-09-24 18:25:12.406481: I tensorflow/core/common_runtime/gpu/gpu_device.cc:1618] Found device 3 with properties: \n",
      "name: NVIDIA GeForce RTX 2080 Ti major: 7 minor: 5 memoryClockRate(GHz): 1.545\n",
      "pciBusID: 0000:1d:00.0\n",
      "2021-09-24 18:25:12.407814: I tensorflow/core/common_runtime/gpu/gpu_device.cc:1618] Found device 4 with properties: \n",
      "name: NVIDIA GeForce RTX 2080 Ti major: 7 minor: 5 memoryClockRate(GHz): 1.545\n",
      "pciBusID: 0000:1e:00.0\n",
      "2021-09-24 18:25:12.409103: I tensorflow/core/common_runtime/gpu/gpu_device.cc:1618] Found device 5 with properties: \n",
      "name: NVIDIA GeForce RTX 2080 Ti major: 7 minor: 5 memoryClockRate(GHz): 1.545\n",
      "pciBusID: 0000:3d:00.0\n",
      "2021-09-24 18:25:12.410402: I tensorflow/core/common_runtime/gpu/gpu_device.cc:1618] Found device 6 with properties: \n",
      "name: NVIDIA GeForce RTX 2080 Ti major: 7 minor: 5 memoryClockRate(GHz): 1.545\n",
      "pciBusID: 0000:3e:00.0\n",
      "2021-09-24 18:25:12.411706: I tensorflow/core/common_runtime/gpu/gpu_device.cc:1618] Found device 7 with properties: \n",
      "name: NVIDIA GeForce RTX 2080 Ti major: 7 minor: 5 memoryClockRate(GHz): 1.545\n",
      "pciBusID: 0000:3f:00.0\n",
      "2021-09-24 18:25:12.413009: I tensorflow/core/common_runtime/gpu/gpu_device.cc:1618] Found device 8 with properties: \n",
      "name: NVIDIA GeForce RTX 2080 Ti major: 7 minor: 5 memoryClockRate(GHz): 1.545\n",
      "pciBusID: 0000:40:00.0\n",
      "2021-09-24 18:25:12.414293: I tensorflow/core/common_runtime/gpu/gpu_device.cc:1618] Found device 9 with properties: \n",
      "name: NVIDIA GeForce RTX 2080 Ti major: 7 minor: 5 memoryClockRate(GHz): 1.545\n",
      "pciBusID: 0000:41:00.0\n",
      "2021-09-24 18:25:12.414372: I tensorflow/stream_executor/platform/default/dso_loader.cc:44] Successfully opened dynamic library libcudart.so.10.0\n",
      "2021-09-24 18:25:12.414389: I tensorflow/stream_executor/platform/default/dso_loader.cc:44] Successfully opened dynamic library libcublas.so.10.0\n",
      "2021-09-24 18:25:12.414401: I tensorflow/stream_executor/platform/default/dso_loader.cc:44] Successfully opened dynamic library libcufft.so.10.0\n",
      "2021-09-24 18:25:12.414412: I tensorflow/stream_executor/platform/default/dso_loader.cc:44] Successfully opened dynamic library libcurand.so.10.0\n",
      "2021-09-24 18:25:12.414424: I tensorflow/stream_executor/platform/default/dso_loader.cc:44] Successfully opened dynamic library libcusolver.so.10.0\n",
      "2021-09-24 18:25:12.414435: I tensorflow/stream_executor/platform/default/dso_loader.cc:44] Successfully opened dynamic library libcusparse.so.10.0\n",
      "2021-09-24 18:25:12.414447: I tensorflow/stream_executor/platform/default/dso_loader.cc:44] Successfully opened dynamic library libcudnn.so.7\n",
      "2021-09-24 18:25:12.438659: I tensorflow/core/common_runtime/gpu/gpu_device.cc:1746] Adding visible gpu devices: 0, 1, 2, 3, 4, 5, 6, 7, 8, 9\n",
      "2021-09-24 18:25:12.438835: I tensorflow/core/common_runtime/gpu/gpu_device.cc:1159] Device interconnect StreamExecutor with strength 1 edge matrix:\n",
      "2021-09-24 18:25:12.438844: I tensorflow/core/common_runtime/gpu/gpu_device.cc:1165]      0 1 2 3 4 5 6 7 8 9 \n",
      "2021-09-24 18:25:12.438848: I tensorflow/core/common_runtime/gpu/gpu_device.cc:1178] 0:   N N N N N N N N N N \n",
      "2021-09-24 18:25:12.438851: I tensorflow/core/common_runtime/gpu/gpu_device.cc:1178] 1:   N N N N N N N N N N \n",
      "2021-09-24 18:25:12.438854: I tensorflow/core/common_runtime/gpu/gpu_device.cc:1178] 2:   N N N N N N N N N N \n",
      "2021-09-24 18:25:12.438857: I tensorflow/core/common_runtime/gpu/gpu_device.cc:1178] 3:   N N N N N N N N N N \n",
      "2021-09-24 18:25:12.438860: I tensorflow/core/common_runtime/gpu/gpu_device.cc:1178] 4:   N N N N N N N N N N \n",
      "2021-09-24 18:25:12.438862: I tensorflow/core/common_runtime/gpu/gpu_device.cc:1178] 5:   N N N N N N N N N N \n",
      "2021-09-24 18:25:12.438865: I tensorflow/core/common_runtime/gpu/gpu_device.cc:1178] 6:   N N N N N N N N N N \n",
      "2021-09-24 18:25:12.438868: I tensorflow/core/common_runtime/gpu/gpu_device.cc:1178] 7:   N N N N N N N N N N \n",
      "2021-09-24 18:25:12.438871: I tensorflow/core/common_runtime/gpu/gpu_device.cc:1178] 8:   N N N N N N N N N N \n",
      "2021-09-24 18:25:12.438874: I tensorflow/core/common_runtime/gpu/gpu_device.cc:1178] 9:   N N N N N N N N N N \n",
      "2021-09-24 18:25:12.452148: I tensorflow/core/common_runtime/gpu/gpu_device.cc:1304] Created TensorFlow device (/device:GPU:0 with 10171 MB memory) -> physical GPU (device: 0, name: NVIDIA GeForce RTX 2080 Ti, pci bus id: 0000:1a:00.0, compute capability: 7.5)\n",
      "2021-09-24 18:25:12.453483: I tensorflow/core/common_runtime/gpu/gpu_device.cc:1304] Created TensorFlow device (/device:GPU:1 with 10171 MB memory) -> physical GPU (device: 1, name: NVIDIA GeForce RTX 2080 Ti, pci bus id: 0000:1b:00.0, compute capability: 7.5)\n",
      "2021-09-24 18:25:12.454785: I tensorflow/core/common_runtime/gpu/gpu_device.cc:1304] Created TensorFlow device (/device:GPU:2 with 10171 MB memory) -> physical GPU (device: 2, name: NVIDIA GeForce RTX 2080 Ti, pci bus id: 0000:1c:00.0, compute capability: 7.5)\n",
      "2021-09-24 18:25:12.456059: I tensorflow/core/common_runtime/gpu/gpu_device.cc:1304] Created TensorFlow device (/device:GPU:3 with 10171 MB memory) -> physical GPU (device: 3, name: NVIDIA GeForce RTX 2080 Ti, pci bus id: 0000:1d:00.0, compute capability: 7.5)\n",
      "2021-09-24 18:25:12.457365: I tensorflow/core/common_runtime/gpu/gpu_device.cc:1304] Created TensorFlow device (/device:GPU:4 with 10171 MB memory) -> physical GPU (device: 4, name: NVIDIA GeForce RTX 2080 Ti, pci bus id: 0000:1e:00.0, compute capability: 7.5)\n",
      "2021-09-24 18:25:12.458640: I tensorflow/core/common_runtime/gpu/gpu_device.cc:1304] Created TensorFlow device (/device:GPU:5 with 10171 MB memory) -> physical GPU (device: 5, name: NVIDIA GeForce RTX 2080 Ti, pci bus id: 0000:3d:00.0, compute capability: 7.5)\n",
      "2021-09-24 18:25:12.459947: I tensorflow/core/common_runtime/gpu/gpu_device.cc:1304] Created TensorFlow device (/device:GPU:6 with 10171 MB memory) -> physical GPU (device: 6, name: NVIDIA GeForce RTX 2080 Ti, pci bus id: 0000:3e:00.0, compute capability: 7.5)\n",
      "2021-09-24 18:25:12.461209: I tensorflow/core/common_runtime/gpu/gpu_device.cc:1304] Created TensorFlow device (/device:GPU:7 with 10171 MB memory) -> physical GPU (device: 7, name: NVIDIA GeForce RTX 2080 Ti, pci bus id: 0000:3f:00.0, compute capability: 7.5)\n",
      "2021-09-24 18:25:12.462444: I tensorflow/core/common_runtime/gpu/gpu_device.cc:1304] Created TensorFlow device (/device:GPU:8 with 10171 MB memory) -> physical GPU (device: 8, name: NVIDIA GeForce RTX 2080 Ti, pci bus id: 0000:40:00.0, compute capability: 7.5)\n",
      "2021-09-24 18:25:12.463704: I tensorflow/core/common_runtime/gpu/gpu_device.cc:1304] Created TensorFlow device (/device:GPU:9 with 10171 MB memory) -> physical GPU (device: 9, name: NVIDIA GeForce RTX 2080 Ti, pci bus id: 0000:41:00.0, compute capability: 7.5)\n"
     ]
    }
   ],
   "source": [
    "from classifiers import resnet\n",
    "path_p='/home/saad/aug_positive/'\n",
    "# classifier1=resnet.Classifier_RESNET(path_p, input_shape, nb_classes, verbose)"
   ]
  },
  {
   "cell_type": "code",
   "execution_count": 22,
   "metadata": {},
   "outputs": [],
   "source": [
    "nb_classes = len(np.unique(np.concatenate((y_train, y_test), axis=0)))\n",
    "y_train=np.array(y_train)\n",
    "x_train=np.array(x_train).astype('float')\n",
    "x_test=np.array(x_test).astype('float')\n",
    "y_test=np.array(y_test)\n",
    "# transform the labels from integers to one hot vectors\n",
    "enc = sklearn.preprocessing.OneHotEncoder(categories='auto')\n",
    "enc.fit(np.concatenate((y_train, y_test), axis=0).reshape(-1, 1))\n",
    "y_train = enc.transform(y_train.reshape(-1, 1)).toarray()\n",
    "y_test = enc.transform(y_test.reshape(-1, 1)).toarray()\n",
    "\n",
    "# save orignal y because later we will use binary\n",
    "y_true = np.argmax(y_test, axis=1)\n",
    "\n",
    "if len(x_train.shape) == 2:  # if univariate\n",
    "    # add a dimension to make it multivariate with one dimension \n",
    "    x_train = x_train.reshape((x_train.shape[0], x_train.shape[1], 1))\n",
    "    x_test = x_test.reshape((x_test.shape[0], x_test.shape[1], 1))\n",
    "\n"
   ]
  },
  {
   "cell_type": "code",
   "execution_count": null,
   "metadata": {},
   "outputs": [],
   "source": []
  },
  {
   "cell_type": "code",
   "execution_count": 23,
   "metadata": {},
   "outputs": [
    {
     "name": "stdout",
     "output_type": "stream",
     "text": [
      "INFO:tensorflow:Reduce to /job:localhost/replica:0/task:0/device:CPU:0 then broadcast to ('/job:localhost/replica:0/task:0/device:CPU:0',).\n",
      "INFO:tensorflow:Reduce to /job:localhost/replica:0/task:0/device:CPU:0 then broadcast to ('/job:localhost/replica:0/task:0/device:CPU:0',).\n",
      "INFO:tensorflow:Reduce to /job:localhost/replica:0/task:0/device:CPU:0 then broadcast to ('/job:localhost/replica:0/task:0/device:CPU:0',).\n",
      "INFO:tensorflow:Reduce to /job:localhost/replica:0/task:0/device:CPU:0 then broadcast to ('/job:localhost/replica:0/task:0/device:CPU:0',).\n",
      "INFO:tensorflow:Reduce to /job:localhost/replica:0/task:0/device:CPU:0 then broadcast to ('/job:localhost/replica:0/task:0/device:CPU:0',).\n",
      "INFO:tensorflow:Reduce to /job:localhost/replica:0/task:0/device:CPU:0 then broadcast to ('/job:localhost/replica:0/task:0/device:CPU:0',).\n",
      "INFO:tensorflow:Reduce to /job:localhost/replica:0/task:0/device:CPU:0 then broadcast to ('/job:localhost/replica:0/task:0/device:CPU:0',).\n",
      "INFO:tensorflow:Reduce to /job:localhost/replica:0/task:0/device:CPU:0 then broadcast to ('/job:localhost/replica:0/task:0/device:CPU:0',).\n",
      "INFO:tensorflow:Reduce to /job:localhost/replica:0/task:0/device:CPU:0 then broadcast to ('/job:localhost/replica:0/task:0/device:CPU:0',).\n",
      "INFO:tensorflow:Reduce to /job:localhost/replica:0/task:0/device:CPU:0 then broadcast to ('/job:localhost/replica:0/task:0/device:CPU:0',).\n",
      "Model: \"model\"\n",
      "__________________________________________________________________________________________________\n",
      "Layer (type)                    Output Shape         Param #     Connected to                     \n",
      "==================================================================================================\n",
      "input_1 (InputLayer)            [(None, 154, 1)]     0                                            \n",
      "__________________________________________________________________________________________________\n",
      "conv1d (Conv1D)                 (None, 154, 64)      576         input_1[0][0]                    \n",
      "__________________________________________________________________________________________________\n",
      "batch_normalization (BatchNorma (None, 154, 64)      256         conv1d[0][0]                     \n",
      "__________________________________________________________________________________________________\n",
      "activation (Activation)         (None, 154, 64)      0           batch_normalization[0][0]        \n",
      "__________________________________________________________________________________________________\n",
      "conv1d_1 (Conv1D)               (None, 154, 64)      20544       activation[0][0]                 \n",
      "__________________________________________________________________________________________________\n",
      "batch_normalization_1 (BatchNor (None, 154, 64)      256         conv1d_1[0][0]                   \n",
      "__________________________________________________________________________________________________\n",
      "activation_1 (Activation)       (None, 154, 64)      0           batch_normalization_1[0][0]      \n",
      "__________________________________________________________________________________________________\n",
      "conv1d_3 (Conv1D)               (None, 154, 64)      128         input_1[0][0]                    \n",
      "__________________________________________________________________________________________________\n",
      "conv1d_2 (Conv1D)               (None, 154, 64)      12352       activation_1[0][0]               \n",
      "__________________________________________________________________________________________________\n",
      "batch_normalization_3 (BatchNor (None, 154, 64)      256         conv1d_3[0][0]                   \n",
      "__________________________________________________________________________________________________\n",
      "batch_normalization_2 (BatchNor (None, 154, 64)      256         conv1d_2[0][0]                   \n",
      "__________________________________________________________________________________________________\n",
      "add (Add)                       (None, 154, 64)      0           batch_normalization_3[0][0]      \n",
      "                                                                 batch_normalization_2[0][0]      \n",
      "__________________________________________________________________________________________________\n",
      "activation_2 (Activation)       (None, 154, 64)      0           add[0][0]                        \n",
      "__________________________________________________________________________________________________\n",
      "conv1d_4 (Conv1D)               (None, 154, 128)     65664       activation_2[0][0]               \n",
      "__________________________________________________________________________________________________\n",
      "batch_normalization_4 (BatchNor (None, 154, 128)     512         conv1d_4[0][0]                   \n",
      "__________________________________________________________________________________________________\n",
      "activation_3 (Activation)       (None, 154, 128)     0           batch_normalization_4[0][0]      \n",
      "__________________________________________________________________________________________________\n",
      "conv1d_5 (Conv1D)               (None, 154, 128)     82048       activation_3[0][0]               \n",
      "__________________________________________________________________________________________________\n",
      "batch_normalization_5 (BatchNor (None, 154, 128)     512         conv1d_5[0][0]                   \n",
      "__________________________________________________________________________________________________\n",
      "activation_4 (Activation)       (None, 154, 128)     0           batch_normalization_5[0][0]      \n",
      "__________________________________________________________________________________________________\n",
      "conv1d_7 (Conv1D)               (None, 154, 128)     8320        activation_2[0][0]               \n",
      "__________________________________________________________________________________________________\n",
      "conv1d_6 (Conv1D)               (None, 154, 128)     49280       activation_4[0][0]               \n",
      "__________________________________________________________________________________________________\n",
      "batch_normalization_7 (BatchNor (None, 154, 128)     512         conv1d_7[0][0]                   \n",
      "__________________________________________________________________________________________________\n",
      "batch_normalization_6 (BatchNor (None, 154, 128)     512         conv1d_6[0][0]                   \n",
      "__________________________________________________________________________________________________\n",
      "add_1 (Add)                     (None, 154, 128)     0           batch_normalization_7[0][0]      \n",
      "                                                                 batch_normalization_6[0][0]      \n",
      "__________________________________________________________________________________________________\n",
      "activation_5 (Activation)       (None, 154, 128)     0           add_1[0][0]                      \n",
      "__________________________________________________________________________________________________\n",
      "conv1d_8 (Conv1D)               (None, 154, 128)     131200      activation_5[0][0]               \n",
      "__________________________________________________________________________________________________\n",
      "batch_normalization_8 (BatchNor (None, 154, 128)     512         conv1d_8[0][0]                   \n",
      "__________________________________________________________________________________________________\n",
      "activation_6 (Activation)       (None, 154, 128)     0           batch_normalization_8[0][0]      \n",
      "__________________________________________________________________________________________________\n",
      "conv1d_9 (Conv1D)               (None, 154, 128)     82048       activation_6[0][0]               \n",
      "__________________________________________________________________________________________________\n",
      "batch_normalization_9 (BatchNor (None, 154, 128)     512         conv1d_9[0][0]                   \n",
      "__________________________________________________________________________________________________\n",
      "activation_7 (Activation)       (None, 154, 128)     0           batch_normalization_9[0][0]      \n",
      "__________________________________________________________________________________________________\n",
      "conv1d_10 (Conv1D)              (None, 154, 128)     49280       activation_7[0][0]               \n",
      "__________________________________________________________________________________________________\n",
      "batch_normalization_11 (BatchNo (None, 154, 128)     512         activation_5[0][0]               \n",
      "__________________________________________________________________________________________________\n",
      "batch_normalization_10 (BatchNo (None, 154, 128)     512         conv1d_10[0][0]                  \n",
      "__________________________________________________________________________________________________\n",
      "add_2 (Add)                     (None, 154, 128)     0           batch_normalization_11[0][0]     \n",
      "                                                                 batch_normalization_10[0][0]     \n",
      "__________________________________________________________________________________________________\n",
      "activation_8 (Activation)       (None, 154, 128)     0           add_2[0][0]                      \n",
      "__________________________________________________________________________________________________\n",
      "global_average_pooling1d (Globa (None, 128)          0           activation_8[0][0]               \n",
      "__________________________________________________________________________________________________\n",
      "dense (Dense)                   (None, 6)            774         global_average_pooling1d[0][0]   \n",
      "==================================================================================================\n",
      "Total params: 507,334\n",
      "Trainable params: 504,774\n",
      "Non-trainable params: 2,560\n",
      "__________________________________________________________________________________________________\n",
      "Train on 23054774 samples, validate on 9880618 samples\n",
      "Epoch 1/20\n",
      "INFO:tensorflow:batch_all_reduce: 48 all-reduces with algorithm = nccl, num_packs = 1, agg_small_grads_max_bytes = 0 and agg_small_grads_max_group = 10\n",
      "INFO:tensorflow:batch_all_reduce: 48 all-reduces with algorithm = nccl, num_packs = 1, agg_small_grads_max_bytes = 0 and agg_small_grads_max_group = 10\n",
      "23054774/23054774 [==============================] - 1969s 85us/sample - loss: 0.1142 - accuracy: 0.9534 - val_loss: 5.6656 - val_accuracy: 0.4184\n",
      "Epoch 2/20\n",
      "23054774/23054774 [==============================] - 1893s 82us/sample - loss: 0.0045 - accuracy: 0.9986 - val_loss: 4.3884e-05 - val_accuracy: 1.0000\n",
      "Epoch 3/20\n",
      "23054774/23054774 [==============================] - 1891s 82us/sample - loss: 0.0018 - accuracy: 0.9995 - val_loss: 0.0038 - val_accuracy: 0.9988\n",
      "Epoch 4/20\n",
      "23054774/23054774 [==============================] - 1895s 82us/sample - loss: 0.0011 - accuracy: 0.9997 - val_loss: 0.0375 - val_accuracy: 0.9849\n",
      "Epoch 5/20\n",
      "23054774/23054774 [==============================] - 1897s 82us/sample - loss: 6.9757e-04 - accuracy: 0.9998 - val_loss: 2.6023e-05 - val_accuracy: 1.0000\n",
      "Epoch 6/20\n",
      "23054774/23054774 [==============================] - 1896s 82us/sample - loss: 5.6198e-04 - accuracy: 0.9998 - val_loss: 20.1272 - val_accuracy: 0.2683\n",
      "Epoch 7/20\n",
      "23054774/23054774 [==============================] - 1896s 82us/sample - loss: 4.6629e-04 - accuracy: 0.9999 - val_loss: 1.0441e-05 - val_accuracy: 1.0000\n",
      "Epoch 8/20\n",
      "23054774/23054774 [==============================] - 1900s 82us/sample - loss: 4.0895e-04 - accuracy: 0.9999 - val_loss: 1.6066e-05 - val_accuracy: 1.0000\n",
      "Epoch 9/20\n",
      "23054774/23054774 [==============================] - 1905s 83us/sample - loss: 3.1437e-04 - accuracy: 0.9999 - val_loss: 3.9439e-06 - val_accuracy: 1.0000\n",
      "Epoch 10/20\n",
      "23054774/23054774 [==============================] - 1899s 82us/sample - loss: 2.8704e-04 - accuracy: 0.9999 - val_loss: 2.2550e-06 - val_accuracy: 1.0000\n",
      "Epoch 11/20\n",
      "23054774/23054774 [==============================] - 1904s 83us/sample - loss: 2.6703e-04 - accuracy: 0.9999 - val_loss: 2.0078e-06 - val_accuracy: 1.0000\n",
      "Epoch 12/20\n",
      "23054774/23054774 [==============================] - 1906s 83us/sample - loss: 2.6341e-04 - accuracy: 0.9999 - val_loss: 3.1605e-06 - val_accuracy: 1.0000\n",
      "Epoch 13/20\n",
      "23054774/23054774 [==============================] - 1863s 81us/sample - loss: 1.9536e-04 - accuracy: 0.9999 - val_loss: 6.3739e-07 - val_accuracy: 1.0000\n",
      "Epoch 14/20\n",
      "23054774/23054774 [==============================] - 1904s 83us/sample - loss: 2.0360e-04 - accuracy: 0.9999 - val_loss: 5.9997e-07 - val_accuracy: 1.0000\n",
      "Epoch 15/20\n",
      "23054774/23054774 [==============================] - 1904s 83us/sample - loss: 1.8575e-04 - accuracy: 0.9999 - val_loss: 8.9625e-06 - val_accuracy: 1.0000\n",
      "Epoch 16/20\n",
      "23054774/23054774 [==============================] - 1898s 82us/sample - loss: 1.9910e-04 - accuracy: 0.9999 - val_loss: 4.1645e-07 - val_accuracy: 1.0000\n",
      "Epoch 17/20\n",
      "23054774/23054774 [==============================] - 1901s 82us/sample - loss: 1.3100e-04 - accuracy: 1.0000 - val_loss: 1.0363e-04 - val_accuracy: 1.0000\n",
      "Epoch 18/20\n",
      "23054774/23054774 [==============================] - 1898s 82us/sample - loss: 1.5347e-04 - accuracy: 1.0000 - val_loss: 0.1864 - val_accuracy: 0.9675\n",
      "Epoch 19/20\n",
      "23054774/23054774 [==============================] - 1900s 82us/sample - loss: 1.4458e-04 - accuracy: 1.0000 - val_loss: 6.0429e-07 - val_accuracy: 1.0000\n",
      "Epoch 20/20\n",
      "23054774/23054774 [==============================] - 1902s 83us/sample - loss: 1.4285e-04 - accuracy: 1.0000 - val_loss: 4.4872e-07 - val_accuracy: 1.0000\n"
     ]
    },
    {
     "data": {
      "text/html": [
       "<div>\n",
       "<style scoped>\n",
       "    .dataframe tbody tr th:only-of-type {\n",
       "        vertical-align: middle;\n",
       "    }\n",
       "\n",
       "    .dataframe tbody tr th {\n",
       "        vertical-align: top;\n",
       "    }\n",
       "\n",
       "    .dataframe thead th {\n",
       "        text-align: right;\n",
       "    }\n",
       "</style>\n",
       "<table border=\"1\" class=\"dataframe\">\n",
       "  <thead>\n",
       "    <tr style=\"text-align: right;\">\n",
       "      <th></th>\n",
       "      <th>precision</th>\n",
       "      <th>accuracy</th>\n",
       "      <th>recall</th>\n",
       "      <th>duration</th>\n",
       "    </tr>\n",
       "  </thead>\n",
       "  <tbody>\n",
       "    <tr>\n",
       "      <th>0</th>\n",
       "      <td>1.0</td>\n",
       "      <td>1.0</td>\n",
       "      <td>1.0</td>\n",
       "      <td>38082.239559</td>\n",
       "    </tr>\n",
       "  </tbody>\n",
       "</table>\n",
       "</div>"
      ],
      "text/plain": [
       "   precision  accuracy  recall      duration\n",
       "0        1.0       1.0     1.0  38082.239559"
      ]
     },
     "execution_count": 23,
     "metadata": {},
     "output_type": "execute_result"
    }
   ],
   "source": [
    "input_shape = x_train.shape[1:]\n",
    "classifier1=resnet.Classifier_RESNET(path_p, input_shape, nb_classes, verbose=True,build=True)\n",
    "# classifier = create_classifier(classifier_name, input_shape, nb_classes, output_directory)\n",
    "\n",
    "classifier1.fit(x_train, y_train, x_test, y_test, y_true,20,500)"
   ]
  },
  {
   "cell_type": "code",
   "execution_count": 7,
   "metadata": {},
   "outputs": [],
   "source": [
    "def my_Test_train(X,y,test_size):\n",
    "    X_train, X_test, y_train, y_test = train_test_split(X, y, test_size=test_size, random_state=42,shuffle=True)\n",
    "    print(f'Train X = {X_train.shape}\\tTrain y = {y_train.shape}\\tTest X = {X_test.shape}\\tTest y = {y_test.shape}')\n",
    "    return (X_train, X_test, y_train, y_test)\n",
    "    \n",
    "Xp_train1=[]\n",
    "yp_train1=[]\n",
    "i=0.8\n",
    "while i < 1.36:\n",
    "    Xp_train1.append(Xn*i)\n",
    "    yp_train1.append(yn)\n",
    "    i=i+0.01\n",
    "xp1=pd.concat(Xp_train1,axis=0,ignore_index=True)\n",
    "yp1=pd.concat(yp_train1,axis=0,ignore_index=True)\n",
    "    \n",
    "\n",
    "\n"
   ]
  },
  {
   "cell_type": "code",
   "execution_count": 8,
   "metadata": {},
   "outputs": [
    {
     "name": "stdout",
     "output_type": "stream",
     "text": [
      "Train X = (23088800, 139)\tTrain y = (23088800,)\tTest X = (9895200, 139)\tTest y = (9895200,)\n"
     ]
    }
   ],
   "source": [
    "x_train,x_test,y_train,y_test=my_Test_train(xp1,yp1,0.3)"
   ]
  },
  {
   "cell_type": "code",
   "execution_count": 10,
   "metadata": {},
   "outputs": [
    {
     "name": "stdout",
     "output_type": "stream",
     "text": [
      "INFO:tensorflow:Using MirroredStrategy with devices ('/job:localhost/replica:0/task:0/device:GPU:0', '/job:localhost/replica:0/task:0/device:GPU:1', '/job:localhost/replica:0/task:0/device:GPU:2', '/job:localhost/replica:0/task:0/device:GPU:3', '/job:localhost/replica:0/task:0/device:GPU:4', '/job:localhost/replica:0/task:0/device:GPU:5', '/job:localhost/replica:0/task:0/device:GPU:6', '/job:localhost/replica:0/task:0/device:GPU:7', '/job:localhost/replica:0/task:0/device:GPU:8', '/job:localhost/replica:0/task:0/device:GPU:9')\n",
      "Number of devices: 10\n"
     ]
    },
    {
     "name": "stderr",
     "output_type": "stream",
     "text": [
      "2021-09-28 16:41:04.526203: I tensorflow/compiler/jit/xla_gpu_device.cc:99] Not creating XLA devices, tf_xla_enable_xla_devices not set\n",
      "2021-09-28 16:41:04.529708: I tensorflow/core/common_runtime/gpu/gpu_device.cc:1720] Found device 0 with properties: \n",
      "pciBusID: 0000:1a:00.0 name: NVIDIA GeForce RTX 2080 Ti computeCapability: 7.5\n",
      "coreClock: 1.545GHz coreCount: 68 deviceMemorySize: 10.76GiB deviceMemoryBandwidth: 573.69GiB/s\n",
      "2021-09-28 16:41:04.532916: I tensorflow/core/common_runtime/gpu/gpu_device.cc:1720] Found device 1 with properties: \n",
      "pciBusID: 0000:1b:00.0 name: NVIDIA GeForce RTX 2080 Ti computeCapability: 7.5\n",
      "coreClock: 1.545GHz coreCount: 68 deviceMemorySize: 10.76GiB deviceMemoryBandwidth: 573.69GiB/s\n",
      "2021-09-28 16:41:04.536016: I tensorflow/core/common_runtime/gpu/gpu_device.cc:1720] Found device 2 with properties: \n",
      "pciBusID: 0000:1c:00.0 name: NVIDIA GeForce RTX 2080 Ti computeCapability: 7.5\n",
      "coreClock: 1.545GHz coreCount: 68 deviceMemorySize: 10.76GiB deviceMemoryBandwidth: 573.69GiB/s\n",
      "2021-09-28 16:41:04.537962: I tensorflow/core/common_runtime/gpu/gpu_device.cc:1720] Found device 3 with properties: \n",
      "pciBusID: 0000:1d:00.0 name: NVIDIA GeForce RTX 2080 Ti computeCapability: 7.5\n",
      "coreClock: 1.545GHz coreCount: 68 deviceMemorySize: 10.76GiB deviceMemoryBandwidth: 573.69GiB/s\n",
      "2021-09-28 16:41:04.539955: I tensorflow/core/common_runtime/gpu/gpu_device.cc:1720] Found device 4 with properties: \n",
      "pciBusID: 0000:1e:00.0 name: NVIDIA GeForce RTX 2080 Ti computeCapability: 7.5\n",
      "coreClock: 1.545GHz coreCount: 68 deviceMemorySize: 10.76GiB deviceMemoryBandwidth: 573.69GiB/s\n",
      "2021-09-28 16:41:04.541883: I tensorflow/core/common_runtime/gpu/gpu_device.cc:1720] Found device 5 with properties: \n",
      "pciBusID: 0000:3d:00.0 name: NVIDIA GeForce RTX 2080 Ti computeCapability: 7.5\n",
      "coreClock: 1.545GHz coreCount: 68 deviceMemorySize: 10.76GiB deviceMemoryBandwidth: 573.69GiB/s\n",
      "2021-09-28 16:41:04.543808: I tensorflow/core/common_runtime/gpu/gpu_device.cc:1720] Found device 6 with properties: \n",
      "pciBusID: 0000:3e:00.0 name: NVIDIA GeForce RTX 2080 Ti computeCapability: 7.5\n",
      "coreClock: 1.545GHz coreCount: 68 deviceMemorySize: 10.76GiB deviceMemoryBandwidth: 573.69GiB/s\n",
      "2021-09-28 16:41:04.545751: I tensorflow/core/common_runtime/gpu/gpu_device.cc:1720] Found device 7 with properties: \n",
      "pciBusID: 0000:3f:00.0 name: NVIDIA GeForce RTX 2080 Ti computeCapability: 7.5\n",
      "coreClock: 1.545GHz coreCount: 68 deviceMemorySize: 10.76GiB deviceMemoryBandwidth: 573.69GiB/s\n",
      "2021-09-28 16:41:04.547675: I tensorflow/core/common_runtime/gpu/gpu_device.cc:1720] Found device 8 with properties: \n",
      "pciBusID: 0000:40:00.0 name: NVIDIA GeForce RTX 2080 Ti computeCapability: 7.5\n",
      "coreClock: 1.545GHz coreCount: 68 deviceMemorySize: 10.76GiB deviceMemoryBandwidth: 573.69GiB/s\n",
      "2021-09-28 16:41:04.549603: I tensorflow/core/common_runtime/gpu/gpu_device.cc:1720] Found device 9 with properties: \n",
      "pciBusID: 0000:41:00.0 name: NVIDIA GeForce RTX 2080 Ti computeCapability: 7.5\n",
      "coreClock: 1.545GHz coreCount: 68 deviceMemorySize: 10.76GiB deviceMemoryBandwidth: 573.69GiB/s\n",
      "2021-09-28 16:41:04.549674: I tensorflow/stream_executor/platform/default/dso_loader.cc:49] Successfully opened dynamic library libcudart.so.10.1\n",
      "2021-09-28 16:41:04.549702: I tensorflow/stream_executor/platform/default/dso_loader.cc:49] Successfully opened dynamic library libcublas.so.10\n",
      "2021-09-28 16:41:04.549719: I tensorflow/stream_executor/platform/default/dso_loader.cc:49] Successfully opened dynamic library libcublasLt.so.10\n",
      "2021-09-28 16:41:04.549736: I tensorflow/stream_executor/platform/default/dso_loader.cc:49] Successfully opened dynamic library libcufft.so.10\n",
      "2021-09-28 16:41:04.549752: I tensorflow/stream_executor/platform/default/dso_loader.cc:49] Successfully opened dynamic library libcurand.so.10\n",
      "2021-09-28 16:41:04.549769: I tensorflow/stream_executor/platform/default/dso_loader.cc:49] Successfully opened dynamic library libcusolver.so.10\n",
      "2021-09-28 16:41:04.549786: I tensorflow/stream_executor/platform/default/dso_loader.cc:49] Successfully opened dynamic library libcusparse.so.10\n",
      "2021-09-28 16:41:04.549803: I tensorflow/stream_executor/platform/default/dso_loader.cc:49] Successfully opened dynamic library libcudnn.so.7\n",
      "2021-09-28 16:41:04.587787: I tensorflow/core/common_runtime/gpu/gpu_device.cc:1862] Adding visible gpu devices: 0, 1, 2, 3, 4, 5, 6, 7, 8, 9\n",
      "2021-09-28 16:41:08.439574: I tensorflow/core/common_runtime/gpu/gpu_device.cc:1261] Device interconnect StreamExecutor with strength 1 edge matrix:\n",
      "2021-09-28 16:41:08.439611: I tensorflow/core/common_runtime/gpu/gpu_device.cc:1267]      0 1 2 3 4 5 6 7 8 9 \n",
      "2021-09-28 16:41:08.439616: I tensorflow/core/common_runtime/gpu/gpu_device.cc:1280] 0:   N N N N N N N N N N \n",
      "2021-09-28 16:41:08.439625: I tensorflow/core/common_runtime/gpu/gpu_device.cc:1280] 1:   N N N N N N N N N N \n",
      "2021-09-28 16:41:08.439629: I tensorflow/core/common_runtime/gpu/gpu_device.cc:1280] 2:   N N N N N N N N N N \n",
      "2021-09-28 16:41:08.439631: I tensorflow/core/common_runtime/gpu/gpu_device.cc:1280] 3:   N N N N N N N N N N \n",
      "2021-09-28 16:41:08.439634: I tensorflow/core/common_runtime/gpu/gpu_device.cc:1280] 4:   N N N N N N N N N N \n",
      "2021-09-28 16:41:08.439637: I tensorflow/core/common_runtime/gpu/gpu_device.cc:1280] 5:   N N N N N N N N N N \n",
      "2021-09-28 16:41:08.439639: I tensorflow/core/common_runtime/gpu/gpu_device.cc:1280] 6:   N N N N N N N N N N \n",
      "2021-09-28 16:41:08.439642: I tensorflow/core/common_runtime/gpu/gpu_device.cc:1280] 7:   N N N N N N N N N N \n",
      "2021-09-28 16:41:08.439645: I tensorflow/core/common_runtime/gpu/gpu_device.cc:1280] 8:   N N N N N N N N N N \n",
      "2021-09-28 16:41:08.439648: I tensorflow/core/common_runtime/gpu/gpu_device.cc:1280] 9:   N N N N N N N N N N \n",
      "2021-09-28 16:41:08.454005: I tensorflow/core/common_runtime/gpu/gpu_device.cc:1406] Created TensorFlow device (/job:localhost/replica:0/task:0/device:GPU:0 with 10004 MB memory) -> physical GPU (device: 0, name: NVIDIA GeForce RTX 2080 Ti, pci bus id: 0000:1a:00.0, compute capability: 7.5)\n",
      "2021-09-28 16:41:08.457141: I tensorflow/core/common_runtime/gpu/gpu_device.cc:1406] Created TensorFlow device (/job:localhost/replica:0/task:0/device:GPU:1 with 10076 MB memory) -> physical GPU (device: 1, name: NVIDIA GeForce RTX 2080 Ti, pci bus id: 0000:1b:00.0, compute capability: 7.5)\n",
      "2021-09-28 16:41:08.460141: I tensorflow/core/common_runtime/gpu/gpu_device.cc:1406] Created TensorFlow device (/job:localhost/replica:0/task:0/device:GPU:2 with 10076 MB memory) -> physical GPU (device: 2, name: NVIDIA GeForce RTX 2080 Ti, pci bus id: 0000:1c:00.0, compute capability: 7.5)\n",
      "2021-09-28 16:41:08.463103: I tensorflow/core/common_runtime/gpu/gpu_device.cc:1406] Created TensorFlow device (/job:localhost/replica:0/task:0/device:GPU:3 with 10076 MB memory) -> physical GPU (device: 3, name: NVIDIA GeForce RTX 2080 Ti, pci bus id: 0000:1d:00.0, compute capability: 7.5)\n",
      "2021-09-28 16:41:08.466072: I tensorflow/core/common_runtime/gpu/gpu_device.cc:1406] Created TensorFlow device (/job:localhost/replica:0/task:0/device:GPU:4 with 10076 MB memory) -> physical GPU (device: 4, name: NVIDIA GeForce RTX 2080 Ti, pci bus id: 0000:1e:00.0, compute capability: 7.5)\n",
      "2021-09-28 16:41:08.469039: I tensorflow/core/common_runtime/gpu/gpu_device.cc:1406] Created TensorFlow device (/job:localhost/replica:0/task:0/device:GPU:5 with 10076 MB memory) -> physical GPU (device: 5, name: NVIDIA GeForce RTX 2080 Ti, pci bus id: 0000:3d:00.0, compute capability: 7.5)\n",
      "2021-09-28 16:41:08.472027: I tensorflow/core/common_runtime/gpu/gpu_device.cc:1406] Created TensorFlow device (/job:localhost/replica:0/task:0/device:GPU:6 with 10076 MB memory) -> physical GPU (device: 6, name: NVIDIA GeForce RTX 2080 Ti, pci bus id: 0000:3e:00.0, compute capability: 7.5)\n",
      "2021-09-28 16:41:08.474998: I tensorflow/core/common_runtime/gpu/gpu_device.cc:1406] Created TensorFlow device (/job:localhost/replica:0/task:0/device:GPU:7 with 10076 MB memory) -> physical GPU (device: 7, name: NVIDIA GeForce RTX 2080 Ti, pci bus id: 0000:3f:00.0, compute capability: 7.5)\n",
      "2021-09-28 16:41:08.477937: I tensorflow/core/common_runtime/gpu/gpu_device.cc:1406] Created TensorFlow device (/job:localhost/replica:0/task:0/device:GPU:8 with 10076 MB memory) -> physical GPU (device: 8, name: NVIDIA GeForce RTX 2080 Ti, pci bus id: 0000:40:00.0, compute capability: 7.5)\n",
      "2021-09-28 16:41:08.480886: I tensorflow/core/common_runtime/gpu/gpu_device.cc:1406] Created TensorFlow device (/job:localhost/replica:0/task:0/device:GPU:9 with 10076 MB memory) -> physical GPU (device: 9, name: NVIDIA GeForce RTX 2080 Ti, pci bus id: 0000:41:00.0, compute capability: 7.5)\n"
     ]
    }
   ],
   "source": [
    "from classifiers import resnet\n",
    "path_p='/home/saad/aug_negative/'"
   ]
  },
  {
   "cell_type": "code",
   "execution_count": 11,
   "metadata": {},
   "outputs": [],
   "source": [
    "nb_classes = len(np.unique(np.concatenate((y_train, y_test), axis=0)))\n",
    "y_train=np.array(y_train)\n",
    "x_train=np.array(x_train).astype('float')\n",
    "x_test=np.array(x_test).astype('float')\n",
    "y_test=np.array(y_test)\n",
    "# transform the labels from integers to one hot vectors\n",
    "enc = sklearn.preprocessing.OneHotEncoder(categories='auto')\n",
    "enc.fit(np.concatenate((y_train, y_test), axis=0).reshape(-1, 1))\n",
    "y_train = enc.transform(y_train.reshape(-1, 1)).toarray()\n",
    "y_test = enc.transform(y_test.reshape(-1, 1)).toarray()\n",
    "\n",
    "# save orignal y because later we will use binary\n",
    "y_true = np.argmax(y_test, axis=1)\n",
    "\n",
    "if len(x_train.shape) == 2:  # if univariate\n",
    "    # add a dimension to make it multivariate with one dimension \n",
    "    x_train = x_train.reshape((x_train.shape[0], x_train.shape[1], 1))\n",
    "    x_test = x_test.reshape((x_test.shape[0], x_test.shape[1], 1))\n"
   ]
  },
  {
   "cell_type": "code",
   "execution_count": 12,
   "metadata": {},
   "outputs": [
    {
     "name": "stdout",
     "output_type": "stream",
     "text": [
      "INFO:tensorflow:Reduce to /job:localhost/replica:0/task:0/device:CPU:0 then broadcast to ('/job:localhost/replica:0/task:0/device:CPU:0',).\n",
      "INFO:tensorflow:Reduce to /job:localhost/replica:0/task:0/device:CPU:0 then broadcast to ('/job:localhost/replica:0/task:0/device:CPU:0',).\n",
      "INFO:tensorflow:Reduce to /job:localhost/replica:0/task:0/device:CPU:0 then broadcast to ('/job:localhost/replica:0/task:0/device:CPU:0',).\n",
      "INFO:tensorflow:Reduce to /job:localhost/replica:0/task:0/device:CPU:0 then broadcast to ('/job:localhost/replica:0/task:0/device:CPU:0',).\n",
      "INFO:tensorflow:Reduce to /job:localhost/replica:0/task:0/device:CPU:0 then broadcast to ('/job:localhost/replica:0/task:0/device:CPU:0',).\n",
      "INFO:tensorflow:Reduce to /job:localhost/replica:0/task:0/device:CPU:0 then broadcast to ('/job:localhost/replica:0/task:0/device:CPU:0',).\n",
      "INFO:tensorflow:Reduce to /job:localhost/replica:0/task:0/device:CPU:0 then broadcast to ('/job:localhost/replica:0/task:0/device:CPU:0',).\n",
      "INFO:tensorflow:Reduce to /job:localhost/replica:0/task:0/device:CPU:0 then broadcast to ('/job:localhost/replica:0/task:0/device:CPU:0',).\n",
      "INFO:tensorflow:Reduce to /job:localhost/replica:0/task:0/device:CPU:0 then broadcast to ('/job:localhost/replica:0/task:0/device:CPU:0',).\n",
      "INFO:tensorflow:Reduce to /job:localhost/replica:0/task:0/device:CPU:0 then broadcast to ('/job:localhost/replica:0/task:0/device:CPU:0',).\n",
      "Model: \"model\"\n",
      "__________________________________________________________________________________________________\n",
      "Layer (type)                    Output Shape         Param #     Connected to                     \n",
      "==================================================================================================\n",
      "input_1 (InputLayer)            [(None, 139, 1)]     0                                            \n",
      "__________________________________________________________________________________________________\n",
      "conv1d (Conv1D)                 (None, 139, 64)      576         input_1[0][0]                    \n",
      "__________________________________________________________________________________________________\n",
      "batch_normalization (BatchNorma (None, 139, 64)      256         conv1d[0][0]                     \n",
      "__________________________________________________________________________________________________\n",
      "activation (Activation)         (None, 139, 64)      0           batch_normalization[0][0]        \n",
      "__________________________________________________________________________________________________\n",
      "conv1d_1 (Conv1D)               (None, 139, 64)      20544       activation[0][0]                 \n",
      "__________________________________________________________________________________________________\n",
      "batch_normalization_1 (BatchNor (None, 139, 64)      256         conv1d_1[0][0]                   \n",
      "__________________________________________________________________________________________________\n",
      "activation_1 (Activation)       (None, 139, 64)      0           batch_normalization_1[0][0]      \n",
      "__________________________________________________________________________________________________\n",
      "conv1d_3 (Conv1D)               (None, 139, 64)      128         input_1[0][0]                    \n",
      "__________________________________________________________________________________________________\n",
      "conv1d_2 (Conv1D)               (None, 139, 64)      12352       activation_1[0][0]               \n",
      "__________________________________________________________________________________________________\n",
      "batch_normalization_3 (BatchNor (None, 139, 64)      256         conv1d_3[0][0]                   \n",
      "__________________________________________________________________________________________________\n",
      "batch_normalization_2 (BatchNor (None, 139, 64)      256         conv1d_2[0][0]                   \n",
      "__________________________________________________________________________________________________\n",
      "add (Add)                       (None, 139, 64)      0           batch_normalization_3[0][0]      \n",
      "                                                                 batch_normalization_2[0][0]      \n",
      "__________________________________________________________________________________________________\n",
      "activation_2 (Activation)       (None, 139, 64)      0           add[0][0]                        \n",
      "__________________________________________________________________________________________________\n",
      "conv1d_4 (Conv1D)               (None, 139, 128)     65664       activation_2[0][0]               \n",
      "__________________________________________________________________________________________________\n",
      "batch_normalization_4 (BatchNor (None, 139, 128)     512         conv1d_4[0][0]                   \n",
      "__________________________________________________________________________________________________\n",
      "activation_3 (Activation)       (None, 139, 128)     0           batch_normalization_4[0][0]      \n",
      "__________________________________________________________________________________________________\n",
      "conv1d_5 (Conv1D)               (None, 139, 128)     82048       activation_3[0][0]               \n",
      "__________________________________________________________________________________________________\n",
      "batch_normalization_5 (BatchNor (None, 139, 128)     512         conv1d_5[0][0]                   \n",
      "__________________________________________________________________________________________________\n",
      "activation_4 (Activation)       (None, 139, 128)     0           batch_normalization_5[0][0]      \n",
      "__________________________________________________________________________________________________\n",
      "conv1d_7 (Conv1D)               (None, 139, 128)     8320        activation_2[0][0]               \n",
      "__________________________________________________________________________________________________\n",
      "conv1d_6 (Conv1D)               (None, 139, 128)     49280       activation_4[0][0]               \n",
      "__________________________________________________________________________________________________\n",
      "batch_normalization_7 (BatchNor (None, 139, 128)     512         conv1d_7[0][0]                   \n",
      "__________________________________________________________________________________________________\n",
      "batch_normalization_6 (BatchNor (None, 139, 128)     512         conv1d_6[0][0]                   \n",
      "__________________________________________________________________________________________________\n",
      "add_1 (Add)                     (None, 139, 128)     0           batch_normalization_7[0][0]      \n",
      "                                                                 batch_normalization_6[0][0]      \n",
      "__________________________________________________________________________________________________\n",
      "activation_5 (Activation)       (None, 139, 128)     0           add_1[0][0]                      \n",
      "__________________________________________________________________________________________________\n",
      "conv1d_8 (Conv1D)               (None, 139, 128)     131200      activation_5[0][0]               \n",
      "__________________________________________________________________________________________________\n",
      "batch_normalization_8 (BatchNor (None, 139, 128)     512         conv1d_8[0][0]                   \n",
      "__________________________________________________________________________________________________\n",
      "activation_6 (Activation)       (None, 139, 128)     0           batch_normalization_8[0][0]      \n",
      "__________________________________________________________________________________________________\n",
      "conv1d_9 (Conv1D)               (None, 139, 128)     82048       activation_6[0][0]               \n",
      "__________________________________________________________________________________________________\n",
      "batch_normalization_9 (BatchNor (None, 139, 128)     512         conv1d_9[0][0]                   \n",
      "__________________________________________________________________________________________________\n",
      "activation_7 (Activation)       (None, 139, 128)     0           batch_normalization_9[0][0]      \n",
      "__________________________________________________________________________________________________\n",
      "conv1d_10 (Conv1D)              (None, 139, 128)     49280       activation_7[0][0]               \n",
      "__________________________________________________________________________________________________\n",
      "batch_normalization_11 (BatchNo (None, 139, 128)     512         activation_5[0][0]               \n",
      "__________________________________________________________________________________________________\n",
      "batch_normalization_10 (BatchNo (None, 139, 128)     512         conv1d_10[0][0]                  \n",
      "__________________________________________________________________________________________________\n",
      "add_2 (Add)                     (None, 139, 128)     0           batch_normalization_11[0][0]     \n",
      "                                                                 batch_normalization_10[0][0]     \n",
      "__________________________________________________________________________________________________\n",
      "activation_8 (Activation)       (None, 139, 128)     0           add_2[0][0]                      \n",
      "__________________________________________________________________________________________________\n",
      "global_average_pooling1d (Globa (None, 128)          0           activation_8[0][0]               \n",
      "__________________________________________________________________________________________________\n",
      "dense (Dense)                   (None, 6)            774         global_average_pooling1d[0][0]   \n",
      "==================================================================================================\n",
      "Total params: 507,334\n",
      "Trainable params: 504,774\n",
      "Non-trainable params: 2,560\n",
      "__________________________________________________________________________________________________\n"
     ]
    },
    {
     "name": "stderr",
     "output_type": "stream",
     "text": [
      "2021-09-28 16:42:28.725917: W tensorflow/core/grappler/optimizers/data/auto_shard.cc:656] In AUTO-mode, and switching to DATA-based sharding, instead of FILE-based sharding as we cannot find appropriate reader dataset op(s) to shard. Error: Did not find a shardable source, walked to a node which is not a dataset: name: \"FlatMapDataset/_9\"\n",
      "op: \"FlatMapDataset\"\n",
      "input: \"PrefetchDataset/_8\"\n",
      "attr {\n",
      "  key: \"Targuments\"\n",
      "  value {\n",
      "    list {\n",
      "    }\n",
      "  }\n",
      "}\n",
      "attr {\n",
      "  key: \"f\"\n",
      "  value {\n",
      "    func {\n",
      "      name: \"__inference_Dataset_flat_map_slice_batch_indices_5680\"\n",
      "    }\n",
      "  }\n",
      "}\n",
      "attr {\n",
      "  key: \"output_shapes\"\n",
      "  value {\n",
      "    list {\n",
      "      shape {\n",
      "        dim {\n",
      "          size: -1\n",
      "        }\n",
      "      }\n",
      "    }\n",
      "  }\n",
      "}\n",
      "attr {\n",
      "  key: \"output_types\"\n",
      "  value {\n",
      "    list {\n",
      "      type: DT_INT64\n",
      "    }\n",
      "  }\n",
      "}\n",
      ". Consider either turning off auto-sharding or switching the auto_shard_policy to DATA to shard this dataset. You can do this by creating a new `tf.data.Options()` object then setting `options.experimental_distribute.auto_shard_policy = AutoShardPolicy.DATA` before applying the options object to the dataset via `dataset.with_options(options)`.\n",
      "2021-09-28 16:42:29.180035: I tensorflow/compiler/mlir/mlir_graph_optimization_pass.cc:116] None of the MLIR optimization passes are enabled (registered 2)\n",
      "2021-09-28 16:42:29.203919: I tensorflow/core/platform/profile_utils/cpu_utils.cc:112] CPU Frequency: 2100000000 Hz\n"
     ]
    },
    {
     "name": "stdout",
     "output_type": "stream",
     "text": [
      "Epoch 1/20\n",
      "INFO:tensorflow:batch_all_reduce: 48 all-reduces with algorithm = nccl, num_packs = 1\n",
      "INFO:tensorflow:batch_all_reduce: 48 all-reduces with algorithm = nccl, num_packs = 1\n"
     ]
    },
    {
     "name": "stderr",
     "output_type": "stream",
     "text": [
      "2021-09-28 16:43:02.141368: I tensorflow/stream_executor/platform/default/dso_loader.cc:49] Successfully opened dynamic library libcublas.so.10\n",
      "2021-09-28 16:43:04.146647: I tensorflow/stream_executor/platform/default/dso_loader.cc:49] Successfully opened dynamic library libcudnn.so.7\n",
      "2021-09-28 16:43:05.536358: W tensorflow/stream_executor/gpu/asm_compiler.cc:63] Running ptxas --version returned 256\n",
      "2021-09-28 16:43:05.952753: W tensorflow/stream_executor/gpu/redzone_allocator.cc:314] Internal: ptxas exited with non-zero error code 256, output: \n",
      "Relying on driver to perform ptx compilation. \n",
      "Modify $PATH to customize ptxas location.\n",
      "This message will be only logged once.\n"
     ]
    },
    {
     "name": "stdout",
     "output_type": "stream",
     "text": [
      "46178/46178 [==============================] - ETA: 0s - loss: 0.1417 - accuracy: 0.9424"
     ]
    },
    {
     "name": "stderr",
     "output_type": "stream",
     "text": [
      "2021-09-28 17:40:15.639010: W tensorflow/core/grappler/optimizers/data/auto_shard.cc:656] In AUTO-mode, and switching to DATA-based sharding, instead of FILE-based sharding as we cannot find appropriate reader dataset op(s) to shard. Error: Did not find a shardable source, walked to a node which is not a dataset: name: \"FlatMapDataset/_9\"\n",
      "op: \"FlatMapDataset\"\n",
      "input: \"PrefetchDataset/_8\"\n",
      "attr {\n",
      "  key: \"Targuments\"\n",
      "  value {\n",
      "    list {\n",
      "    }\n",
      "  }\n",
      "}\n",
      "attr {\n",
      "  key: \"f\"\n",
      "  value {\n",
      "    func {\n",
      "      name: \"__inference_Dataset_flat_map_slice_batch_indices_157314\"\n",
      "    }\n",
      "  }\n",
      "}\n",
      "attr {\n",
      "  key: \"output_shapes\"\n",
      "  value {\n",
      "    list {\n",
      "      shape {\n",
      "        dim {\n",
      "          size: -1\n",
      "        }\n",
      "      }\n",
      "    }\n",
      "  }\n",
      "}\n",
      "attr {\n",
      "  key: \"output_types\"\n",
      "  value {\n",
      "    list {\n",
      "      type: DT_INT64\n",
      "    }\n",
      "  }\n",
      "}\n",
      ". Consider either turning off auto-sharding or switching the auto_shard_policy to DATA to shard this dataset. You can do this by creating a new `tf.data.Options()` object then setting `options.experimental_distribute.auto_shard_policy = AutoShardPolicy.DATA` before applying the options object to the dataset via `dataset.with_options(options)`.\n"
     ]
    },
    {
     "name": "stdout",
     "output_type": "stream",
     "text": [
      "46178/46178 [==============================] - 4230s 70ms/step - loss: 0.1417 - accuracy: 0.9424 - val_loss: 0.2927 - val_accuracy: 0.9255\n",
      "Epoch 2/20\n",
      "46178/46178 [==============================] - 1631s 35ms/step - loss: 0.0024 - accuracy: 0.9993 - val_loss: 1.3119 - val_accuracy: 0.7568\n",
      "Epoch 3/20\n",
      "46178/46178 [==============================] - 1631s 35ms/step - loss: 8.8532e-04 - accuracy: 0.9997 - val_loss: 0.0085 - val_accuracy: 0.9969\n",
      "Epoch 4/20\n",
      "46178/46178 [==============================] - 1630s 35ms/step - loss: 5.2275e-04 - accuracy: 0.9998 - val_loss: 3.2540e-06 - val_accuracy: 1.0000\n",
      "Epoch 5/20\n",
      "46178/46178 [==============================] - 1635s 35ms/step - loss: 4.5579e-04 - accuracy: 0.9999 - val_loss: 5.5325e-07 - val_accuracy: 1.0000\n",
      "Epoch 6/20\n",
      "46178/46178 [==============================] - 1635s 35ms/step - loss: 4.2624e-04 - accuracy: 0.9999 - val_loss: 1.3551e-06 - val_accuracy: 1.0000\n"
     ]
    },
    {
     "name": "stderr",
     "output_type": "stream",
     "text": [
      "findfont: Font family ['sans-serif'] not found. Falling back to DejaVu Sans.\n",
      "findfont: Generic family 'sans-serif' not found because none of the following families were found: Arial\n",
      "findfont: Font family ['sans-serif'] not found. Falling back to DejaVu Sans.\n",
      "findfont: Generic family 'sans-serif' not found because none of the following families were found: Arial\n"
     ]
    },
    {
     "data": {
      "text/html": [
       "<div>\n",
       "<style scoped>\n",
       "    .dataframe tbody tr th:only-of-type {\n",
       "        vertical-align: middle;\n",
       "    }\n",
       "\n",
       "    .dataframe tbody tr th {\n",
       "        vertical-align: top;\n",
       "    }\n",
       "\n",
       "    .dataframe thead th {\n",
       "        text-align: right;\n",
       "    }\n",
       "</style>\n",
       "<table border=\"1\" class=\"dataframe\">\n",
       "  <thead>\n",
       "    <tr style=\"text-align: right;\">\n",
       "      <th></th>\n",
       "      <th>precision</th>\n",
       "      <th>accuracy</th>\n",
       "      <th>recall</th>\n",
       "      <th>duration</th>\n",
       "    </tr>\n",
       "  </thead>\n",
       "  <tbody>\n",
       "    <tr>\n",
       "      <th>0</th>\n",
       "      <td>1.0</td>\n",
       "      <td>1.0</td>\n",
       "      <td>1.0</td>\n",
       "      <td>12413.460032</td>\n",
       "    </tr>\n",
       "  </tbody>\n",
       "</table>\n",
       "</div>"
      ],
      "text/plain": [
       "   precision  accuracy  recall      duration\n",
       "0        1.0       1.0     1.0  12413.460032"
      ]
     },
     "execution_count": 12,
     "metadata": {},
     "output_type": "execute_result"
    }
   ],
   "source": [
    "input_shape = x_train.shape[1:]\n",
    "classifier2=resnet.Classifier_RESNET(path_p, input_shape, nb_classes, verbose=True,build=True)\n",
    "# classifier = create_classifier(classifier_name, input_shape, nb_classes, output_directory)\n",
    "\n",
    "classifier2.fit(x_train, y_train, x_test, y_test, y_true,20,500)"
   ]
  },
  {
   "cell_type": "code",
   "execution_count": 447,
   "metadata": {},
   "outputs": [
    {
     "name": "stdout",
     "output_type": "stream",
     "text": [
      "Train X = (735000, 132)\tTrain y = (735000,)\tTest X = (315000, 132)\tTest y = (315000,)\n"
     ]
    }
   ],
   "source": []
  },
  {
   "cell_type": "code",
   "execution_count": 395,
   "metadata": {},
   "outputs": [
    {
     "data": {
      "text/plain": [
       "0      float64\n",
       "1      float64\n",
       "2      float64\n",
       "3      float64\n",
       "4      float64\n",
       "        ...   \n",
       "204    float64\n",
       "205    float64\n",
       "206    float64\n",
       "207    float64\n",
       "208    float64\n",
       "Length: 209, dtype: object"
      ]
     },
     "execution_count": 395,
     "metadata": {},
     "output_type": "execute_result"
    }
   ],
   "source": []
  },
  {
   "cell_type": "code",
   "execution_count": 165,
   "metadata": {},
   "outputs": [],
   "source": [
    "# Xp.to_csv(\"check7.csv\",header=False)"
   ]
  },
  {
   "cell_type": "code",
   "execution_count": 489,
   "metadata": {},
   "outputs": [
    {
     "data": {
      "text/plain": [
       "DecisionTreeClassifier()"
      ]
     },
     "execution_count": 489,
     "metadata": {},
     "output_type": "execute_result"
    }
   ],
   "source": []
  },
  {
   "cell_type": "code",
   "execution_count": 401,
   "metadata": {},
   "outputs": [],
   "source": [
    "# import pickle\n",
    "# filename='positive_shiftandscaled.sav'\n",
    "# pickle.dump(clf_positive, open(filename, 'wb'))\n",
    " \n",
    "# some time later...\n",
    " \n",
    "# load the model from disk\n",
    "# loaded_model = pickle.load(open(filename, 'rb'))"
   ]
  },
  {
   "cell_type": "code",
   "execution_count": 490,
   "metadata": {},
   "outputs": [
    {
     "name": "stdout",
     "output_type": "stream",
     "text": [
      "************************************ \n",
      "Decision Tree Classifier postive waves Accuracy =  82.39032845904262\n",
      "************************************ \n"
     ]
    }
   ],
   "source": [
    "\n"
   ]
  },
  {
   "cell_type": "code",
   "execution_count": 429,
   "metadata": {},
   "outputs": [],
   "source": [
    "# dt=pd.read_csv(r'C:\\Users\\admin\\Desktop\\latest 5.2 data\\with shift\\metal\\positives\\\\mine.csv',header=None)"
   ]
  },
  {
   "cell_type": "code",
   "execution_count": 430,
   "metadata": {},
   "outputs": [],
   "source": [
    "# y_pred= clf_positive.predict(dt.iloc[:-1,:].drop(columns=[0],axis=1).transpose())\n",
    "# print(\"************************************ \")\n",
    "# #print(\"Decision Tree Classifier postive waves Accuracy = \",accuracy_score(yp_test, y_pred)*100)\n",
    "# print(\"************************************ \")\n"
   ]
  },
  {
   "cell_type": "code",
   "execution_count": 431,
   "metadata": {},
   "outputs": [],
   "source": [
    "#np.unique(y_pred)"
   ]
  },
  {
   "cell_type": "code",
   "execution_count": 408,
   "metadata": {},
   "outputs": [],
   "source": [
    "yp_test=np.array(yp_test)"
   ]
  },
  {
   "cell_type": "code",
   "execution_count": 409,
   "metadata": {},
   "outputs": [],
   "source": [
    "classes=np.array(classes)"
   ]
  },
  {
   "cell_type": "code",
   "execution_count": 332,
   "metadata": {},
   "outputs": [],
   "source": [
    "# yp_test[np.where(yp_test=='air')]=1\n",
    "# yp_test[np.where(yp_test=='mine')]=2\n",
    "# yp_test[np.where(yp_test=='stone')]=3\n",
    "# yp_test[np.where(yp_test=='pin')]=4\n",
    "# yp_test[np.where(yp_test=='coin')]=5\n",
    "# yp_test[np.where(yp_test=='fibersheet')]=6\n"
   ]
  },
  {
   "cell_type": "code",
   "execution_count": 333,
   "metadata": {},
   "outputs": [],
   "source": [
    "# y_pred[np.where(y_pred=='air')]=1\n",
    "# y_pred[np.where(y_pred=='mine')]=2\n",
    "# y_pred[np.where(y_pred=='stone')]=3\n",
    "# y_pred[np.where(y_pred=='pin')]=4\n",
    "# y_pred[np.where(y_pred=='coin')]=5\n",
    "# y_pred[np.where(y_pred=='fibersheet')]=6"
   ]
  },
  {
   "cell_type": "code",
   "execution_count": 410,
   "metadata": {},
   "outputs": [
    {
     "data": {
      "text/plain": [
       "array([ True, False, False, ..., False, False, False])"
      ]
     },
     "execution_count": 410,
     "metadata": {},
     "output_type": "execute_result"
    }
   ],
   "source": [
    "yp_test == \"air\""
   ]
  },
  {
   "cell_type": "code",
   "execution_count": 491,
   "metadata": {},
   "outputs": [
    {
     "name": "stdout",
     "output_type": "stream",
     "text": [
      "2782\n",
      "2940\n",
      "3708\n",
      "3775\n",
      "2613\n",
      "2719\n"
     ]
    }
   ],
   "source": [
    "total_tn=[]\n",
    "total_tp=[]\n",
    "total_fn=[]\n",
    "total_fp=[]\n",
    "dictt={}\n",
    "sensitivity={}\n",
    "specificity={}\n",
    "accuracy={}\n",
    "for i in classes:\n",
    "    if len(confusion_matrix(yp_test==i, yp_pred==i)) == 2:\n",
    "        tn, fp, fn, tp = confusion_matrix(yp_test==i, yp_pred==i).ravel()\n",
    "        print(tp)\n",
    "        total_tp.append(tp)\n",
    "        total_fn.append(fn)\n",
    "        total_fp.append(fp)\n",
    "        total_tn.append(tn)\n",
    "    sensitivity[i]=tp/(tp+fn)\n",
    "    specificity[i]=tn/(tn+fp)\n",
    "    accuracy[i]=(tp+ tn)/(tn+tp+fp+fn)"
   ]
  },
  {
   "cell_type": "code",
   "execution_count": 492,
   "metadata": {},
   "outputs": [
    {
     "data": {
      "text/plain": [
       "{'air': 0.9128850171118716,\n",
       " 'mine': 0.9214409529312414,\n",
       " 'coin': 0.9475976710076003,\n",
       " 'pin': 0.960531579181297,\n",
       " 'stone': 0.9483977065647362,\n",
       " 'fibersheet': 0.9413010948634755}"
      ]
     },
     "execution_count": 492,
     "metadata": {},
     "output_type": "execute_result"
    }
   ],
   "source": [
    "accuracy"
   ]
  },
  {
   "cell_type": "code",
   "execution_count": 493,
   "metadata": {},
   "outputs": [
    {
     "data": {
      "text/plain": [
       "{'air': 0.7400904495876562,\n",
       " 'mine': 0.7635441686682679,\n",
       " 'coin': 0.8418139617925371,\n",
       " 'pin': 0.8811557453623382,\n",
       " 'stone': 0.8447078927694115,\n",
       " 'fibersheet': 0.8239032845904263}"
      ]
     },
     "execution_count": 493,
     "metadata": {},
     "output_type": "execute_result"
    }
   ],
   "source": [
    "sensitivity"
   ]
  },
  {
   "cell_type": "code",
   "execution_count": 494,
   "metadata": {},
   "outputs": [
    {
     "data": {
      "text/plain": [
       "{'air': 0.9475453575240128,\n",
       " 'mine': 0.952991680887372,\n",
       " 'coin': 0.9686473043787193,\n",
       " 'pin': 0.9763898146913745,\n",
       " 'stone': 0.9691049280679116,\n",
       " 'fibersheet': 0.9647806569180852}"
      ]
     },
     "execution_count": 494,
     "metadata": {},
     "output_type": "execute_result"
    }
   ],
   "source": [
    "specificity"
   ]
  },
  {
   "cell_type": "code",
   "execution_count": 417,
   "metadata": {},
   "outputs": [
    {
     "data": {
      "text/plain": [
       "array([[249077,  13455],\n",
       "       [ 13735,  38712]], dtype=int64)"
      ]
     },
     "execution_count": 417,
     "metadata": {},
     "output_type": "execute_result"
    }
   ],
   "source": [
    "# confusion_matrix(yp_test=='air',y_pred=='air')"
   ]
  },
  {
   "cell_type": "code",
   "execution_count": 436,
   "metadata": {},
   "outputs": [],
   "source": [
    "plt.rcParams['figure.figsize'] = [10, 10]"
   ]
  },
  {
   "cell_type": "code",
   "execution_count": 495,
   "metadata": {},
   "outputs": [
    {
     "data": {
      "text/plain": [
       "<sklearn.metrics._plot.confusion_matrix.ConfusionMatrixDisplay at 0x152d1a15310>"
      ]
     },
     "execution_count": 495,
     "metadata": {},
     "output_type": "execute_result"
    },
    {
     "data": {
      "image/png": "[encoded data removed]",
      "text/plain": [
       "<Figure size 720x720 with 2 Axes>"
      ]
     },
     "metadata": {
      "needs_background": "light"
     },
     "output_type": "display_data"
    }
   ],
   "source": [
    "plot_confusion_matrix(clf_positive, Xp_test, yp_test) \n"
   ]
  },
  {
   "cell_type": "code",
   "execution_count": 455,
   "metadata": {},
   "outputs": [
    {
     "data": {
      "text/plain": [
       "DecisionTreeClassifier()"
      ]
     },
     "execution_count": 455,
     "metadata": {},
     "output_type": "execute_result"
    }
   ],
   "source": [
    "from sklearn import tree\n",
    "clf_negative = tree.DecisionTreeClassifier()\n",
    "clf_negative.fit(Xn_train,yn_train)\n"
   ]
  },
  {
   "cell_type": "code",
   "execution_count": 461,
   "metadata": {},
   "outputs": [
    {
     "name": "stdout",
     "output_type": "stream",
     "text": [
      "************************************ \n",
      "Decision Tree Classifier negative waves Accuracy =  80.47714285714285\n",
      "************************************ \n"
     ]
    }
   ],
   "source": [
    "yn_pred= clf_negative.predict(Xn_test)\n",
    "print(\"************************************ \")\n",
    "print(\"Decision Tree Classifier negative waves Accuracy = \",accuracy_score(yn_test, yn_pred)*100)\n",
    "print(\"************************************ \")"
   ]
  },
  {
   "cell_type": "code",
   "execution_count": 422,
   "metadata": {},
   "outputs": [],
   "source": [
    "import pickle\n",
    "filename='negative_shiftandscaled.sav'\n",
    "pickle.dump(clf_negative, open(filename, 'wb'))\n",
    " \n",
    "# some time later...\n",
    " \n",
    "# load the model from disk\n",
    "# loaded_model = pickle.load(open(filename, 'rb'))"
   ]
  },
  {
   "cell_type": "code",
   "execution_count": 462,
   "metadata": {},
   "outputs": [
    {
     "name": "stdout",
     "output_type": "stream",
     "text": [
      "36314\n",
      "44007\n",
      "52344\n",
      "52398\n",
      "33369\n",
      "35071\n"
     ]
    }
   ],
   "source": [
    "total_tn=[]\n",
    "total_tp=[]\n",
    "total_fn=[]\n",
    "total_fp=[]\n",
    "dictt={}\n",
    "sensitivity={}\n",
    "specificity={}\n",
    "accuracy={}\n",
    "for i in classes:\n",
    "    if len(confusion_matrix(yn_test==i, yn_pred==i)) == 2:\n",
    "        tn, fp, fn, tp = confusion_matrix(yn_test==i, yn_pred==i).ravel()\n",
    "        print(tp)\n",
    "        total_tp.append(tp)\n",
    "        total_fn.append(fn)\n",
    "        total_fp.append(fp)\n",
    "        total_tn.append(tn)\n",
    "    sensitivity1[i]=tp/(tp+fn)\n",
    "    specificity1[i]=tn/(tn+fp)\n",
    "    accuracy1[i]=(tp+ tn)/(tn+tp+fp+fn)"
   ]
  },
  {
   "cell_type": "code",
   "execution_count": 463,
   "metadata": {},
   "outputs": [
    {
     "data": {
      "text/plain": [
       "{'air': 0.8980952380952381,\n",
       " 'mine': 0.9223777777777777,\n",
       " 'coin': 0.9481650793650793,\n",
       " 'pin': 0.9610571428571428,\n",
       " 'stone': 0.9439384126984127,\n",
       " 'fibersheet': 0.9349238095238095}"
      ]
     },
     "execution_count": 463,
     "metadata": {},
     "output_type": "execute_result"
    }
   ],
   "source": [
    "accuracy1"
   ]
  },
  {
   "cell_type": "code",
   "execution_count": 464,
   "metadata": {},
   "outputs": [
    {
     "data": {
      "text/plain": [
       "{'air': 0.6906428299733739,\n",
       " 'mine': 0.7634568042050434,\n",
       " 'coin': 0.841809702084457,\n",
       " 'pin': 0.8810635816134638,\n",
       " 'stone': 0.8323597218252834,\n",
       " 'fibersheet': 0.8047714285714286}"
      ]
     },
     "execution_count": 464,
     "metadata": {},
     "output_type": "execute_result"
    }
   ],
   "source": [
    "sensitivity1"
   ]
  },
  {
   "cell_type": "code",
   "execution_count": 465,
   "metadata": {},
   "outputs": [
    {
     "data": {
      "text/plain": [
       "{'air': 0.9396616111576862,\n",
       " 'mine': 0.9542371944747738,\n",
       " 'coin': 0.9694515528857449,\n",
       " 'pin': 0.9770599692367768,\n",
       " 'stone': 0.9662465001999886,\n",
       " 'fibersheet': 0.9609542857142858}"
      ]
     },
     "execution_count": 465,
     "metadata": {},
     "output_type": "execute_result"
    }
   ],
   "source": [
    "specificity1"
   ]
  },
  {
   "cell_type": "code",
   "execution_count": 466,
   "metadata": {},
   "outputs": [
    {
     "data": {
      "text/plain": [
       "<sklearn.metrics._plot.confusion_matrix.ConfusionMatrixDisplay at 0x152fc0dc820>"
      ]
     },
     "execution_count": 466,
     "metadata": {},
     "output_type": "execute_result"
    },
    {
     "data": {
      "image/png": "[encoded data removed]",
      "text/plain": [
       "<Figure size 720x720 with 2 Axes>"
      ]
     },
     "metadata": {
      "needs_background": "light"
     },
     "output_type": "display_data"
    }
   ],
   "source": [
    "plot_confusion_matrix(clf_negative, Xn_test, yn_test) "
   ]
  },
  {
   "cell_type": "markdown",
   "metadata": {},
   "source": [
    "without Augmentation"
   ]
  },
  {
   "cell_type": "markdown",
   "metadata": {},
   "source": []
  },
  {
   "cell_type": "code",
   "execution_count": 6,
   "metadata": {},
   "outputs": [
    {
     "name": "stdout",
     "output_type": "stream",
     "text": [
      "/home/saad/latest 5.2 data/new/pin.csv\n",
      "(155, 2972)\n",
      "metal\n",
      "/home/saad/latest 5.2 data/new/air.csv\n",
      "(155, 3000)\n",
      "non-metal\n",
      "/home/saad/latest 5.2 data/new/fibersheet.csv\n",
      "(155, 3000)\n",
      "non-metal\n",
      "/home/saad/latest 5.2 data/new/stone.csv\n",
      "(155, 3000)\n",
      "non-metal\n",
      "/home/saad/latest 5.2 data/new/mine.csv\n",
      "(155, 4000)\n",
      "metal\n",
      "/home/saad/latest 5.2 data/new/coin.csv\n",
      "(155, 3000)\n",
      "metal\n"
     ]
    }
   ],
   "source": [
    "path = '/home/saad/latest 5.2 data/new' # use your path\n",
    "all_files = glob.glob(path + \"/*.csv\")\n",
    "\n",
    "count=0\n",
    "for a in all_files:\n",
    "    print(a)\n",
    "    data=pd.read_csv(a)\n",
    "\n",
    "    list_cord=list(data.loc[:,'1'])\n",
    "#     list_cord=list_cord[200:]\n",
    "    diff=[]\n",
    "    peak=[]\n",
    "    peak1=[]\n",
    "    l_50=[]\n",
    "    collect={}\n",
    "    i=57\n",
    "    peaklen=155\n",
    "    w=1\n",
    "    while i <len(list_cord):\n",
    "        if list_cord[i]>55000:\n",
    "          \n",
    "            i_new_start = i-35\n",
    "            i_new_end = i+120\n",
    "            peak=list_cord[i_new_start:i_new_end]\n",
    "            #     peak1=list_cord[i_new_start+g:i_new_end+g]\n",
    "            # #print(i_new_start,i_new_end)\n",
    "\n",
    " \n",
    "        #print(w)\n",
    "        #print(len(peak),len(peak1),len(peak2),len(peak3),len(peak4),len(peak5),len(peak6),len(peak7),len(peak8),len(peak9),len(peak10))\n",
    "            if len(peak)<peaklen:\n",
    "                d=peaklen-len(peak)\n",
    "\n",
    "                for f in range(0,d):\n",
    "                    peak.append(peak[-1:][0])                \n",
    "            #print(len(peak),len(peak1),len(peak2),len(peak3),len(peak4),len(peak5),len(peak6),len(peak7),len(peak8),len(peak9),len(peak10))\n",
    "\n",
    "            collect[w]=peak\n",
    "            w=w+1\n",
    "            i=i+165\n",
    "        i=i+1\n",
    "    dump=pd.DataFrame(collect)\n",
    "    dump=dump.iloc[:,dump.columns!=0]\n",
    "    #dump.iloc[:,:].plot()\n",
    "    print(dump.shape)\n",
    "    file_n=all_files[count][-30:].split('/')[-1]\n",
    "    #print(file_n)\n",
    "    dump=pd.DataFrame(collect)\n",
    "    dump=dump.iloc[:,dump.columns!=0]\n",
    "    \n",
    "    if file_n.split(\".\")[0] in metals:\n",
    "        print(\"metal\")\n",
    "        pd.DataFrame(collect).to_csv( '/home/saad/latest 5.2 data/simple/metal/positives//'+file_n,header=False)\n",
    "        count=count+1\n",
    "    else:\n",
    "        print(\"non-metal\")\n",
    "        pd.DataFrame(collect).to_csv( '/home/saad/latest 5.2 data/simple/non-metal/positives//'+file_n,header=False)\n",
    "        count=count+1\n"
   ]
  },
  {
   "cell_type": "code",
   "execution_count": 10,
   "metadata": {},
   "outputs": [
    {
     "name": "stdout",
     "output_type": "stream",
     "text": [
      "/home/saad/latest 5.2 data/new/pin.csv\n",
      "(140, 3000)\n",
      "metal\n",
      "/home/saad/latest 5.2 data/new/air.csv\n",
      "(140, 3000)\n",
      "non-metal\n",
      "/home/saad/latest 5.2 data/new/fibersheet.csv\n",
      "(140, 3000)\n",
      "non-metal\n",
      "/home/saad/latest 5.2 data/new/stone.csv\n",
      "(140, 3000)\n",
      "non-metal\n",
      "/home/saad/latest 5.2 data/new/mine.csv\n",
      "(140, 4000)\n",
      "metal\n",
      "/home/saad/latest 5.2 data/new/coin.csv\n",
      "(140, 3000)\n",
      "metal\n"
     ]
    }
   ],
   "source": [
    "path = '/home/saad/latest 5.2 data/new' # use your path\n",
    "all_files = glob.glob(path + \"/*.csv\")\n",
    "\n",
    "count=0\n",
    "for a in all_files:\n",
    "    print(a)\n",
    "    data=pd.read_csv(a)\n",
    "\n",
    "    list_cord=list(data.loc[:,'2'])\n",
    "    peak=[]\n",
    "    peak1=[]\n",
    "    collect={}\n",
    "    i=65\n",
    "    peaklen=140\n",
    "    w=1\n",
    "    while i <len(list_cord):\n",
    "        if list_cord[i]>55000:\n",
    "            i_new_start=i-50\n",
    "            i_new_end=i+90\n",
    "            peak=list_cord[i_new_start:i_new_end]\n",
    "            if len(peak)<peaklen:\n",
    "                d=peaklen-len(peak)\n",
    "                for f in range(0,d):\n",
    "                    peak.append(peak[-1:][0])\n",
    "            collect[w]=peak\n",
    "            w=w+1\n",
    "            i=i+135\n",
    "        i=i+1\n",
    "    dump=pd.DataFrame(collect)\n",
    "    print(dump.shape)\n",
    "    dump=dump.iloc[:,dump.columns!=0]\n",
    "    file_n=all_files[count][-30:].split('/')[-1]\n",
    "    if file_n.split(\".\")[0] in metals:\n",
    "        print(\"metal\")\n",
    "        pd.DataFrame(collect).to_csv( '/home/saad/latest 5.2 data/simple/metal/negatives//'+file_n,header=False)\n",
    "        count=count+1\n",
    "    else:\n",
    "        print(\"non-metal\")\n",
    "        pd.DataFrame(collect).to_csv( '/home/saad/latest 5.2 data/simple/non-metal/negatives//'+file_n,header=False)\n",
    "        count=count+1"
   ]
  },
  {
   "cell_type": "code",
   "execution_count": 2,
   "metadata": {},
   "outputs": [
    {
     "name": "stdout",
     "output_type": "stream",
     "text": [
      "/home/saad/latest 5.2 data/simple/metal/positives/pin.csv /home/saad/latest 5.2 data/simple/metal/negatives/pin.csv\n",
      "pin.csv pin.csv\n",
      "pin pin\n",
      "(154, 2973) (139, 3001)\n",
      "/home/saad/latest 5.2 data/simple/metal/positives/mine.csv /home/saad/latest 5.2 data/simple/metal/negatives/mine.csv\n",
      "mine.csv mine.csv\n",
      "mine mine\n",
      "(154, 4001) (139, 4001)\n",
      "/home/saad/latest 5.2 data/simple/metal/positives/coin.csv /home/saad/latest 5.2 data/simple/metal/negatives/coin.csv\n",
      "coin.csv coin.csv\n",
      "coin coin\n",
      "(154, 3001) (139, 3001)\n",
      "/home/saad/latest 5.2 data/simple/non-metal/positives/air.csv /home/saad/latest 5.2 data/simple/non-metal/negatives/air.csv\n",
      "air.csv air.csv\n",
      "air air\n",
      "/home/saad/latest 5.2 data/simple/non-metal/positives/fibersheet.csv /home/saad/latest 5.2 data/simple/non-metal/negatives/fibersheet.csv\n",
      "fibersheet.csv fibersheet.csv\n",
      "fibersheet fibersheet\n",
      "/home/saad/latest 5.2 data/simple/non-metal/positives/stone.csv /home/saad/latest 5.2 data/simple/non-metal/negatives/stone.csv\n",
      "stone.csv stone.csv\n",
      "stone stone\n",
      "(9000, 155) (9972, 155)\n",
      "(10000, 140) (9000, 140)\n"
     ]
    }
   ],
   "source": [
    "path_mp = '/home/saad/latest 5.2 data/simple/metal/positives' # use your path\n",
    "all_files_mp = glob.glob(path_mp + \"/*.csv\")\n",
    "path_np = '/home/saad/latest 5.2 data/simple/non-metal/positives' # use your path\n",
    "all_files_np = glob.glob(path_np + \"/*.csv\")\n",
    "path_mn = '/home/saad/latest 5.2 data/simple/metal/negatives' # use your path\n",
    "all_files_mn = glob.glob(path_mn + \"/*.csv\")\n",
    "path_nn = '/home/saad/latest 5.2 data/simple/non-metal/negatives' # use your path\n",
    "all_files_nn = glob.glob(path_nn + \"/*.csv\")\n",
    "df_mp=[]\n",
    "df_np=[]\n",
    "df_mn=[]\n",
    "df_nn=[]\n",
    "positive_metal={}\n",
    "negative_metal={}\n",
    "positive_non={}\n",
    "negative_non={}\n",
    "count=0\n",
    "for i,j in zip(all_files_mp,all_files_mn):\n",
    "    print(i,j)\n",
    "    s1=str(all_files_mp[count][-30:].split('/')[-1])\n",
    "    s2=str(all_files_mn[count][-30:].split('/')[-1])\n",
    "    print(s1,s2)\n",
    "    c1=[x for x in classes if s1.split('.')[0] in x][0]\n",
    "    c2=[x for x in classes if s2.split('.')[0] in x][0]\n",
    "    print(c1,c2)\n",
    "\n",
    "    metal_pos=pd.read_csv(i)\n",
    "    metal_neg=pd.read_csv(j)\n",
    "\n",
    "    print(metal_pos.shape,metal_neg.shape)\n",
    "\n",
    "    metal_pos=metal_pos.drop(columns=[metal_pos.columns[0]],axis=1).transpose()\n",
    "    metal_neg=metal_neg.drop(columns=[metal_neg.columns[0]],axis=1).transpose()\n",
    "    m_p=[]\n",
    "    m_n=[]\n",
    "\n",
    "    for a in range(0,metal_pos.shape[0]):\n",
    "        m_p.append(c1)\n",
    "    for a in range(0,metal_neg.shape[0]):\n",
    "        m_n.append(c2)\n",
    "    metal_pos['Material']=m_p\n",
    "    metal_neg['Material']=m_n\n",
    "    df_mp.append(metal_pos)\n",
    "    df_mn.append(metal_neg)\n",
    "    count=count+1\n",
    "    \n",
    "\n",
    "count1=0\n",
    "for i,j in zip(all_files_np,all_files_nn):\n",
    "    print(i,j)\n",
    "\n",
    "    non_pos=pd.read_csv(i)\n",
    "    non_neg=pd.read_csv(j)\n",
    "    s3=str(all_files_np[count1][-30:].split('/')[-1])\n",
    "    s4=str(all_files_nn[count1][-30:].split('/')[-1])\n",
    "    print(s3,s4)\n",
    "    c3=[x for x in classes if s3.split('.')[0] in x][0]\n",
    "    c4=[x for x in classes if s4.split('.')[0] in x][0]\n",
    "    print(c3,c4)\n",
    "    non_pos=non_pos.drop(columns=[non_pos.columns[0]],axis=1).transpose()\n",
    "    non_neg=non_neg.drop(columns=[non_neg.columns[0]],axis=1).transpose()\n",
    "\n",
    "    m_p=[]\n",
    "    m_n=[]\n",
    "\n",
    "    for a in range(0,non_pos.shape[0]):\n",
    "        m_p.append(c3)\n",
    "    for a in range(0,non_neg.shape[0]):\n",
    "        m_n.append(c4)\n",
    "    non_pos['Material']=m_p\n",
    "    non_neg['Material']=m_n\n",
    "\n",
    "    df_np.append(non_pos)\n",
    "    df_nn.append(non_neg)\n",
    "\n",
    "    positive_non={}\n",
    "    negative_non={}\n",
    "    count1=count1+1\n",
    "data_mp=pd.concat(df_mp, axis=0, ignore_index=True)\n",
    "data_np=pd.concat(df_np,axis=0,ignore_index=True)\n",
    "data_mn=pd.concat(df_mn,axis=0,ignore_index=True)\n",
    "data_nn=pd.concat(df_nn,axis=0,ignore_index=True)\n",
    "print(data_np.shape,data_mp.shape)\n",
    "print(data_mn.shape,data_nn.shape)\n",
    "data_fp=pd.concat([data_mp,data_np],axis=0,ignore_index=True)\n",
    "data_fn=pd.concat([data_mn,data_nn],axis=0,ignore_index=True)"
   ]
  },
  {
   "cell_type": "code",
   "execution_count": 3,
   "metadata": {},
   "outputs": [],
   "source": [
    "Xp=data_fp.iloc[:,0:-1]\n",
    "yp=data_fp.iloc[:,-1]\n",
    "Xn=data_fn.iloc[:,0:-1]\n",
    "yn=data_fn.iloc[:,-1]"
   ]
  },
  {
   "cell_type": "code",
   "execution_count": 4,
   "metadata": {},
   "outputs": [],
   "source": [
    "def my_Test_train(X,y,test_size):\n",
    "    X_train, X_test, y_train, y_test = train_test_split(X, y, test_size=test_size, random_state=42,shuffle=True)\n",
    "    print(f'Train X = {X_train.shape}\\tTrain y = {y_train.shape}\\tTest X = {X_test.shape}\\tTest y = {y_test.shape}')\n",
    "    return (X_train, X_test, y_train, y_test)"
   ]
  },
  {
   "cell_type": "code",
   "execution_count": 6,
   "metadata": {},
   "outputs": [
    {
     "name": "stdout",
     "output_type": "stream",
     "text": [
      "Train X = (15177, 154)\tTrain y = (15177,)\tTest X = (3795, 154)\tTest y = (3795,)\n"
     ]
    }
   ],
   "source": [
    "x_train,x_test,y_train,y_test=my_Test_train(Xp,yp,0.2)"
   ]
  },
  {
   "cell_type": "code",
   "execution_count": 7,
   "metadata": {},
   "outputs": [],
   "source": [
    "nb_classes = len(np.unique(np.concatenate((y_train, y_test), axis=0)))\n",
    "y_train=np.array(y_train)\n",
    "x_train=np.array(x_train).astype('float')\n",
    "x_test=np.array(x_test).astype('float')\n",
    "y_test=np.array(y_test)\n",
    "# transform the labels from integers to one hot vectors\n",
    "enc = sklearn.preprocessing.OneHotEncoder(categories='auto')\n",
    "enc.fit(np.concatenate((y_train, y_test), axis=0).reshape(-1, 1))\n",
    "y_train = enc.transform(y_train.reshape(-1, 1)).toarray()\n",
    "y_test = enc.transform(y_test.reshape(-1, 1)).toarray()\n",
    "\n",
    "# save orignal y because later we will use binary\n",
    "y_true = np.argmax(y_test, axis=1)\n",
    "\n",
    "if len(x_train.shape) == 2:  # if univariate\n",
    "    # add a dimension to make it multivariate with one dimension \n",
    "    x_train = x_train.reshape((x_train.shape[0], x_train.shape[1], 1))\n",
    "    x_test = x_test.reshape((x_test.shape[0], x_test.shape[1], 1))"
   ]
  },
  {
   "cell_type": "code",
   "execution_count": 8,
   "metadata": {},
   "outputs": [],
   "source": [
    "from classifiers import resnet_small\n",
    "path_p='/home/saad/clean_positive/'"
   ]
  },
  {
   "cell_type": "code",
   "execution_count": 9,
   "metadata": {},
   "outputs": [
    {
     "name": "stderr",
     "output_type": "stream",
     "text": [
      "2021-09-24 17:55:59.181471: I tensorflow/stream_executor/platform/default/dso_loader.cc:44] Successfully opened dynamic library libcuda.so.1\n",
      "2021-09-24 17:55:59.315517: I tensorflow/core/common_runtime/gpu/gpu_device.cc:1618] Found device 0 with properties: \n",
      "name: NVIDIA GeForce RTX 2080 Ti major: 7 minor: 5 memoryClockRate(GHz): 1.545\n",
      "pciBusID: 0000:1a:00.0\n",
      "2021-09-24 17:55:59.317306: I tensorflow/core/common_runtime/gpu/gpu_device.cc:1618] Found device 1 with properties: \n",
      "name: NVIDIA GeForce RTX 2080 Ti major: 7 minor: 5 memoryClockRate(GHz): 1.545\n",
      "pciBusID: 0000:1b:00.0\n",
      "2021-09-24 17:55:59.319060: I tensorflow/core/common_runtime/gpu/gpu_device.cc:1618] Found device 2 with properties: \n",
      "name: NVIDIA GeForce RTX 2080 Ti major: 7 minor: 5 memoryClockRate(GHz): 1.545\n",
      "pciBusID: 0000:1c:00.0\n",
      "2021-09-24 17:55:59.320800: I tensorflow/core/common_runtime/gpu/gpu_device.cc:1618] Found device 3 with properties: \n",
      "name: NVIDIA GeForce RTX 2080 Ti major: 7 minor: 5 memoryClockRate(GHz): 1.545\n",
      "pciBusID: 0000:1d:00.0\n",
      "2021-09-24 17:55:59.322536: I tensorflow/core/common_runtime/gpu/gpu_device.cc:1618] Found device 4 with properties: \n",
      "name: NVIDIA GeForce RTX 2080 Ti major: 7 minor: 5 memoryClockRate(GHz): 1.545\n",
      "pciBusID: 0000:1e:00.0\n",
      "2021-09-24 17:55:59.324285: I tensorflow/core/common_runtime/gpu/gpu_device.cc:1618] Found device 5 with properties: \n",
      "name: NVIDIA GeForce RTX 2080 Ti major: 7 minor: 5 memoryClockRate(GHz): 1.545\n",
      "pciBusID: 0000:3d:00.0\n",
      "2021-09-24 17:55:59.326023: I tensorflow/core/common_runtime/gpu/gpu_device.cc:1618] Found device 6 with properties: \n",
      "name: NVIDIA GeForce RTX 2080 Ti major: 7 minor: 5 memoryClockRate(GHz): 1.545\n",
      "pciBusID: 0000:3e:00.0\n",
      "2021-09-24 17:55:59.327773: I tensorflow/core/common_runtime/gpu/gpu_device.cc:1618] Found device 7 with properties: \n",
      "name: NVIDIA GeForce RTX 2080 Ti major: 7 minor: 5 memoryClockRate(GHz): 1.545\n",
      "pciBusID: 0000:3f:00.0\n",
      "2021-09-24 17:55:59.329511: I tensorflow/core/common_runtime/gpu/gpu_device.cc:1618] Found device 8 with properties: \n",
      "name: NVIDIA GeForce RTX 2080 Ti major: 7 minor: 5 memoryClockRate(GHz): 1.545\n",
      "pciBusID: 0000:40:00.0\n",
      "2021-09-24 17:55:59.331274: I tensorflow/core/common_runtime/gpu/gpu_device.cc:1618] Found device 9 with properties: \n",
      "name: NVIDIA GeForce RTX 2080 Ti major: 7 minor: 5 memoryClockRate(GHz): 1.545\n",
      "pciBusID: 0000:41:00.0\n",
      "2021-09-24 17:55:59.331522: I tensorflow/stream_executor/platform/default/dso_loader.cc:44] Successfully opened dynamic library libcudart.so.10.0\n",
      "2021-09-24 17:55:59.332795: I tensorflow/stream_executor/platform/default/dso_loader.cc:44] Successfully opened dynamic library libcublas.so.10.0\n",
      "2021-09-24 17:55:59.334044: I tensorflow/stream_executor/platform/default/dso_loader.cc:44] Successfully opened dynamic library libcufft.so.10.0\n",
      "2021-09-24 17:55:59.334399: I tensorflow/stream_executor/platform/default/dso_loader.cc:44] Successfully opened dynamic library libcurand.so.10.0\n",
      "2021-09-24 17:55:59.335945: I tensorflow/stream_executor/platform/default/dso_loader.cc:44] Successfully opened dynamic library libcusolver.so.10.0\n",
      "2021-09-24 17:55:59.337114: I tensorflow/stream_executor/platform/default/dso_loader.cc:44] Successfully opened dynamic library libcusparse.so.10.0\n",
      "2021-09-24 17:55:59.340802: I tensorflow/stream_executor/platform/default/dso_loader.cc:44] Successfully opened dynamic library libcudnn.so.7\n",
      "2021-09-24 17:55:59.372814: I tensorflow/core/common_runtime/gpu/gpu_device.cc:1746] Adding visible gpu devices: 0, 1, 2, 3, 4, 5, 6, 7, 8, 9\n",
      "2021-09-24 17:55:59.373563: I tensorflow/core/platform/cpu_feature_guard.cc:142] Your CPU supports instructions that this TensorFlow binary was not compiled to use: SSE4.1 SSE4.2 AVX AVX2 AVX512F FMA\n",
      "2021-09-24 17:55:59.387989: I tensorflow/core/platform/profile_utils/cpu_utils.cc:94] CPU Frequency: 2100000000 Hz\n",
      "2021-09-24 17:55:59.395440: I tensorflow/compiler/xla/service/service.cc:168] XLA service 0x55c8b931f980 executing computations on platform Host. Devices:\n",
      "2021-09-24 17:55:59.395491: I tensorflow/compiler/xla/service/service.cc:175]   StreamExecutor device (0): Host, Default Version\n",
      "2021-09-24 17:56:00.860449: I tensorflow/core/common_runtime/gpu/gpu_device.cc:1618] Found device 0 with properties: \n",
      "name: NVIDIA GeForce RTX 2080 Ti major: 7 minor: 5 memoryClockRate(GHz): 1.545\n",
      "pciBusID: 0000:1a:00.0\n",
      "2021-09-24 17:56:00.861582: I tensorflow/core/common_runtime/gpu/gpu_device.cc:1618] Found device 1 with properties: \n",
      "name: NVIDIA GeForce RTX 2080 Ti major: 7 minor: 5 memoryClockRate(GHz): 1.545\n",
      "pciBusID: 0000:1b:00.0\n",
      "2021-09-24 17:56:00.862661: I tensorflow/core/common_runtime/gpu/gpu_device.cc:1618] Found device 2 with properties: \n",
      "name: NVIDIA GeForce RTX 2080 Ti major: 7 minor: 5 memoryClockRate(GHz): 1.545\n",
      "pciBusID: 0000:1c:00.0\n",
      "2021-09-24 17:56:00.863774: I tensorflow/core/common_runtime/gpu/gpu_device.cc:1618] Found device 3 with properties: \n",
      "name: NVIDIA GeForce RTX 2080 Ti major: 7 minor: 5 memoryClockRate(GHz): 1.545\n",
      "pciBusID: 0000:1d:00.0\n",
      "2021-09-24 17:56:00.864892: I tensorflow/core/common_runtime/gpu/gpu_device.cc:1618] Found device 4 with properties: \n",
      "name: NVIDIA GeForce RTX 2080 Ti major: 7 minor: 5 memoryClockRate(GHz): 1.545\n",
      "pciBusID: 0000:1e:00.0\n",
      "2021-09-24 17:56:00.865953: I tensorflow/core/common_runtime/gpu/gpu_device.cc:1618] Found device 5 with properties: \n",
      "name: NVIDIA GeForce RTX 2080 Ti major: 7 minor: 5 memoryClockRate(GHz): 1.545\n",
      "pciBusID: 0000:3d:00.0\n",
      "2021-09-24 17:56:00.867041: I tensorflow/core/common_runtime/gpu/gpu_device.cc:1618] Found device 6 with properties: \n",
      "name: NVIDIA GeForce RTX 2080 Ti major: 7 minor: 5 memoryClockRate(GHz): 1.545\n",
      "pciBusID: 0000:3e:00.0\n",
      "2021-09-24 17:56:00.868139: I tensorflow/core/common_runtime/gpu/gpu_device.cc:1618] Found device 7 with properties: \n",
      "name: NVIDIA GeForce RTX 2080 Ti major: 7 minor: 5 memoryClockRate(GHz): 1.545\n",
      "pciBusID: 0000:3f:00.0\n",
      "2021-09-24 17:56:00.869234: I tensorflow/core/common_runtime/gpu/gpu_device.cc:1618] Found device 8 with properties: \n",
      "name: NVIDIA GeForce RTX 2080 Ti major: 7 minor: 5 memoryClockRate(GHz): 1.545\n",
      "pciBusID: 0000:40:00.0\n",
      "2021-09-24 17:56:00.870330: I tensorflow/core/common_runtime/gpu/gpu_device.cc:1618] Found device 9 with properties: \n",
      "name: NVIDIA GeForce RTX 2080 Ti major: 7 minor: 5 memoryClockRate(GHz): 1.545\n",
      "pciBusID: 0000:41:00.0\n",
      "2021-09-24 17:56:00.870387: I tensorflow/stream_executor/platform/default/dso_loader.cc:44] Successfully opened dynamic library libcudart.so.10.0\n",
      "2021-09-24 17:56:00.870398: I tensorflow/stream_executor/platform/default/dso_loader.cc:44] Successfully opened dynamic library libcublas.so.10.0\n",
      "2021-09-24 17:56:00.870408: I tensorflow/stream_executor/platform/default/dso_loader.cc:44] Successfully opened dynamic library libcufft.so.10.0\n",
      "2021-09-24 17:56:00.870417: I tensorflow/stream_executor/platform/default/dso_loader.cc:44] Successfully opened dynamic library libcurand.so.10.0\n",
      "2021-09-24 17:56:00.870426: I tensorflow/stream_executor/platform/default/dso_loader.cc:44] Successfully opened dynamic library libcusolver.so.10.0\n",
      "2021-09-24 17:56:00.870435: I tensorflow/stream_executor/platform/default/dso_loader.cc:44] Successfully opened dynamic library libcusparse.so.10.0\n",
      "2021-09-24 17:56:00.870445: I tensorflow/stream_executor/platform/default/dso_loader.cc:44] Successfully opened dynamic library libcudnn.so.7\n",
      "2021-09-24 17:56:00.891984: I tensorflow/core/common_runtime/gpu/gpu_device.cc:1746] Adding visible gpu devices: 0, 1, 2, 3, 4, 5, 6, 7, 8, 9\n",
      "2021-09-24 17:56:00.892027: I tensorflow/stream_executor/platform/default/dso_loader.cc:44] Successfully opened dynamic library libcudart.so.10.0\n",
      "2021-09-24 17:56:00.903696: I tensorflow/core/common_runtime/gpu/gpu_device.cc:1159] Device interconnect StreamExecutor with strength 1 edge matrix:\n",
      "2021-09-24 17:56:00.903710: I tensorflow/core/common_runtime/gpu/gpu_device.cc:1165]      0 1 2 3 4 5 6 7 8 9 \n",
      "2021-09-24 17:56:00.903714: I tensorflow/core/common_runtime/gpu/gpu_device.cc:1178] 0:   N N N N N N N N N N \n",
      "2021-09-24 17:56:00.903717: I tensorflow/core/common_runtime/gpu/gpu_device.cc:1178] 1:   N N N N N N N N N N \n",
      "2021-09-24 17:56:00.903720: I tensorflow/core/common_runtime/gpu/gpu_device.cc:1178] 2:   N N N N N N N N N N \n",
      "2021-09-24 17:56:00.903724: I tensorflow/core/common_runtime/gpu/gpu_device.cc:1178] 3:   N N N N N N N N N N \n",
      "2021-09-24 17:56:00.903727: I tensorflow/core/common_runtime/gpu/gpu_device.cc:1178] 4:   N N N N N N N N N N \n",
      "2021-09-24 17:56:00.903729: I tensorflow/core/common_runtime/gpu/gpu_device.cc:1178] 5:   N N N N N N N N N N \n",
      "2021-09-24 17:56:00.903732: I tensorflow/core/common_runtime/gpu/gpu_device.cc:1178] 6:   N N N N N N N N N N \n",
      "2021-09-24 17:56:00.903735: I tensorflow/core/common_runtime/gpu/gpu_device.cc:1178] 7:   N N N N N N N N N N \n",
      "2021-09-24 17:56:00.903737: I tensorflow/core/common_runtime/gpu/gpu_device.cc:1178] 8:   N N N N N N N N N N \n",
      "2021-09-24 17:56:00.903740: I tensorflow/core/common_runtime/gpu/gpu_device.cc:1178] 9:   N N N N N N N N N N \n",
      "2021-09-24 17:56:00.917019: I tensorflow/core/common_runtime/gpu/gpu_device.cc:1304] Created TensorFlow device (/job:localhost/replica:0/task:0/device:GPU:0 with 10171 MB memory) -> physical GPU (device: 0, name: NVIDIA GeForce RTX 2080 Ti, pci bus id: 0000:1a:00.0, compute capability: 7.5)\n",
      "2021-09-24 17:56:00.919756: I tensorflow/core/common_runtime/gpu/gpu_device.cc:1304] Created TensorFlow device (/job:localhost/replica:0/task:0/device:GPU:1 with 10171 MB memory) -> physical GPU (device: 1, name: NVIDIA GeForce RTX 2080 Ti, pci bus id: 0000:1b:00.0, compute capability: 7.5)\n",
      "2021-09-24 17:56:00.922490: I tensorflow/core/common_runtime/gpu/gpu_device.cc:1304] Created TensorFlow device (/job:localhost/replica:0/task:0/device:GPU:2 with 10171 MB memory) -> physical GPU (device: 2, name: NVIDIA GeForce RTX 2080 Ti, pci bus id: 0000:1c:00.0, compute capability: 7.5)\n",
      "2021-09-24 17:56:00.925171: I tensorflow/core/common_runtime/gpu/gpu_device.cc:1304] Created TensorFlow device (/job:localhost/replica:0/task:0/device:GPU:3 with 10171 MB memory) -> physical GPU (device: 3, name: NVIDIA GeForce RTX 2080 Ti, pci bus id: 0000:1d:00.0, compute capability: 7.5)\n",
      "2021-09-24 17:56:00.927882: I tensorflow/core/common_runtime/gpu/gpu_device.cc:1304] Created TensorFlow device (/job:localhost/replica:0/task:0/device:GPU:4 with 10171 MB memory) -> physical GPU (device: 4, name: NVIDIA GeForce RTX 2080 Ti, pci bus id: 0000:1e:00.0, compute capability: 7.5)\n",
      "2021-09-24 17:56:00.930612: I tensorflow/core/common_runtime/gpu/gpu_device.cc:1304] Created TensorFlow device (/job:localhost/replica:0/task:0/device:GPU:5 with 10171 MB memory) -> physical GPU (device: 5, name: NVIDIA GeForce RTX 2080 Ti, pci bus id: 0000:3d:00.0, compute capability: 7.5)\n",
      "2021-09-24 17:56:00.933323: I tensorflow/core/common_runtime/gpu/gpu_device.cc:1304] Created TensorFlow device (/job:localhost/replica:0/task:0/device:GPU:6 with 10171 MB memory) -> physical GPU (device: 6, name: NVIDIA GeForce RTX 2080 Ti, pci bus id: 0000:3e:00.0, compute capability: 7.5)\n",
      "2021-09-24 17:56:00.936025: I tensorflow/core/common_runtime/gpu/gpu_device.cc:1304] Created TensorFlow device (/job:localhost/replica:0/task:0/device:GPU:7 with 10171 MB memory) -> physical GPU (device: 7, name: NVIDIA GeForce RTX 2080 Ti, pci bus id: 0000:3f:00.0, compute capability: 7.5)\n",
      "2021-09-24 17:56:00.938697: I tensorflow/core/common_runtime/gpu/gpu_device.cc:1304] Created TensorFlow device (/job:localhost/replica:0/task:0/device:GPU:8 with 10171 MB memory) -> physical GPU (device: 8, name: NVIDIA GeForce RTX 2080 Ti, pci bus id: 0000:40:00.0, compute capability: 7.5)\n",
      "2021-09-24 17:56:00.941386: I tensorflow/core/common_runtime/gpu/gpu_device.cc:1304] Created TensorFlow device (/job:localhost/replica:0/task:0/device:GPU:9 with 10171 MB memory) -> physical GPU (device: 9, name: NVIDIA GeForce RTX 2080 Ti, pci bus id: 0000:41:00.0, compute capability: 7.5)\n",
      "2021-09-24 17:56:00.944105: I tensorflow/compiler/xla/service/service.cc:168] XLA service 0x55c8bd97ddf0 executing computations on platform CUDA. Devices:\n",
      "2021-09-24 17:56:00.944119: I tensorflow/compiler/xla/service/service.cc:175]   StreamExecutor device (0): NVIDIA GeForce RTX 2080 Ti, Compute Capability 7.5\n",
      "2021-09-24 17:56:00.944123: I tensorflow/compiler/xla/service/service.cc:175]   StreamExecutor device (1): NVIDIA GeForce RTX 2080 Ti, Compute Capability 7.5\n",
      "2021-09-24 17:56:00.944126: I tensorflow/compiler/xla/service/service.cc:175]   StreamExecutor device (2): NVIDIA GeForce RTX 2080 Ti, Compute Capability 7.5\n",
      "2021-09-24 17:56:00.944129: I tensorflow/compiler/xla/service/service.cc:175]   StreamExecutor device (3): NVIDIA GeForce RTX 2080 Ti, Compute Capability 7.5\n",
      "2021-09-24 17:56:00.944132: I tensorflow/compiler/xla/service/service.cc:175]   StreamExecutor device (4): NVIDIA GeForce RTX 2080 Ti, Compute Capability 7.5\n",
      "2021-09-24 17:56:00.944135: I tensorflow/compiler/xla/service/service.cc:175]   StreamExecutor device (5): NVIDIA GeForce RTX 2080 Ti, Compute Capability 7.5\n",
      "2021-09-24 17:56:00.944137: I tensorflow/compiler/xla/service/service.cc:175]   StreamExecutor device (6): NVIDIA GeForce RTX 2080 Ti, Compute Capability 7.5\n",
      "2021-09-24 17:56:00.944140: I tensorflow/compiler/xla/service/service.cc:175]   StreamExecutor device (7): NVIDIA GeForce RTX 2080 Ti, Compute Capability 7.5\n",
      "2021-09-24 17:56:00.944143: I tensorflow/compiler/xla/service/service.cc:175]   StreamExecutor device (8): NVIDIA GeForce RTX 2080 Ti, Compute Capability 7.5\n",
      "2021-09-24 17:56:00.944146: I tensorflow/compiler/xla/service/service.cc:175]   StreamExecutor device (9): NVIDIA GeForce RTX 2080 Ti, Compute Capability 7.5\n"
     ]
    },
    {
     "name": "stdout",
     "output_type": "stream",
     "text": [
      "Model: \"model\"\n",
      "__________________________________________________________________________________________________\n",
      "Layer (type)                    Output Shape         Param #     Connected to                     \n",
      "==================================================================================================\n",
      "input_1 (InputLayer)            [(None, 154, 1)]     0                                            \n",
      "__________________________________________________________________________________________________\n",
      "conv1d (Conv1D)                 (None, 154, 64)      576         input_1[0][0]                    \n",
      "__________________________________________________________________________________________________\n",
      "batch_normalization (BatchNorma (None, 154, 64)      256         conv1d[0][0]                     \n",
      "__________________________________________________________________________________________________\n",
      "activation (Activation)         (None, 154, 64)      0           batch_normalization[0][0]        \n",
      "__________________________________________________________________________________________________\n",
      "conv1d_1 (Conv1D)               (None, 154, 64)      20544       activation[0][0]                 \n",
      "__________________________________________________________________________________________________\n",
      "batch_normalization_1 (BatchNor (None, 154, 64)      256         conv1d_1[0][0]                   \n",
      "__________________________________________________________________________________________________\n",
      "activation_1 (Activation)       (None, 154, 64)      0           batch_normalization_1[0][0]      \n",
      "__________________________________________________________________________________________________\n",
      "conv1d_3 (Conv1D)               (None, 154, 64)      128         input_1[0][0]                    \n",
      "__________________________________________________________________________________________________\n",
      "conv1d_2 (Conv1D)               (None, 154, 64)      12352       activation_1[0][0]               \n",
      "__________________________________________________________________________________________________\n",
      "batch_normalization_3 (BatchNor (None, 154, 64)      256         conv1d_3[0][0]                   \n",
      "__________________________________________________________________________________________________\n",
      "batch_normalization_2 (BatchNor (None, 154, 64)      256         conv1d_2[0][0]                   \n",
      "__________________________________________________________________________________________________\n",
      "add (Add)                       (None, 154, 64)      0           batch_normalization_3[0][0]      \n",
      "                                                                 batch_normalization_2[0][0]      \n",
      "__________________________________________________________________________________________________\n",
      "activation_2 (Activation)       (None, 154, 64)      0           add[0][0]                        \n",
      "__________________________________________________________________________________________________\n",
      "conv1d_4 (Conv1D)               (None, 154, 128)     65664       activation_2[0][0]               \n",
      "__________________________________________________________________________________________________\n",
      "batch_normalization_4 (BatchNor (None, 154, 128)     512         conv1d_4[0][0]                   \n",
      "__________________________________________________________________________________________________\n",
      "activation_3 (Activation)       (None, 154, 128)     0           batch_normalization_4[0][0]      \n",
      "__________________________________________________________________________________________________\n",
      "conv1d_5 (Conv1D)               (None, 154, 128)     82048       activation_3[0][0]               \n",
      "__________________________________________________________________________________________________\n",
      "batch_normalization_5 (BatchNor (None, 154, 128)     512         conv1d_5[0][0]                   \n",
      "__________________________________________________________________________________________________\n",
      "activation_4 (Activation)       (None, 154, 128)     0           batch_normalization_5[0][0]      \n",
      "__________________________________________________________________________________________________\n",
      "conv1d_7 (Conv1D)               (None, 154, 128)     8320        activation_2[0][0]               \n",
      "__________________________________________________________________________________________________\n",
      "conv1d_6 (Conv1D)               (None, 154, 128)     49280       activation_4[0][0]               \n",
      "__________________________________________________________________________________________________\n",
      "batch_normalization_7 (BatchNor (None, 154, 128)     512         conv1d_7[0][0]                   \n",
      "__________________________________________________________________________________________________\n",
      "batch_normalization_6 (BatchNor (None, 154, 128)     512         conv1d_6[0][0]                   \n",
      "__________________________________________________________________________________________________\n",
      "add_1 (Add)                     (None, 154, 128)     0           batch_normalization_7[0][0]      \n",
      "                                                                 batch_normalization_6[0][0]      \n",
      "__________________________________________________________________________________________________\n",
      "activation_5 (Activation)       (None, 154, 128)     0           add_1[0][0]                      \n",
      "__________________________________________________________________________________________________\n",
      "conv1d_8 (Conv1D)               (None, 154, 128)     131200      activation_5[0][0]               \n",
      "__________________________________________________________________________________________________\n",
      "batch_normalization_8 (BatchNor (None, 154, 128)     512         conv1d_8[0][0]                   \n",
      "__________________________________________________________________________________________________\n",
      "activation_6 (Activation)       (None, 154, 128)     0           batch_normalization_8[0][0]      \n",
      "__________________________________________________________________________________________________\n",
      "conv1d_9 (Conv1D)               (None, 154, 128)     82048       activation_6[0][0]               \n",
      "__________________________________________________________________________________________________\n",
      "batch_normalization_9 (BatchNor (None, 154, 128)     512         conv1d_9[0][0]                   \n",
      "__________________________________________________________________________________________________\n",
      "activation_7 (Activation)       (None, 154, 128)     0           batch_normalization_9[0][0]      \n",
      "__________________________________________________________________________________________________\n",
      "conv1d_10 (Conv1D)              (None, 154, 128)     49280       activation_7[0][0]               \n",
      "__________________________________________________________________________________________________\n",
      "batch_normalization_11 (BatchNo (None, 154, 128)     512         activation_5[0][0]               \n",
      "__________________________________________________________________________________________________\n",
      "batch_normalization_10 (BatchNo (None, 154, 128)     512         conv1d_10[0][0]                  \n",
      "__________________________________________________________________________________________________\n",
      "add_2 (Add)                     (None, 154, 128)     0           batch_normalization_11[0][0]     \n",
      "                                                                 batch_normalization_10[0][0]     \n",
      "__________________________________________________________________________________________________\n",
      "activation_8 (Activation)       (None, 154, 128)     0           add_2[0][0]                      \n",
      "__________________________________________________________________________________________________\n",
      "global_average_pooling1d (Globa (None, 128)          0           activation_8[0][0]               \n",
      "__________________________________________________________________________________________________\n",
      "dense (Dense)                   (None, 6)            774         global_average_pooling1d[0][0]   \n",
      "==================================================================================================\n",
      "Total params: 507,334\n",
      "Trainable params: 504,774\n",
      "Non-trainable params: 2,560\n",
      "__________________________________________________________________________________________________\n",
      "Train on 15177 samples, validate on 3795 samples\n",
      "Epoch 1/30\n"
     ]
    },
    {
     "name": "stderr",
     "output_type": "stream",
     "text": [
      "2021-09-24 17:56:05.041035: I tensorflow/stream_executor/platform/default/dso_loader.cc:44] Successfully opened dynamic library libcublas.so.10.0\n",
      "2021-09-24 17:56:05.220672: I tensorflow/stream_executor/platform/default/dso_loader.cc:44] Successfully opened dynamic library libcudnn.so.7\n",
      "2021-09-24 17:56:06.155254: W tensorflow/stream_executor/cuda/redzone_allocator.cc:312] Not found: ./bin/ptxas not found\n",
      "Relying on driver to perform ptx compilation. This message will be only logged once.\n"
     ]
    },
    {
     "name": "stdout",
     "output_type": "stream",
     "text": [
      "15177/15177 [==============================] - 39s 3ms/sample - loss: 0.9184 - accuracy: 0.6070 - val_loss: 1.5617 - val_accuracy: 0.5402\n",
      "Epoch 2/30\n",
      "15177/15177 [==============================] - 33s 2ms/sample - loss: 0.7120 - accuracy: 0.6915 - val_loss: 1.8305 - val_accuracy: 0.4891\n",
      "Epoch 3/30\n",
      "15177/15177 [==============================] - 35s 2ms/sample - loss: 0.6431 - accuracy: 0.7231 - val_loss: 1.3592 - val_accuracy: 0.5149\n",
      "Epoch 4/30\n",
      "15177/15177 [==============================] - 35s 2ms/sample - loss: 0.5959 - accuracy: 0.7474 - val_loss: 4.1906 - val_accuracy: 0.3078\n",
      "Epoch 5/30\n",
      "15177/15177 [==============================] - 36s 2ms/sample - loss: 0.5825 - accuracy: 0.7544 - val_loss: 1.7613 - val_accuracy: 0.5410\n",
      "Epoch 6/30\n",
      "15177/15177 [==============================] - 36s 2ms/sample - loss: 0.5529 - accuracy: 0.7691 - val_loss: 1.9131 - val_accuracy: 0.5296\n",
      "Epoch 7/30\n",
      "15177/15177 [==============================] - 35s 2ms/sample - loss: 0.5191 - accuracy: 0.7853 - val_loss: 0.6290 - val_accuracy: 0.7123\n",
      "Epoch 8/30\n",
      "15177/15177 [==============================] - 36s 2ms/sample - loss: 0.4977 - accuracy: 0.7923 - val_loss: 5.3254 - val_accuracy: 0.4503\n",
      "Epoch 9/30\n",
      "15177/15177 [==============================] - 36s 2ms/sample - loss: 0.4657 - accuracy: 0.8105 - val_loss: 5.4150 - val_accuracy: 0.5220\n",
      "Epoch 10/30\n",
      "15177/15177 [==============================] - 36s 2ms/sample - loss: 0.4476 - accuracy: 0.8175 - val_loss: 1.6876 - val_accuracy: 0.5876\n",
      "Epoch 11/30\n",
      "15177/15177 [==============================] - 36s 2ms/sample - loss: 0.4240 - accuracy: 0.8291 - val_loss: 3.4537 - val_accuracy: 0.4169\n",
      "Epoch 12/30\n",
      "15177/15177 [==============================] - 36s 2ms/sample - loss: 0.4033 - accuracy: 0.8390 - val_loss: 1.5591 - val_accuracy: 0.6709\n",
      "Epoch 13/30\n",
      "15177/15177 [==============================] - 36s 2ms/sample - loss: 0.3801 - accuracy: 0.8471 - val_loss: 1.5331 - val_accuracy: 0.5763\n"
     ]
    },
    {
     "name": "stderr",
     "output_type": "stream",
     "text": [
      "findfont: Font family ['sans-serif'] not found. Falling back to DejaVu Sans.\n",
      "findfont: Generic family 'sans-serif' not found because none of the following families were found: Arial\n",
      "findfont: Font family ['sans-serif'] not found. Falling back to DejaVu Sans.\n",
      "findfont: Generic family 'sans-serif' not found because none of the following families were found: Arial\n"
     ]
    },
    {
     "data": {
      "text/html": [
       "<div>\n",
       "<style scoped>\n",
       "    .dataframe tbody tr th:only-of-type {\n",
       "        vertical-align: middle;\n",
       "    }\n",
       "\n",
       "    .dataframe tbody tr th {\n",
       "        vertical-align: top;\n",
       "    }\n",
       "\n",
       "    .dataframe thead th {\n",
       "        text-align: right;\n",
       "    }\n",
       "</style>\n",
       "<table border=\"1\" class=\"dataframe\">\n",
       "  <thead>\n",
       "    <tr style=\"text-align: right;\">\n",
       "      <th></th>\n",
       "      <th>precision</th>\n",
       "      <th>accuracy</th>\n",
       "      <th>recall</th>\n",
       "      <th>duration</th>\n",
       "    </tr>\n",
       "  </thead>\n",
       "  <tbody>\n",
       "    <tr>\n",
       "      <th>0</th>\n",
       "      <td>0.816533</td>\n",
       "      <td>0.712253</td>\n",
       "      <td>0.709041</td>\n",
       "      <td>463.044415</td>\n",
       "    </tr>\n",
       "  </tbody>\n",
       "</table>\n",
       "</div>"
      ],
      "text/plain": [
       "   precision  accuracy    recall    duration\n",
       "0   0.816533  0.712253  0.709041  463.044415"
      ]
     },
     "execution_count": 9,
     "metadata": {},
     "output_type": "execute_result"
    }
   ],
   "source": [
    "input_shape = x_train.shape[1:]\n",
    "classifier2=resnet_small.Classifier_RESNET(path_p, input_shape, nb_classes, verbose=True,build=True)\n",
    "# classifier = create_classifier(classifier_name, input_shape, nb_classes, output_directory)\n",
    "\n",
    "classifier2.fit(x_train, y_train, x_test, y_test, y_true,30,8)"
   ]
  },
  {
   "cell_type": "code",
   "execution_count": 10,
   "metadata": {},
   "outputs": [
    {
     "name": "stdout",
     "output_type": "stream",
     "text": [
      "Train X = (15200, 139)\tTrain y = (15200,)\tTest X = (3800, 139)\tTest y = (3800,)\n"
     ]
    }
   ],
   "source": [
    "x_train,x_test,y_train,y_test=my_Test_train(Xn,yn,0.2)"
   ]
  },
  {
   "cell_type": "code",
   "execution_count": 11,
   "metadata": {},
   "outputs": [],
   "source": [
    "nb_classes = len(np.unique(np.concatenate((y_train, y_test), axis=0)))\n",
    "y_train=np.array(y_train)\n",
    "x_train=np.array(x_train).astype('float')\n",
    "x_test=np.array(x_test).astype('float')\n",
    "y_test=np.array(y_test)\n",
    "# transform the labels from integers to one hot vectors\n",
    "enc = sklearn.preprocessing.OneHotEncoder(categories='auto')\n",
    "enc.fit(np.concatenate((y_train, y_test), axis=0).reshape(-1, 1))\n",
    "y_train = enc.transform(y_train.reshape(-1, 1)).toarray()\n",
    "y_test = enc.transform(y_test.reshape(-1, 1)).toarray()\n",
    "\n",
    "# save orignal y because later we will use binary\n",
    "y_true = np.argmax(y_test, axis=1)\n",
    "\n",
    "if len(x_train.shape) == 2:  # if univariate\n",
    "    # add a dimension to make it multivariate with one dimension \n",
    "    x_train = x_train.reshape((x_train.shape[0], x_train.shape[1], 1))\n",
    "    x_test = x_test.reshape((x_test.shape[0], x_test.shape[1], 1))"
   ]
  },
  {
   "cell_type": "code",
   "execution_count": 12,
   "metadata": {},
   "outputs": [],
   "source": [
    "from classifiers import resnet_small\n",
    "path_p='/home/saad/clean_negative/'\n"
   ]
  },
  {
   "cell_type": "code",
   "execution_count": 13,
   "metadata": {},
   "outputs": [
    {
     "name": "stdout",
     "output_type": "stream",
     "text": [
      "Model: \"model\"\n",
      "__________________________________________________________________________________________________\n",
      "Layer (type)                    Output Shape         Param #     Connected to                     \n",
      "==================================================================================================\n",
      "input_1 (InputLayer)            [(None, 139, 1)]     0                                            \n",
      "__________________________________________________________________________________________________\n",
      "conv1d (Conv1D)                 (None, 139, 64)      576         input_1[0][0]                    \n",
      "__________________________________________________________________________________________________\n",
      "batch_normalization (BatchNorma (None, 139, 64)      256         conv1d[0][0]                     \n",
      "__________________________________________________________________________________________________\n",
      "activation (Activation)         (None, 139, 64)      0           batch_normalization[0][0]        \n",
      "__________________________________________________________________________________________________\n",
      "conv1d_1 (Conv1D)               (None, 139, 64)      20544       activation[0][0]                 \n",
      "__________________________________________________________________________________________________\n",
      "batch_normalization_1 (BatchNor (None, 139, 64)      256         conv1d_1[0][0]                   \n",
      "__________________________________________________________________________________________________\n",
      "activation_1 (Activation)       (None, 139, 64)      0           batch_normalization_1[0][0]      \n",
      "__________________________________________________________________________________________________\n",
      "conv1d_3 (Conv1D)               (None, 139, 64)      128         input_1[0][0]                    \n",
      "__________________________________________________________________________________________________\n",
      "conv1d_2 (Conv1D)               (None, 139, 64)      12352       activation_1[0][0]               \n",
      "__________________________________________________________________________________________________\n",
      "batch_normalization_3 (BatchNor (None, 139, 64)      256         conv1d_3[0][0]                   \n",
      "__________________________________________________________________________________________________\n",
      "batch_normalization_2 (BatchNor (None, 139, 64)      256         conv1d_2[0][0]                   \n",
      "__________________________________________________________________________________________________\n",
      "add (Add)                       (None, 139, 64)      0           batch_normalization_3[0][0]      \n",
      "                                                                 batch_normalization_2[0][0]      \n",
      "__________________________________________________________________________________________________\n",
      "activation_2 (Activation)       (None, 139, 64)      0           add[0][0]                        \n",
      "__________________________________________________________________________________________________\n",
      "conv1d_4 (Conv1D)               (None, 139, 128)     65664       activation_2[0][0]               \n",
      "__________________________________________________________________________________________________\n",
      "batch_normalization_4 (BatchNor (None, 139, 128)     512         conv1d_4[0][0]                   \n",
      "__________________________________________________________________________________________________\n",
      "activation_3 (Activation)       (None, 139, 128)     0           batch_normalization_4[0][0]      \n",
      "__________________________________________________________________________________________________\n",
      "conv1d_5 (Conv1D)               (None, 139, 128)     82048       activation_3[0][0]               \n",
      "__________________________________________________________________________________________________\n",
      "batch_normalization_5 (BatchNor (None, 139, 128)     512         conv1d_5[0][0]                   \n",
      "__________________________________________________________________________________________________\n",
      "activation_4 (Activation)       (None, 139, 128)     0           batch_normalization_5[0][0]      \n",
      "__________________________________________________________________________________________________\n",
      "conv1d_7 (Conv1D)               (None, 139, 128)     8320        activation_2[0][0]               \n",
      "__________________________________________________________________________________________________\n",
      "conv1d_6 (Conv1D)               (None, 139, 128)     49280       activation_4[0][0]               \n",
      "__________________________________________________________________________________________________\n",
      "batch_normalization_7 (BatchNor (None, 139, 128)     512         conv1d_7[0][0]                   \n",
      "__________________________________________________________________________________________________\n",
      "batch_normalization_6 (BatchNor (None, 139, 128)     512         conv1d_6[0][0]                   \n",
      "__________________________________________________________________________________________________\n",
      "add_1 (Add)                     (None, 139, 128)     0           batch_normalization_7[0][0]      \n",
      "                                                                 batch_normalization_6[0][0]      \n",
      "__________________________________________________________________________________________________\n",
      "activation_5 (Activation)       (None, 139, 128)     0           add_1[0][0]                      \n",
      "__________________________________________________________________________________________________\n",
      "conv1d_8 (Conv1D)               (None, 139, 128)     131200      activation_5[0][0]               \n",
      "__________________________________________________________________________________________________\n",
      "batch_normalization_8 (BatchNor (None, 139, 128)     512         conv1d_8[0][0]                   \n",
      "__________________________________________________________________________________________________\n",
      "activation_6 (Activation)       (None, 139, 128)     0           batch_normalization_8[0][0]      \n",
      "__________________________________________________________________________________________________\n",
      "conv1d_9 (Conv1D)               (None, 139, 128)     82048       activation_6[0][0]               \n",
      "__________________________________________________________________________________________________\n",
      "batch_normalization_9 (BatchNor (None, 139, 128)     512         conv1d_9[0][0]                   \n",
      "__________________________________________________________________________________________________\n",
      "activation_7 (Activation)       (None, 139, 128)     0           batch_normalization_9[0][0]      \n",
      "__________________________________________________________________________________________________\n",
      "conv1d_10 (Conv1D)              (None, 139, 128)     49280       activation_7[0][0]               \n",
      "__________________________________________________________________________________________________\n",
      "batch_normalization_11 (BatchNo (None, 139, 128)     512         activation_5[0][0]               \n",
      "__________________________________________________________________________________________________\n",
      "batch_normalization_10 (BatchNo (None, 139, 128)     512         conv1d_10[0][0]                  \n",
      "__________________________________________________________________________________________________\n",
      "add_2 (Add)                     (None, 139, 128)     0           batch_normalization_11[0][0]     \n",
      "                                                                 batch_normalization_10[0][0]     \n",
      "__________________________________________________________________________________________________\n",
      "activation_8 (Activation)       (None, 139, 128)     0           add_2[0][0]                      \n",
      "__________________________________________________________________________________________________\n",
      "global_average_pooling1d (Globa (None, 128)          0           activation_8[0][0]               \n",
      "__________________________________________________________________________________________________\n",
      "dense (Dense)                   (None, 6)            774         global_average_pooling1d[0][0]   \n",
      "==================================================================================================\n",
      "Total params: 507,334\n",
      "Trainable params: 504,774\n",
      "Non-trainable params: 2,560\n",
      "__________________________________________________________________________________________________\n",
      "Train on 15200 samples, validate on 3800 samples\n",
      "Epoch 1/30\n",
      "15200/15200 [==============================] - 28s 2ms/sample - loss: 0.8339 - accuracy: 0.6488 - val_loss: 2.8840 - val_accuracy: 0.4926\n",
      "Epoch 2/30\n",
      "15200/15200 [==============================] - 25s 2ms/sample - loss: 0.5848 - accuracy: 0.7734 - val_loss: 1.6991 - val_accuracy: 0.5463\n",
      "Epoch 3/30\n",
      "15200/15200 [==============================] - 26s 2ms/sample - loss: 0.4724 - accuracy: 0.8295 - val_loss: 2.3543 - val_accuracy: 0.4939\n",
      "Epoch 4/30\n",
      "15200/15200 [==============================] - 25s 2ms/sample - loss: 0.4178 - accuracy: 0.8455 - val_loss: 2.8102 - val_accuracy: 0.5366\n",
      "Epoch 5/30\n",
      "15200/15200 [==============================] - 25s 2ms/sample - loss: 0.3773 - accuracy: 0.8604 - val_loss: 2.7754 - val_accuracy: 0.5300\n",
      "Epoch 6/30\n",
      "15200/15200 [==============================] - 26s 2ms/sample - loss: 0.3416 - accuracy: 0.8722 - val_loss: 0.5437 - val_accuracy: 0.7982\n",
      "Epoch 7/30\n",
      "15200/15200 [==============================] - 26s 2ms/sample - loss: 0.3138 - accuracy: 0.8821 - val_loss: 0.9190 - val_accuracy: 0.6658\n",
      "Epoch 8/30\n",
      "15200/15200 [==============================] - 25s 2ms/sample - loss: 0.2812 - accuracy: 0.8949 - val_loss: 0.7792 - val_accuracy: 0.7382\n",
      "Epoch 9/30\n",
      "15200/15200 [==============================] - 26s 2ms/sample - loss: 0.2640 - accuracy: 0.9018 - val_loss: 1.2258 - val_accuracy: 0.6884\n",
      "Epoch 10/30\n",
      "15200/15200 [==============================] - 26s 2ms/sample - loss: 0.2469 - accuracy: 0.9072 - val_loss: 2.9414 - val_accuracy: 0.5013\n",
      "Epoch 11/30\n",
      "15200/15200 [==============================] - 26s 2ms/sample - loss: 0.2248 - accuracy: 0.9155 - val_loss: 3.2109 - val_accuracy: 0.5497\n",
      "Epoch 12/30\n",
      "15200/15200 [==============================] - 25s 2ms/sample - loss: 0.2131 - accuracy: 0.9197 - val_loss: 1.8088 - val_accuracy: 0.6750\n"
     ]
    },
    {
     "data": {
      "text/html": [
       "<div>\n",
       "<style scoped>\n",
       "    .dataframe tbody tr th:only-of-type {\n",
       "        vertical-align: middle;\n",
       "    }\n",
       "\n",
       "    .dataframe tbody tr th {\n",
       "        vertical-align: top;\n",
       "    }\n",
       "\n",
       "    .dataframe thead th {\n",
       "        text-align: right;\n",
       "    }\n",
       "</style>\n",
       "<table border=\"1\" class=\"dataframe\">\n",
       "  <thead>\n",
       "    <tr style=\"text-align: right;\">\n",
       "      <th></th>\n",
       "      <th>precision</th>\n",
       "      <th>accuracy</th>\n",
       "      <th>recall</th>\n",
       "      <th>duration</th>\n",
       "    </tr>\n",
       "  </thead>\n",
       "  <tbody>\n",
       "    <tr>\n",
       "      <th>0</th>\n",
       "      <td>0.84521</td>\n",
       "      <td>0.798158</td>\n",
       "      <td>0.781987</td>\n",
       "      <td>308.638857</td>\n",
       "    </tr>\n",
       "  </tbody>\n",
       "</table>\n",
       "</div>"
      ],
      "text/plain": [
       "   precision  accuracy    recall    duration\n",
       "0    0.84521  0.798158  0.781987  308.638857"
      ]
     },
     "execution_count": 13,
     "metadata": {},
     "output_type": "execute_result"
    }
   ],
   "source": [
    "input_shape = x_train.shape[1:]\n",
    "classifier1=resnet_small.Classifier_RESNET(path_p, input_shape, nb_classes, verbose=True,build=True)\n",
    "# classifier = create_classifier(classifier_name, input_shape, nb_classes, output_directory)\n",
    "\n",
    "classifier1.fit(x_train, y_train, x_test, y_test, y_true,30,8)"
   ]
  },
  {
   "cell_type": "code",
   "execution_count": null,
   "metadata": {},
   "outputs": [],
   "source": []
  }
 ],
 "metadata": {
  "interpreter": {
   "hash": "101490c927386acfffba3caea1ed2ed26b4f4bfe82e8991512466bbac1c17318"
  },
  "kernelspec": {
   "display_name": "Python 3.7.6 64-bit ('new_tf': conda)",
   "name": "python3"
  },
  "language_info": {
   "codemirror_mode": {
    "name": "ipython",
    "version": 3
   },
   "file_extension": ".py",
   "mimetype": "text/x-python",
   "name": "python",
   "nbconvert_exporter": "python",
   "pygments_lexer": "ipython3",
   "version": "3.7.6"
  }
 },
 "nbformat": 4,
 "nbformat_minor": 5
}
